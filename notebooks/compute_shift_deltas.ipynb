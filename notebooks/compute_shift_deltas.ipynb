{
 "cells": [
  {
   "cell_type": "code",
   "execution_count": 1,
   "id": "c872eeb4",
   "metadata": {},
   "outputs": [],
   "source": [
    "from collections import defaultdict\n",
    "import glob\n",
    "import numpy as np\n",
    "import os\n",
    "import re\n",
    "\n",
    "import pandas as pd\n",
    "from tqdm import tqdm"
   ]
  },
  {
   "cell_type": "code",
   "execution_count": 40,
   "id": "82b5acd9",
   "metadata": {},
   "outputs": [],
   "source": [
    "# delta y"
   ]
  },
  {
   "cell_type": "code",
   "execution_count": 43,
   "id": "fc7208c8",
   "metadata": {},
   "outputs": [],
   "source": [
    "from tablebench.core.tabular_dataset import CachedDataset\n",
    "cache_dir = \"../tmp\"\n",
    "\n",
    "from tablebench.notebook_lib import UIDS_LIST, extract_name_from_uid\n",
    "uids_list = UIDS_LIST\n"
   ]
  },
  {
   "cell_type": "code",
   "execution_count": 5,
   "id": "bc37f62d",
   "metadata": {},
   "outputs": [
    {
     "data": {
      "text/plain": [
       "'physionetICULOSgt47.0'"
      ]
     },
     "execution_count": 5,
     "metadata": {},
     "output_type": "execute_result"
    }
   ],
   "source": [
    "UIDS_LIST[-1]"
   ]
  },
  {
   "cell_type": "code",
   "execution_count": 8,
   "id": "85786bd4",
   "metadata": {},
   "outputs": [
    {
     "name": "stdout",
     "output_type": "stream",
     "text": [
      "processing uid acsfoodstampsdomain_split_varname_DIVISIONdomain_split_ood_value_06\n",
      "processing split train\n"
     ]
    },
    {
     "name": "stderr",
     "output_type": "stream",
     "text": [
      "100%|█████████████████████████████████████████████████████████████████████████████████████| 158/158 [00:08<00:00, 19.54it/s]\n"
     ]
    },
    {
     "name": "stdout",
     "output_type": "stream",
     "text": [
      "processing split id_test\n"
     ]
    },
    {
     "name": "stderr",
     "output_type": "stream",
     "text": [
      "100%|███████████████████████████████████████████████████████████████████████████████████████| 23/23 [00:01<00:00, 22.45it/s]\n"
     ]
    },
    {
     "name": "stdout",
     "output_type": "stream",
     "text": [
      "processing split ood_test\n"
     ]
    },
    {
     "name": "stderr",
     "output_type": "stream",
     "text": [
      "100%|███████████████████████████████████████████████████████████████████████████████████████| 12/12 [00:00<00:00, 19.70it/s]\n"
     ]
    },
    {
     "name": "stdout",
     "output_type": "stream",
     "text": [
      "processing split validation\n"
     ]
    },
    {
     "name": "stderr",
     "output_type": "stream",
     "text": [
      "100%|███████████████████████████████████████████████████████████████████████████████████████| 24/24 [00:01<00:00, 23.02it/s]\n"
     ]
    },
    {
     "name": "stdout",
     "output_type": "stream",
     "text": [
      "processing split ood_validation\n"
     ]
    },
    {
     "name": "stderr",
     "output_type": "stream",
     "text": [
      "100%|█████████████████████████████████████████████████████████████████████████████████████████| 2/2 [00:00<00:00, 26.23it/s]\n"
     ]
    },
    {
     "name": "stdout",
     "output_type": "stream",
     "text": [
      "processing uid acsincomedomain_split_varname_DIVISIONdomain_split_ood_value_01\n",
      "processing split train\n"
     ]
    },
    {
     "name": "stderr",
     "output_type": "stream",
     "text": [
      "100%|█████████████████████████████████████████████████████████████████████████████████████| 312/312 [00:15<00:00, 19.78it/s]\n"
     ]
    },
    {
     "name": "stdout",
     "output_type": "stream",
     "text": [
      "processing split id_test\n"
     ]
    },
    {
     "name": "stderr",
     "output_type": "stream",
     "text": [
      "100%|███████████████████████████████████████████████████████████████████████████████████████| 44/44 [00:02<00:00, 21.91it/s]\n"
     ]
    },
    {
     "name": "stdout",
     "output_type": "stream",
     "text": [
      "processing split ood_test\n"
     ]
    },
    {
     "name": "stderr",
     "output_type": "stream",
     "text": [
      "100%|███████████████████████████████████████████████████████████████████████████████████████| 19/19 [00:00<00:00, 19.29it/s]\n"
     ]
    },
    {
     "name": "stdout",
     "output_type": "stream",
     "text": [
      "processing split validation\n"
     ]
    },
    {
     "name": "stderr",
     "output_type": "stream",
     "text": [
      "100%|███████████████████████████████████████████████████████████████████████████████████████| 43/43 [00:02<00:00, 21.49it/s]\n"
     ]
    },
    {
     "name": "stdout",
     "output_type": "stream",
     "text": [
      "processing split ood_validation\n"
     ]
    },
    {
     "name": "stderr",
     "output_type": "stream",
     "text": [
      "100%|█████████████████████████████████████████████████████████████████████████████████████████| 3/3 [00:00<00:00, 26.19it/s]\n"
     ]
    },
    {
     "name": "stdout",
     "output_type": "stream",
     "text": [
      "processing uid acspubcovdomain_split_varname_DISdomain_split_ood_value_1.0\n",
      "processing split train\n"
     ]
    },
    {
     "name": "stderr",
     "output_type": "stream",
     "text": [
      "100%|█████████████████████████████████████████████████████████████████████████████████████| 979/979 [00:33<00:00, 29.40it/s]\n"
     ]
    },
    {
     "name": "stdout",
     "output_type": "stream",
     "text": [
      "processing split id_test\n"
     ]
    },
    {
     "name": "stderr",
     "output_type": "stream",
     "text": [
      "100%|█████████████████████████████████████████████████████████████████████████████████████| 123/123 [00:03<00:00, 34.15it/s]\n"
     ]
    },
    {
     "name": "stdout",
     "output_type": "stream",
     "text": [
      "processing split ood_test\n"
     ]
    },
    {
     "name": "stderr",
     "output_type": "stream",
     "text": [
      "100%|█████████████████████████████████████████████████████████████████████████████████████| 200/200 [00:06<00:00, 33.03it/s]\n"
     ]
    },
    {
     "name": "stdout",
     "output_type": "stream",
     "text": [
      "processing split validation\n"
     ]
    },
    {
     "name": "stderr",
     "output_type": "stream",
     "text": [
      "100%|█████████████████████████████████████████████████████████████████████████████████████| 123/123 [00:03<00:00, 32.34it/s]\n"
     ]
    },
    {
     "name": "stdout",
     "output_type": "stream",
     "text": [
      "processing split ood_validation\n"
     ]
    },
    {
     "name": "stderr",
     "output_type": "stream",
     "text": [
      "100%|███████████████████████████████████████████████████████████████████████████████████████| 23/23 [00:00<00:00, 34.88it/s]\n"
     ]
    },
    {
     "name": "stdout",
     "output_type": "stream",
     "text": [
      "processing uid acsunemploymentdomain_split_varname_SCHLdomain_split_ood_value_010203040506070809101112131415\n",
      "processing split train\n"
     ]
    },
    {
     "name": "stderr",
     "output_type": "stream",
     "text": [
      "100%|█████████████████████████████████████████████████████████████████████████████████████| 321/321 [00:17<00:00, 18.80it/s]\n"
     ]
    },
    {
     "name": "stdout",
     "output_type": "stream",
     "text": [
      "processing split id_test\n"
     ]
    },
    {
     "name": "stderr",
     "output_type": "stream",
     "text": [
      "100%|███████████████████████████████████████████████████████████████████████████████████████| 42/42 [00:01<00:00, 22.50it/s]\n"
     ]
    },
    {
     "name": "stdout",
     "output_type": "stream",
     "text": [
      "processing split ood_test\n"
     ]
    },
    {
     "name": "stderr",
     "output_type": "stream",
     "text": [
      "100%|███████████████████████████████████████████████████████████████████████████████████████| 49/49 [00:01<00:00, 25.62it/s]\n"
     ]
    },
    {
     "name": "stdout",
     "output_type": "stream",
     "text": [
      "processing split validation\n"
     ]
    },
    {
     "name": "stderr",
     "output_type": "stream",
     "text": [
      "100%|███████████████████████████████████████████████████████████████████████████████████████| 42/42 [00:01<00:00, 22.96it/s]\n"
     ]
    },
    {
     "name": "stdout",
     "output_type": "stream",
     "text": [
      "processing split ood_validation\n"
     ]
    },
    {
     "name": "stderr",
     "output_type": "stream",
     "text": [
      "100%|███████████████████████████████████████████████████████████████████████████████████████| 16/16 [00:00<00:00, 58.27it/s]\n"
     ]
    },
    {
     "name": "stdout",
     "output_type": "stream",
     "text": [
      "processing uid anesdomain_split_varname_VCF0112domain_split_ood_value_3.0\n",
      "processing split train\n"
     ]
    },
    {
     "name": "stderr",
     "output_type": "stream",
     "text": [
      "100%|█████████████████████████████████████████████████████████████████████████████████████████| 3/3 [00:00<00:00, 45.11it/s]\n"
     ]
    },
    {
     "name": "stdout",
     "output_type": "stream",
     "text": [
      "processing split id_test\n"
     ]
    },
    {
     "name": "stderr",
     "output_type": "stream",
     "text": [
      "100%|████████████████████████████████████████████████████████████████████████████████████████| 3/3 [00:00<00:00, 121.17it/s]\n"
     ]
    },
    {
     "name": "stdout",
     "output_type": "stream",
     "text": [
      "processing split ood_test\n"
     ]
    },
    {
     "name": "stderr",
     "output_type": "stream",
     "text": [
      "100%|█████████████████████████████████████████████████████████████████████████████████████████| 1/1 [00:00<00:00, 29.43it/s]\n"
     ]
    },
    {
     "name": "stdout",
     "output_type": "stream",
     "text": [
      "processing split validation\n"
     ]
    },
    {
     "name": "stderr",
     "output_type": "stream",
     "text": [
      "100%|████████████████████████████████████████████████████████████████████████████████████████| 3/3 [00:00<00:00, 121.91it/s]\n"
     ]
    },
    {
     "name": "stdout",
     "output_type": "stream",
     "text": [
      "processing split ood_validation\n"
     ]
    },
    {
     "name": "stderr",
     "output_type": "stream",
     "text": [
      "100%|█████████████████████████████████████████████████████████████████████████████████████████| 1/1 [00:00<00:00, 52.44it/s]\n"
     ]
    },
    {
     "name": "stdout",
     "output_type": "stream",
     "text": [
      "processing uid brfss_diabetesdomain_split_varname_PRACE1domain_split_ood_value_23456domain_split_id_values_1\n",
      "processing split train\n"
     ]
    },
    {
     "name": "stderr",
     "output_type": "stream",
     "text": [
      "100%|█████████████████████████████████████████████████████████████████████████████████████| 237/237 [00:07<00:00, 30.27it/s]\n"
     ]
    },
    {
     "name": "stdout",
     "output_type": "stream",
     "text": [
      "processing split id_test\n"
     ]
    },
    {
     "name": "stderr",
     "output_type": "stream",
     "text": [
      "100%|███████████████████████████████████████████████████████████████████████████████████████| 30/30 [00:00<00:00, 31.09it/s]\n"
     ]
    },
    {
     "name": "stdout",
     "output_type": "stream",
     "text": [
      "processing split ood_test\n"
     ]
    },
    {
     "name": "stderr",
     "output_type": "stream",
     "text": [
      "100%|███████████████████████████████████████████████████████████████████████████████████████| 53/53 [00:01<00:00, 31.90it/s]\n"
     ]
    },
    {
     "name": "stdout",
     "output_type": "stream",
     "text": [
      "processing split validation\n"
     ]
    },
    {
     "name": "stderr",
     "output_type": "stream",
     "text": [
      "100%|███████████████████████████████████████████████████████████████████████████████████████| 30/30 [00:00<00:00, 31.00it/s]\n"
     ]
    },
    {
     "name": "stdout",
     "output_type": "stream",
     "text": [
      "processing split ood_validation\n"
     ]
    },
    {
     "name": "stderr",
     "output_type": "stream",
     "text": [
      "100%|█████████████████████████████████████████████████████████████████████████████████████████| 7/7 [00:00<00:00, 36.33it/s]"
     ]
    },
    {
     "name": "stdout",
     "output_type": "stream",
     "text": [
      "processing uid brfss_blood_pressuredomain_split_varname_BMI5CATdomain_split_ood_value_3.04.0\n"
     ]
    },
    {
     "name": "stderr",
     "output_type": "stream",
     "text": [
      "\n"
     ]
    },
    {
     "name": "stdout",
     "output_type": "stream",
     "text": [
      "processing split train\n"
     ]
    },
    {
     "name": "stderr",
     "output_type": "stream",
     "text": [
      "100%|███████████████████████████████████████████████████████████████████████████████████████| 55/55 [00:01<00:00, 41.24it/s]\n"
     ]
    },
    {
     "name": "stdout",
     "output_type": "stream",
     "text": [
      "processing split id_test\n"
     ]
    },
    {
     "name": "stderr",
     "output_type": "stream",
     "text": [
      "100%|█████████████████████████████████████████████████████████████████████████████████████████| 8/8 [00:00<00:00, 46.03it/s]\n"
     ]
    },
    {
     "name": "stdout",
     "output_type": "stream",
     "text": [
      "processing split ood_test\n"
     ]
    },
    {
     "name": "stderr",
     "output_type": "stream",
     "text": [
      "100%|█████████████████████████████████████████████████████████████████████████████████████| 128/128 [00:03<00:00, 41.25it/s]\n"
     ]
    },
    {
     "name": "stdout",
     "output_type": "stream",
     "text": [
      "processing split validation\n"
     ]
    },
    {
     "name": "stderr",
     "output_type": "stream",
     "text": [
      "100%|█████████████████████████████████████████████████████████████████████████████████████████| 8/8 [00:00<00:00, 48.21it/s]\n"
     ]
    },
    {
     "name": "stdout",
     "output_type": "stream",
     "text": [
      "processing split ood_validation\n"
     ]
    },
    {
     "name": "stderr",
     "output_type": "stream",
     "text": [
      "100%|███████████████████████████████████████████████████████████████████████████████████████| 15/15 [00:00<00:00, 44.02it/s]\n"
     ]
    },
    {
     "name": "stdout",
     "output_type": "stream",
     "text": [
      "processing uid diabetes_readmissiondomain_split_varname_admission_source_iddomain_split_ood_value_7\n",
      "processing split train\n"
     ]
    },
    {
     "name": "stderr",
     "output_type": "stream",
     "text": [
      "100%|███████████████████████████████████████████████████████████████████████████████████████| 21/21 [00:00<00:00, 46.99it/s]\n"
     ]
    },
    {
     "name": "stdout",
     "output_type": "stream",
     "text": [
      "processing split id_test\n"
     ]
    },
    {
     "name": "stderr",
     "output_type": "stream",
     "text": [
      "100%|██████████████████████████████████████████████████████████████████████████████████████| 10/10 [00:00<00:00, 106.49it/s]\n"
     ]
    },
    {
     "name": "stdout",
     "output_type": "stream",
     "text": [
      "processing split ood_test\n"
     ]
    },
    {
     "name": "stderr",
     "output_type": "stream",
     "text": [
      "100%|███████████████████████████████████████████████████████████████████████████████████████| 13/13 [00:00<00:00, 22.54it/s]\n"
     ]
    },
    {
     "name": "stdout",
     "output_type": "stream",
     "text": [
      "processing split validation\n"
     ]
    },
    {
     "name": "stderr",
     "output_type": "stream",
     "text": [
      "100%|███████████████████████████████████████████████████████████████████████████████████████| 13/13 [00:00<00:00, 89.75it/s]\n"
     ]
    },
    {
     "name": "stdout",
     "output_type": "stream",
     "text": [
      "processing split ood_validation\n"
     ]
    },
    {
     "name": "stderr",
     "output_type": "stream",
     "text": [
      "100%|█████████████████████████████████████████████████████████████████████████████████████████| 2/2 [00:00<00:00, 27.36it/s]\n"
     ]
    },
    {
     "name": "stdout",
     "output_type": "stream",
     "text": [
      "processing uid helocdomain_split_varname_ExternalRiskEstimateLowdomain_split_ood_value_0\n",
      "processing split train\n"
     ]
    },
    {
     "name": "stderr",
     "output_type": "stream",
     "text": [
      "100%|█████████████████████████████████████████████████████████████████████████████████████████| 1/1 [00:00<00:00, 61.58it/s]\n"
     ]
    },
    {
     "name": "stdout",
     "output_type": "stream",
     "text": [
      "processing split id_test\n"
     ]
    },
    {
     "name": "stderr",
     "output_type": "stream",
     "text": [
      "100%|████████████████████████████████████████████████████████████████████████████████████████| 1/1 [00:00<00:00, 124.35it/s]\n"
     ]
    },
    {
     "name": "stdout",
     "output_type": "stream",
     "text": [
      "processing split ood_test\n"
     ]
    },
    {
     "name": "stderr",
     "output_type": "stream",
     "text": [
      "100%|█████████████████████████████████████████████████████████████████████████████████████████| 2/2 [00:00<00:00, 46.12it/s]\n"
     ]
    },
    {
     "name": "stdout",
     "output_type": "stream",
     "text": [
      "processing split validation\n"
     ]
    },
    {
     "name": "stderr",
     "output_type": "stream",
     "text": [
      "100%|████████████████████████████████████████████████████████████████████████████████████████| 1/1 [00:00<00:00, 113.70it/s]\n"
     ]
    },
    {
     "name": "stdout",
     "output_type": "stream",
     "text": [
      "processing split ood_validation\n"
     ]
    },
    {
     "name": "stderr",
     "output_type": "stream",
     "text": [
      "100%|█████████████████████████████████████████████████████████████████████████████████████████| 1/1 [00:00<00:00, 91.55it/s]\n"
     ]
    },
    {
     "name": "stdout",
     "output_type": "stream",
     "text": [
      "processing uid mimic_extract_los_3domain_split_varname_insurancedomain_split_ood_value_Medicare\n",
      "processing split train\n"
     ]
    },
    {
     "name": "stderr",
     "output_type": "stream",
     "text": [
      "100%|█████████████████████████████████████████████████████████████████████████████████████████| 5/5 [00:07<00:00,  1.44s/it]\n"
     ]
    },
    {
     "name": "stdout",
     "output_type": "stream",
     "text": [
      "processing split id_test\n"
     ]
    },
    {
     "name": "stderr",
     "output_type": "stream",
     "text": [
      "100%|█████████████████████████████████████████████████████████████████████████████████████████| 4/4 [00:01<00:00,  3.09it/s]\n"
     ]
    },
    {
     "name": "stdout",
     "output_type": "stream",
     "text": [
      "processing split ood_test\n"
     ]
    },
    {
     "name": "stderr",
     "output_type": "stream",
     "text": [
      "100%|█████████████████████████████████████████████████████████████████████████████████████████| 3/3 [00:09<00:00,  3.13s/it]\n"
     ]
    },
    {
     "name": "stdout",
     "output_type": "stream",
     "text": [
      "processing split validation\n"
     ]
    },
    {
     "name": "stderr",
     "output_type": "stream",
     "text": [
      "100%|█████████████████████████████████████████████████████████████████████████████████████████| 4/4 [00:01<00:00,  3.06it/s]\n"
     ]
    },
    {
     "name": "stdout",
     "output_type": "stream",
     "text": [
      "processing split ood_validation\n"
     ]
    },
    {
     "name": "stderr",
     "output_type": "stream",
     "text": [
      "100%|█████████████████████████████████████████████████████████████████████████████████████████| 1/1 [00:01<00:00,  1.11s/it]\n"
     ]
    },
    {
     "name": "stdout",
     "output_type": "stream",
     "text": [
      "processing uid mimic_extract_mort_hospdomain_split_varname_insurancedomain_split_ood_value_MedicareMedicaid\n",
      "processing split train\n"
     ]
    },
    {
     "name": "stderr",
     "output_type": "stream",
     "text": [
      "100%|█████████████████████████████████████████████████████████████████████████████████████████| 4/4 [00:05<00:00,  1.49s/it]\n"
     ]
    },
    {
     "name": "stdout",
     "output_type": "stream",
     "text": [
      "processing split id_test\n"
     ]
    },
    {
     "name": "stderr",
     "output_type": "stream",
     "text": [
      "100%|█████████████████████████████████████████████████████████████████████████████████████████| 3/3 [00:01<00:00,  2.97it/s]\n"
     ]
    },
    {
     "name": "stdout",
     "output_type": "stream",
     "text": [
      "processing split ood_test\n"
     ]
    },
    {
     "name": "stderr",
     "output_type": "stream",
     "text": [
      "100%|█████████████████████████████████████████████████████████████████████████████████████████| 4/4 [00:11<00:00,  2.77s/it]\n"
     ]
    },
    {
     "name": "stdout",
     "output_type": "stream",
     "text": [
      "processing split validation\n"
     ]
    },
    {
     "name": "stderr",
     "output_type": "stream",
     "text": [
      "100%|█████████████████████████████████████████████████████████████████████████████████████████| 3/3 [00:01<00:00,  2.95it/s]\n"
     ]
    },
    {
     "name": "stdout",
     "output_type": "stream",
     "text": [
      "processing split ood_validation\n"
     ]
    },
    {
     "name": "stderr",
     "output_type": "stream",
     "text": [
      "100%|█████████████████████████████████████████████████████████████████████████████████████████| 2/2 [00:01<00:00,  1.46it/s]\n"
     ]
    },
    {
     "name": "stdout",
     "output_type": "stream",
     "text": [
      "processing uid nhanes_leaddomain_split_varname_INDFMPIRBelowCutoffdomain_split_ood_value_1.0\n",
      "processing split train\n"
     ]
    },
    {
     "name": "stderr",
     "output_type": "stream",
     "text": [
      "100%|████████████████████████████████████████████████████████████████████████████████████████| 3/3 [00:00<00:00, 155.38it/s]\n"
     ]
    },
    {
     "name": "stdout",
     "output_type": "stream",
     "text": [
      "processing split id_test\n"
     ]
    },
    {
     "name": "stderr",
     "output_type": "stream",
     "text": [
      "100%|████████████████████████████████████████████████████████████████████████████████████████| 1/1 [00:00<00:00, 242.54it/s]\n"
     ]
    },
    {
     "name": "stdout",
     "output_type": "stream",
     "text": [
      "processing split ood_test\n"
     ]
    },
    {
     "name": "stderr",
     "output_type": "stream",
     "text": [
      "100%|████████████████████████████████████████████████████████████████████████████████████████| 3/3 [00:00<00:00, 179.07it/s]\n"
     ]
    },
    {
     "name": "stdout",
     "output_type": "stream",
     "text": [
      "processing split validation\n"
     ]
    },
    {
     "name": "stderr",
     "output_type": "stream",
     "text": [
      "100%|████████████████████████████████████████████████████████████████████████████████████████| 1/1 [00:00<00:00, 236.51it/s]\n"
     ]
    },
    {
     "name": "stdout",
     "output_type": "stream",
     "text": [
      "processing split ood_validation\n"
     ]
    },
    {
     "name": "stderr",
     "output_type": "stream",
     "text": [
      "100%|████████████████████████████████████████████████████████████████████████████████████████| 1/1 [00:00<00:00, 232.87it/s]\n"
     ]
    },
    {
     "name": "stdout",
     "output_type": "stream",
     "text": [
      "processing uid physionetICULOSgt47.0\n",
      "processing split train\n"
     ]
    },
    {
     "name": "stderr",
     "output_type": "stream",
     "text": [
      "100%|█████████████████████████████████████████████████████████████████████████████████████| 274/274 [00:04<00:00, 58.76it/s]\n"
     ]
    },
    {
     "name": "stdout",
     "output_type": "stream",
     "text": [
      "processing split id_test\n"
     ]
    },
    {
     "name": "stderr",
     "output_type": "stream",
     "text": [
      "100%|███████████████████████████████████████████████████████████████████████████████████████| 35/35 [00:00<00:00, 59.55it/s]\n"
     ]
    },
    {
     "name": "stdout",
     "output_type": "stream",
     "text": [
      "processing split ood_test\n"
     ]
    },
    {
     "name": "stderr",
     "output_type": "stream",
     "text": [
      "100%|███████████████████████████████████████████████████████████████████████████████████████| 33/33 [00:00<00:00, 60.06it/s]\n"
     ]
    },
    {
     "name": "stdout",
     "output_type": "stream",
     "text": [
      "processing split validation\n"
     ]
    },
    {
     "name": "stderr",
     "output_type": "stream",
     "text": [
      "100%|███████████████████████████████████████████████████████████████████████████████████████| 35/35 [00:00<00:00, 60.48it/s]\n"
     ]
    },
    {
     "name": "stdout",
     "output_type": "stream",
     "text": [
      "processing split ood_validation\n"
     ]
    },
    {
     "name": "stderr",
     "output_type": "stream",
     "text": [
      "100%|█████████████████████████████████████████████████████████████████████████████████████████| 4/4 [00:00<00:00, 65.32it/s]\n"
     ]
    }
   ],
   "source": [
    "# list of (uid, split, n_split, ymean) tuples\n",
    "results = []\n",
    "\n",
    "uids_list = ['physionetICULOSgt47.0']\n",
    "for uid in uids_list:\n",
    "    print(f'processing uid {uid}')\n",
    "    base_dir = os.path.join(cache_dir, uid)  \n",
    "    if uid == 'physionetICULOSgt47.0':\n",
    "        name = \"physionet\"\n",
    "    else:\n",
    "        name = extract_name_from_uid(uid)\n",
    "    dset = CachedDataset(cache_dir=cache_dir, uid=uid, name=name)\n",
    "    for split in ('train', 'id_test', 'ood_test', 'validation', 'ood_validation'):\n",
    "        print(f'processing split {split}')\n",
    "        yvals = list()\n",
    "        split_files = glob.glob(os.path.join(base_dir, split, '*', '*.csv'))\n",
    "\n",
    "        for f in tqdm(split_files):\n",
    "            df = pd.read_csv(f)\n",
    "            yvals.extend(df[dset.target].values.tolist())\n",
    "        \n",
    "        n_split = len(yvals)\n",
    "        ybar_split = np.array(yvals).mean()\n",
    "        results.append((uid, split, n_split, ybar_split))\n",
    "        "
   ]
  },
  {
   "cell_type": "code",
   "execution_count": 9,
   "id": "e4b2c3f4",
   "metadata": {},
   "outputs": [
    {
     "data": {
      "text/html": [
       "<div>\n",
       "<style scoped>\n",
       "    .dataframe tbody tr th:only-of-type {\n",
       "        vertical-align: middle;\n",
       "    }\n",
       "\n",
       "    .dataframe tbody tr th {\n",
       "        vertical-align: top;\n",
       "    }\n",
       "\n",
       "    .dataframe thead th {\n",
       "        text-align: right;\n",
       "    }\n",
       "</style>\n",
       "<table border=\"1\" class=\"dataframe\">\n",
       "  <thead>\n",
       "    <tr style=\"text-align: right;\">\n",
       "      <th></th>\n",
       "      <th>uid</th>\n",
       "      <th>split</th>\n",
       "      <th>n_split</th>\n",
       "      <th>ybar_split</th>\n",
       "    </tr>\n",
       "  </thead>\n",
       "  <tbody>\n",
       "    <tr>\n",
       "      <th>0</th>\n",
       "      <td>physionetICULOSgt47.0</td>\n",
       "      <td>train</td>\n",
       "      <td>1122299</td>\n",
       "      <td>0.011850</td>\n",
       "    </tr>\n",
       "    <tr>\n",
       "      <th>1</th>\n",
       "      <td>physionetICULOSgt47.0</td>\n",
       "      <td>id_test</td>\n",
       "      <td>140288</td>\n",
       "      <td>0.011997</td>\n",
       "    </tr>\n",
       "    <tr>\n",
       "      <th>2</th>\n",
       "      <td>physionetICULOSgt47.0</td>\n",
       "      <td>ood_test</td>\n",
       "      <td>134402</td>\n",
       "      <td>0.075073</td>\n",
       "    </tr>\n",
       "    <tr>\n",
       "      <th>3</th>\n",
       "      <td>physionetICULOSgt47.0</td>\n",
       "      <td>validation</td>\n",
       "      <td>140287</td>\n",
       "      <td>0.011833</td>\n",
       "    </tr>\n",
       "    <tr>\n",
       "      <th>4</th>\n",
       "      <td>physionetICULOSgt47.0</td>\n",
       "      <td>ood_validation</td>\n",
       "      <td>14934</td>\n",
       "      <td>0.079282</td>\n",
       "    </tr>\n",
       "  </tbody>\n",
       "</table>\n",
       "</div>"
      ],
      "text/plain": [
       "                     uid           split  n_split  ybar_split\n",
       "0  physionetICULOSgt47.0           train  1122299    0.011850\n",
       "1  physionetICULOSgt47.0         id_test   140288    0.011997\n",
       "2  physionetICULOSgt47.0        ood_test   134402    0.075073\n",
       "3  physionetICULOSgt47.0      validation   140287    0.011833\n",
       "4  physionetICULOSgt47.0  ood_validation    14934    0.079282"
      ]
     },
     "execution_count": 9,
     "metadata": {},
     "output_type": "execute_result"
    }
   ],
   "source": [
    "df = pd.DataFrame(results, columns=['uid', 'split', 'n_split', 'ybar_split'])\n",
    "df"
   ]
  },
  {
   "cell_type": "code",
   "execution_count": 10,
   "id": "c34a11ed",
   "metadata": {},
   "outputs": [
    {
     "data": {
      "text/html": [
       "<div>\n",
       "<style scoped>\n",
       "    .dataframe tbody tr th:only-of-type {\n",
       "        vertical-align: middle;\n",
       "    }\n",
       "\n",
       "    .dataframe tbody tr th {\n",
       "        vertical-align: top;\n",
       "    }\n",
       "\n",
       "    .dataframe thead tr th {\n",
       "        text-align: left;\n",
       "    }\n",
       "\n",
       "    .dataframe thead tr:last-of-type th {\n",
       "        text-align: right;\n",
       "    }\n",
       "</style>\n",
       "<table border=\"1\" class=\"dataframe\">\n",
       "  <thead>\n",
       "    <tr>\n",
       "      <th></th>\n",
       "      <th colspan=\"5\" halign=\"left\">n_split</th>\n",
       "      <th colspan=\"5\" halign=\"left\">ybar_split</th>\n",
       "    </tr>\n",
       "    <tr>\n",
       "      <th>split</th>\n",
       "      <th>id_test</th>\n",
       "      <th>ood_test</th>\n",
       "      <th>ood_validation</th>\n",
       "      <th>train</th>\n",
       "      <th>validation</th>\n",
       "      <th>id_test</th>\n",
       "      <th>ood_test</th>\n",
       "      <th>ood_validation</th>\n",
       "      <th>train</th>\n",
       "      <th>validation</th>\n",
       "    </tr>\n",
       "    <tr>\n",
       "      <th>uid</th>\n",
       "      <th></th>\n",
       "      <th></th>\n",
       "      <th></th>\n",
       "      <th></th>\n",
       "      <th></th>\n",
       "      <th></th>\n",
       "      <th></th>\n",
       "      <th></th>\n",
       "      <th></th>\n",
       "      <th></th>\n",
       "    </tr>\n",
       "  </thead>\n",
       "  <tbody>\n",
       "    <tr>\n",
       "      <th>physionetICULOSgt47.0</th>\n",
       "      <td>140288</td>\n",
       "      <td>134402</td>\n",
       "      <td>14934</td>\n",
       "      <td>1122299</td>\n",
       "      <td>140287</td>\n",
       "      <td>0.011997</td>\n",
       "      <td>0.075073</td>\n",
       "      <td>0.079282</td>\n",
       "      <td>0.01185</td>\n",
       "      <td>0.011833</td>\n",
       "    </tr>\n",
       "  </tbody>\n",
       "</table>\n",
       "</div>"
      ],
      "text/plain": [
       "                      n_split                                              \\\n",
       "split                 id_test ood_test ood_validation    train validation   \n",
       "uid                                                                         \n",
       "physionetICULOSgt47.0  140288   134402          14934  1122299     140287   \n",
       "\n",
       "                                                                             \\\n",
       "split                                               ood_test ood_validation   \n",
       "uid                                                                           \n",
       "acsfoodstampsdomain_split_varname_DIVISIONdomai...  0.219874       0.213589   \n",
       "acsincomedomain_split_varname_DIVISIONdomain_sp...  0.397966       0.401897   \n",
       "acspubcovdomain_split_varname_DISdomain_split_o...  0.636270       0.639850   \n",
       "acsunemploymentdomain_split_varname_SCHLdomain_...  0.051512       0.050605   \n",
       "anesdomain_split_varname_VCF0112domain_split_oo...  0.753968       0.750809   \n",
       "brfss_blood_pressuredomain_split_varname_BMI5CA...  0.584293       0.583514   \n",
       "brfss_diabetesdomain_split_varname_PRACE1domain...  0.174195       0.171252   \n",
       "diabetes_readmissiondomain_split_varname_admiss...  0.493839       0.506356   \n",
       "helocdomain_split_varname_ExternalRiskEstimateL...  0.568990       0.526658   \n",
       "mimic_extract_los_3domain_split_varname_insuran...  0.455936       0.442249   \n",
       "mimic_extract_mort_hospdomain_split_varname_ins...  0.123892       0.123588   \n",
       "nhanes_leaddomain_split_varname_INDFMPIRBelowCu...  0.080324       0.072998   \n",
       "physionetICULOSgt47.0                               0.075073       0.079282   \n",
       "\n",
       "                                                                         \n",
       "split                                                  train validation  \n",
       "uid                                                                      \n",
       "acsfoodstampsdomain_split_varname_DIVISIONdomai...  0.190058   0.187238  \n",
       "acsincomedomain_split_varname_DIVISIONdomain_sp...  0.322643   0.323514  \n",
       "acspubcovdomain_split_varname_DISdomain_split_o...  0.223905   0.222912  \n",
       "acsunemploymentdomain_split_varname_SCHLdomain_...  0.034059   0.033409  \n",
       "anesdomain_split_varname_VCF0112domain_split_oo...  0.790815   0.809615  \n",
       "brfss_blood_pressuredomain_split_varname_BMI5CA...  0.401213   0.402203  \n",
       "brfss_diabetesdomain_split_varname_PRACE1domain...  0.124719   0.125477  \n",
       "diabetes_readmissiondomain_split_varname_admiss...  0.424230   0.421839  \n",
       "helocdomain_split_varname_ExternalRiskEstimateL...  0.240991   0.197842  \n",
       "mimic_extract_los_3domain_split_varname_insuran...  0.404216   0.375348  \n",
       "mimic_extract_mort_hospdomain_split_varname_ins...  0.075464   0.071991  \n",
       "nhanes_leaddomain_split_varname_INDFMPIRBelowCu...  0.025663   0.022358  \n",
       "physionetICULOSgt47.0                               0.011850   0.011833  "
      ]
     },
     "execution_count": 10,
     "metadata": {},
     "output_type": "execute_result"
    }
   ],
   "source": [
    "df.pivot(index='uid', columns=['split'])"
   ]
  },
  {
   "cell_type": "code",
   "execution_count": 11,
   "id": "73bcb40a",
   "metadata": {},
   "outputs": [
    {
     "data": {
      "text/html": [
       "<div>\n",
       "<style scoped>\n",
       "    .dataframe tbody tr th:only-of-type {\n",
       "        vertical-align: middle;\n",
       "    }\n",
       "\n",
       "    .dataframe tbody tr th {\n",
       "        vertical-align: top;\n",
       "    }\n",
       "\n",
       "    .dataframe thead th {\n",
       "        text-align: right;\n",
       "    }\n",
       "</style>\n",
       "<table border=\"1\" class=\"dataframe\">\n",
       "  <thead>\n",
       "    <tr style=\"text-align: right;\">\n",
       "      <th></th>\n",
       "      <th>uid</th>\n",
       "      <th>split</th>\n",
       "      <th>n_split</th>\n",
       "      <th>ybar_split</th>\n",
       "    </tr>\n",
       "  </thead>\n",
       "  <tbody>\n",
       "    <tr>\n",
       "      <th>0</th>\n",
       "      <td>physionetICULOSgt47.0</td>\n",
       "      <td>train</td>\n",
       "      <td>1122299</td>\n",
       "      <td>0.011850</td>\n",
       "    </tr>\n",
       "    <tr>\n",
       "      <th>1</th>\n",
       "      <td>physionetICULOSgt47.0</td>\n",
       "      <td>id_test</td>\n",
       "      <td>140288</td>\n",
       "      <td>0.011997</td>\n",
       "    </tr>\n",
       "    <tr>\n",
       "      <th>2</th>\n",
       "      <td>physionetICULOSgt47.0</td>\n",
       "      <td>ood_test</td>\n",
       "      <td>134402</td>\n",
       "      <td>0.075073</td>\n",
       "    </tr>\n",
       "    <tr>\n",
       "      <th>3</th>\n",
       "      <td>physionetICULOSgt47.0</td>\n",
       "      <td>validation</td>\n",
       "      <td>140287</td>\n",
       "      <td>0.011833</td>\n",
       "    </tr>\n",
       "    <tr>\n",
       "      <th>4</th>\n",
       "      <td>physionetICULOSgt47.0</td>\n",
       "      <td>ood_validation</td>\n",
       "      <td>14934</td>\n",
       "      <td>0.079282</td>\n",
       "    </tr>\n",
       "  </tbody>\n",
       "</table>\n",
       "</div>"
      ],
      "text/plain": [
       "                     uid           split  n_split  ybar_split\n",
       "0  physionetICULOSgt47.0           train  1122299    0.011850\n",
       "1  physionetICULOSgt47.0         id_test   140288    0.011997\n",
       "2  physionetICULOSgt47.0        ood_test   134402    0.075073\n",
       "3  physionetICULOSgt47.0      validation   140287    0.011833\n",
       "4  physionetICULOSgt47.0  ood_validation    14934    0.079282"
      ]
     },
     "execution_count": 11,
     "metadata": {},
     "output_type": "execute_result"
    }
   ],
   "source": [
    "df"
   ]
  },
  {
   "cell_type": "code",
   "execution_count": 12,
   "id": "7068d77c",
   "metadata": {},
   "outputs": [],
   "source": [
    "df.pivot(index='uid', columns=['split']).reset_index().to_csv(\"dataset_summaries_by_split.csv\")"
   ]
  },
  {
   "cell_type": "code",
   "execution_count": 13,
   "id": "02499f9b",
   "metadata": {},
   "outputs": [
    {
     "data": {
      "text/plain": [
       "uid\n",
       "physionetICULOSgt47.0    0.003979\n",
       "dtype: float64"
      ]
     },
     "execution_count": 13,
     "metadata": {},
     "output_type": "execute_result"
    }
   ],
   "source": [
    "tmp = df.pivot(index='uid', columns=['split'])\n",
    "ydiff_id_test_ood_test = tmp.loc[:,(\"ybar_split\", \"id_test\")] - tmp.loc[:,(\"ybar_split\", \"ood_test\")]\n",
    "ydiff_id_val_id_test = tmp.loc[:,(\"ybar_split\", \"validation\")] - tmp.loc[:,(\"ybar_split\", \"id_test\")]\n",
    "\n",
    "# (ydiff_id_test_ood_test**2)/abs(ydiff_id_val_id_test)\n",
    "ydiff_id_test_ood_test**2\n",
    "\n",
    "# ydiff_id_val_id_test"
   ]
  },
  {
   "cell_type": "markdown",
   "id": "d746f893",
   "metadata": {},
   "source": [
    "# otdd"
   ]
  },
  {
   "cell_type": "code",
   "execution_count": null,
   "id": "d748d899",
   "metadata": {},
   "outputs": [],
   "source": [
    "from otdd.pytorch.distance import DatasetDistance"
   ]
  },
  {
   "cell_type": "code",
   "execution_count": null,
   "id": "8f943647",
   "metadata": {},
   "outputs": [],
   "source": [
    "uid = 'helocdomain_split_varname_ExternalRiskEstimateLowdomain_split_ood_value_0'\n",
    "base_dir = os.path.join(cache_dir, uid)  \n",
    "name = extract_name_from_uid(uid)\n",
    "dset = CachedDataset(cache_dir=cache_dir, uid=uid, name=name)"
   ]
  },
  {
   "cell_type": "code",
   "execution_count": null,
   "id": "7a0c170f",
   "metadata": {},
   "outputs": [],
   "source": [
    "import torch\n",
    "\n",
    "def df_to_loader(df, target):\n",
    "    x = df.drop(columns=target)\n",
    "    y = df[target]\n",
    "    x = torch.from_numpy(x.values)\n",
    "    y = torch.from_numpy(y.values.astype(int))\n",
    "    tensor_dataset = TensorDataset(x,y)\n",
    "    loader = torch.utils.data.DataLoader(tensor_dataset, batch_size=64)\n",
    "    return loader"
   ]
  },
  {
   "cell_type": "code",
   "execution_count": null,
   "id": "ad91d9e1",
   "metadata": {},
   "outputs": [],
   "source": [
    "def read_split_data(base_dir):\n",
    "    \n",
    "    split_data = {}\n",
    "    \n",
    "    \n",
    "    # Read the test datasets\n",
    "    for split in (\"ood_test\", \"id_test\"):\n",
    "        print(split)\n",
    "        df_list = []\n",
    "        split_files = glob.glob(os.path.join(base_dir, split, '*', '*.csv'))\n",
    "\n",
    "        for f in tqdm(split_files):\n",
    "            df = pd.read_csv(f)\n",
    "            df_list.append(df)\n",
    "\n",
    "        split_data[split] = pd.concat(df_list)\n",
    "    return split_data"
   ]
  },
  {
   "cell_type": "code",
   "execution_count": null,
   "id": "73a24a1e",
   "metadata": {},
   "outputs": [],
   "source": []
  },
  {
   "cell_type": "code",
   "execution_count": null,
   "id": "328c45fc",
   "metadata": {
    "scrolled": false
   },
   "outputs": [],
   "source": [
    "results = []\n",
    "\n",
    "for uid in uids_list:\n",
    "    print(f\"processing {uid}\")\n",
    "    base_dir = os.path.join(cache_dir, uid)  \n",
    "    \n",
    "    if uid == 'physionetICULOSgt47.0':\n",
    "        name = \"physionet\"\n",
    "    else:\n",
    "        name = extract_name_from_uid(uid)\n",
    "        \n",
    "    dset = CachedDataset(cache_dir=cache_dir, uid=uid, name=name)\n",
    "    \n",
    "    split_data = read_split_data(base_dir)\n",
    "    \n",
    "    # Compare \n",
    "    assert np.all(split_data[\"id_test\"].dtypes == split_data[\"ood_test\"].dtypes)\n",
    "    id_loader =  df_to_loader(split_data[\"id_test\"], target=dset.target)\n",
    "    ood_loader = df_to_loader(split_data[\"ood_test\"], target=dset.target)\n",
    "#     try:\n",
    "    dist = DatasetDistance(id_loader, ood_loader,\n",
    "                           # Note: this fails with 'exact' for some datasets.\n",
    "                       inner_ot_method = 'gaussian_approx',\n",
    "                       debiased_loss = True,\n",
    "                       p = 2, entreg = 1e-1,\n",
    "                       device='cpu')\n",
    "    print(f\"computing distance for {uid}\")\n",
    "    d = dist.distance(maxsamples = 10000)\n",
    "    print(f'OTDD(src,tgt)={d}')\n",
    "    results.append((uid, d))\n",
    "#     except Exception as e:\n",
    "#         print(e)\n",
    "#         continue\n",
    "    \n"
   ]
  },
  {
   "cell_type": "code",
   "execution_count": null,
   "id": "3bfcdb73",
   "metadata": {},
   "outputs": [],
   "source": [
    "\n",
    "otdd_results_df = pd.DataFrame([(x[0], x[1].detach().cpu().numpy().item()) for x in results], columns=['uid', 'otdd'])\n",
    "otdd_results_df.to_csv(\"otdd_results\", index=False)\n",
    "otdd_results_df\n"
   ]
  },
  {
   "cell_type": "code",
   "execution_count": null,
   "id": "601f7f01",
   "metadata": {},
   "outputs": [],
   "source": []
  }
 ],
 "metadata": {
  "kernelspec": {
   "display_name": "Python 3 (ipykernel)",
   "language": "python",
   "name": "python3"
  },
  "language_info": {
   "codemirror_mode": {
    "name": "ipython",
    "version": 3
   },
   "file_extension": ".py",
   "mimetype": "text/x-python",
   "name": "python",
   "nbconvert_exporter": "python",
   "pygments_lexer": "ipython3",
   "version": "3.8.15"
  }
 },
 "nbformat": 4,
 "nbformat_minor": 5
}
