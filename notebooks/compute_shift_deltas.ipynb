{
 "cells": [
  {
   "cell_type": "code",
   "execution_count": 2,
   "id": "c872eeb4",
   "metadata": {},
   "outputs": [],
   "source": [
    "from collections import defaultdict\n",
    "import glob\n",
    "import numpy as np\n",
    "import os\n",
    "import re\n",
    "\n",
    "import pandas as pd\n",
    "from tqdm import tqdm"
   ]
  },
  {
   "cell_type": "code",
   "execution_count": 2,
   "id": "82b5acd9",
   "metadata": {},
   "outputs": [],
   "source": [
    "# delta y"
   ]
  },
  {
   "cell_type": "code",
   "execution_count": 4,
   "id": "fc7208c8",
   "metadata": {},
   "outputs": [],
   "source": [
    "from tablebench.core.tabular_dataset import CachedDataset\n",
    "cache_dir = \"../tmp\"\n",
    "\n",
    "from .notebook_lib import UIDS_LIST, extract_name_from_uid\n",
    "uids_list = UIDS_LIST\n"
   ]
  },
  {
   "cell_type": "code",
   "execution_count": 97,
   "id": "85786bd4",
   "metadata": {},
   "outputs": [
    {
     "name": "stdout",
     "output_type": "stream",
     "text": [
      "processing uid acsfoodstampsdomain_split_varname_DIVISIONdomain_split_ood_value_06\n",
      "processing split train\n"
     ]
    },
    {
     "name": "stderr",
     "output_type": "stream",
     "text": [
      "100%|█████████████████████████████████████████████████████████████████████████████████████| 158/158 [00:07<00:00, 21.54it/s]\n"
     ]
    },
    {
     "name": "stdout",
     "output_type": "stream",
     "text": [
      "processing split id_test\n"
     ]
    },
    {
     "name": "stderr",
     "output_type": "stream",
     "text": [
      "100%|███████████████████████████████████████████████████████████████████████████████████████| 23/23 [00:01<00:00, 20.05it/s]\n"
     ]
    },
    {
     "name": "stdout",
     "output_type": "stream",
     "text": [
      "processing split ood_test\n"
     ]
    },
    {
     "name": "stderr",
     "output_type": "stream",
     "text": [
      "100%|███████████████████████████████████████████████████████████████████████████████████████| 12/12 [00:00<00:00, 17.42it/s]\n"
     ]
    },
    {
     "name": "stdout",
     "output_type": "stream",
     "text": [
      "processing split validation\n"
     ]
    },
    {
     "name": "stderr",
     "output_type": "stream",
     "text": [
      "100%|███████████████████████████████████████████████████████████████████████████████████████| 24/24 [00:01<00:00, 19.23it/s]\n"
     ]
    },
    {
     "name": "stdout",
     "output_type": "stream",
     "text": [
      "processing split ood_validation\n"
     ]
    },
    {
     "name": "stderr",
     "output_type": "stream",
     "text": [
      "100%|█████████████████████████████████████████████████████████████████████████████████████████| 2/2 [00:00<00:00, 21.69it/s]\n"
     ]
    },
    {
     "name": "stdout",
     "output_type": "stream",
     "text": [
      "processing uid acsincomedomain_split_varname_DIVISIONdomain_split_ood_value_01\n",
      "processing split train\n"
     ]
    },
    {
     "name": "stderr",
     "output_type": "stream",
     "text": [
      "100%|█████████████████████████████████████████████████████████████████████████████████████| 312/312 [00:13<00:00, 23.19it/s]\n"
     ]
    },
    {
     "name": "stdout",
     "output_type": "stream",
     "text": [
      "processing split id_test\n"
     ]
    },
    {
     "name": "stderr",
     "output_type": "stream",
     "text": [
      "100%|███████████████████████████████████████████████████████████████████████████████████████| 44/44 [00:01<00:00, 26.13it/s]\n"
     ]
    },
    {
     "name": "stdout",
     "output_type": "stream",
     "text": [
      "processing split ood_test\n"
     ]
    },
    {
     "name": "stderr",
     "output_type": "stream",
     "text": [
      "100%|███████████████████████████████████████████████████████████████████████████████████████| 19/19 [00:00<00:00, 23.91it/s]\n"
     ]
    },
    {
     "name": "stdout",
     "output_type": "stream",
     "text": [
      "processing split validation\n"
     ]
    },
    {
     "name": "stderr",
     "output_type": "stream",
     "text": [
      "100%|███████████████████████████████████████████████████████████████████████████████████████| 43/43 [00:01<00:00, 25.71it/s]\n"
     ]
    },
    {
     "name": "stdout",
     "output_type": "stream",
     "text": [
      "processing split ood_validation\n"
     ]
    },
    {
     "name": "stderr",
     "output_type": "stream",
     "text": [
      "100%|█████████████████████████████████████████████████████████████████████████████████████████| 3/3 [00:00<00:00, 32.19it/s]\n"
     ]
    },
    {
     "name": "stdout",
     "output_type": "stream",
     "text": [
      "processing uid acspubcovdomain_split_varname_DISdomain_split_ood_value_1.0\n",
      "processing split train\n"
     ]
    },
    {
     "name": "stderr",
     "output_type": "stream",
     "text": [
      "100%|█████████████████████████████████████████████████████████████████████████████████████| 979/979 [00:29<00:00, 33.32it/s]\n"
     ]
    },
    {
     "name": "stdout",
     "output_type": "stream",
     "text": [
      "processing split id_test\n"
     ]
    },
    {
     "name": "stderr",
     "output_type": "stream",
     "text": [
      "100%|█████████████████████████████████████████████████████████████████████████████████████| 123/123 [00:03<00:00, 36.06it/s]\n"
     ]
    },
    {
     "name": "stdout",
     "output_type": "stream",
     "text": [
      "processing split ood_test\n"
     ]
    },
    {
     "name": "stderr",
     "output_type": "stream",
     "text": [
      "100%|█████████████████████████████████████████████████████████████████████████████████████| 200/200 [00:07<00:00, 27.98it/s]\n"
     ]
    },
    {
     "name": "stdout",
     "output_type": "stream",
     "text": [
      "processing split validation\n"
     ]
    },
    {
     "name": "stderr",
     "output_type": "stream",
     "text": [
      "100%|█████████████████████████████████████████████████████████████████████████████████████| 123/123 [00:04<00:00, 29.67it/s]\n"
     ]
    },
    {
     "name": "stdout",
     "output_type": "stream",
     "text": [
      "processing split ood_validation\n"
     ]
    },
    {
     "name": "stderr",
     "output_type": "stream",
     "text": [
      "100%|███████████████████████████████████████████████████████████████████████████████████████| 23/23 [00:00<00:00, 35.39it/s]\n"
     ]
    },
    {
     "name": "stdout",
     "output_type": "stream",
     "text": [
      "processing uid acsunemploymentdomain_split_varname_SCHLdomain_split_ood_value_010203040506070809101112131415\n",
      "processing split train\n"
     ]
    },
    {
     "name": "stderr",
     "output_type": "stream",
     "text": [
      "100%|█████████████████████████████████████████████████████████████████████████████████████| 321/321 [00:13<00:00, 24.63it/s]\n"
     ]
    },
    {
     "name": "stdout",
     "output_type": "stream",
     "text": [
      "processing split id_test\n"
     ]
    },
    {
     "name": "stderr",
     "output_type": "stream",
     "text": [
      "100%|███████████████████████████████████████████████████████████████████████████████████████| 42/42 [00:01<00:00, 25.45it/s]\n"
     ]
    },
    {
     "name": "stdout",
     "output_type": "stream",
     "text": [
      "processing split ood_test\n"
     ]
    },
    {
     "name": "stderr",
     "output_type": "stream",
     "text": [
      "100%|███████████████████████████████████████████████████████████████████████████████████████| 49/49 [00:01<00:00, 28.62it/s]\n"
     ]
    },
    {
     "name": "stdout",
     "output_type": "stream",
     "text": [
      "processing split validation\n"
     ]
    },
    {
     "name": "stderr",
     "output_type": "stream",
     "text": [
      "100%|███████████████████████████████████████████████████████████████████████████████████████| 42/42 [00:01<00:00, 25.50it/s]\n"
     ]
    },
    {
     "name": "stdout",
     "output_type": "stream",
     "text": [
      "processing split ood_validation\n"
     ]
    },
    {
     "name": "stderr",
     "output_type": "stream",
     "text": [
      "100%|███████████████████████████████████████████████████████████████████████████████████████| 16/16 [00:00<00:00, 62.37it/s]\n"
     ]
    },
    {
     "name": "stdout",
     "output_type": "stream",
     "text": [
      "processing uid anesdomain_split_varname_VCF0112domain_split_ood_value_3.0\n",
      "processing split train\n"
     ]
    },
    {
     "name": "stderr",
     "output_type": "stream",
     "text": [
      "100%|█████████████████████████████████████████████████████████████████████████████████████████| 3/3 [00:00<00:00, 51.13it/s]\n"
     ]
    },
    {
     "name": "stdout",
     "output_type": "stream",
     "text": [
      "processing split id_test\n"
     ]
    },
    {
     "name": "stderr",
     "output_type": "stream",
     "text": [
      "100%|████████████████████████████████████████████████████████████████████████████████████████| 3/3 [00:00<00:00, 128.04it/s]\n"
     ]
    },
    {
     "name": "stdout",
     "output_type": "stream",
     "text": [
      "processing split ood_test\n"
     ]
    },
    {
     "name": "stderr",
     "output_type": "stream",
     "text": [
      "100%|█████████████████████████████████████████████████████████████████████████████████████████| 1/1 [00:00<00:00, 34.60it/s]\n"
     ]
    },
    {
     "name": "stdout",
     "output_type": "stream",
     "text": [
      "processing split validation\n"
     ]
    },
    {
     "name": "stderr",
     "output_type": "stream",
     "text": [
      "100%|████████████████████████████████████████████████████████████████████████████████████████| 3/3 [00:00<00:00, 125.75it/s]\n"
     ]
    },
    {
     "name": "stdout",
     "output_type": "stream",
     "text": [
      "processing split ood_validation\n"
     ]
    },
    {
     "name": "stderr",
     "output_type": "stream",
     "text": [
      "100%|████████████████████████████████████████████████████████████████████████████████████████| 1/1 [00:00<00:00, 111.35it/s]\n"
     ]
    },
    {
     "name": "stdout",
     "output_type": "stream",
     "text": [
      "processing uid brfss_diabetesdomain_split_varname_PRACE1domain_split_ood_value_23456domain_split_id_values_1\n",
      "processing split train\n"
     ]
    },
    {
     "name": "stderr",
     "output_type": "stream",
     "text": [
      "100%|█████████████████████████████████████████████████████████████████████████████████████| 237/237 [00:07<00:00, 32.61it/s]\n"
     ]
    },
    {
     "name": "stdout",
     "output_type": "stream",
     "text": [
      "processing split id_test\n"
     ]
    },
    {
     "name": "stderr",
     "output_type": "stream",
     "text": [
      "100%|███████████████████████████████████████████████████████████████████████████████████████| 30/30 [00:01<00:00, 22.93it/s]\n"
     ]
    },
    {
     "name": "stdout",
     "output_type": "stream",
     "text": [
      "processing split ood_test\n"
     ]
    },
    {
     "name": "stderr",
     "output_type": "stream",
     "text": [
      "100%|███████████████████████████████████████████████████████████████████████████████████████| 53/53 [00:02<00:00, 23.74it/s]\n"
     ]
    },
    {
     "name": "stdout",
     "output_type": "stream",
     "text": [
      "processing split validation\n"
     ]
    },
    {
     "name": "stderr",
     "output_type": "stream",
     "text": [
      "100%|███████████████████████████████████████████████████████████████████████████████████████| 30/30 [00:01<00:00, 23.60it/s]\n"
     ]
    },
    {
     "name": "stdout",
     "output_type": "stream",
     "text": [
      "processing split ood_validation\n"
     ]
    },
    {
     "name": "stderr",
     "output_type": "stream",
     "text": [
      "100%|█████████████████████████████████████████████████████████████████████████████████████████| 7/7 [00:00<00:00, 23.19it/s]\n"
     ]
    },
    {
     "name": "stdout",
     "output_type": "stream",
     "text": [
      "processing uid brfss_blood_pressuredomain_split_varname_BMI5CATdomain_split_ood_value_3.04.0\n",
      "processing split train\n"
     ]
    },
    {
     "name": "stderr",
     "output_type": "stream",
     "text": [
      "100%|███████████████████████████████████████████████████████████████████████████████████████| 55/55 [00:01<00:00, 33.59it/s]\n"
     ]
    },
    {
     "name": "stdout",
     "output_type": "stream",
     "text": [
      "processing split id_test\n"
     ]
    },
    {
     "name": "stderr",
     "output_type": "stream",
     "text": [
      "100%|█████████████████████████████████████████████████████████████████████████████████████████| 8/8 [00:00<00:00, 52.76it/s]\n"
     ]
    },
    {
     "name": "stdout",
     "output_type": "stream",
     "text": [
      "processing split ood_test\n"
     ]
    },
    {
     "name": "stderr",
     "output_type": "stream",
     "text": [
      "100%|█████████████████████████████████████████████████████████████████████████████████████| 128/128 [00:02<00:00, 45.91it/s]\n"
     ]
    },
    {
     "name": "stdout",
     "output_type": "stream",
     "text": [
      "processing split validation\n"
     ]
    },
    {
     "name": "stderr",
     "output_type": "stream",
     "text": [
      "100%|█████████████████████████████████████████████████████████████████████████████████████████| 8/8 [00:00<00:00, 50.15it/s]\n"
     ]
    },
    {
     "name": "stdout",
     "output_type": "stream",
     "text": [
      "processing split ood_validation\n"
     ]
    },
    {
     "name": "stderr",
     "output_type": "stream",
     "text": [
      "100%|███████████████████████████████████████████████████████████████████████████████████████| 15/15 [00:00<00:00, 45.92it/s]\n"
     ]
    },
    {
     "name": "stdout",
     "output_type": "stream",
     "text": [
      "processing uid diabetes_readmissiondomain_split_varname_admission_source_iddomain_split_ood_value_7\n",
      "processing split train\n"
     ]
    },
    {
     "name": "stderr",
     "output_type": "stream",
     "text": [
      "100%|███████████████████████████████████████████████████████████████████████████████████████| 21/21 [00:00<00:00, 51.27it/s]\n"
     ]
    },
    {
     "name": "stdout",
     "output_type": "stream",
     "text": [
      "processing split id_test\n"
     ]
    },
    {
     "name": "stderr",
     "output_type": "stream",
     "text": [
      "100%|██████████████████████████████████████████████████████████████████████████████████████| 10/10 [00:00<00:00, 109.92it/s]\n"
     ]
    },
    {
     "name": "stdout",
     "output_type": "stream",
     "text": [
      "processing split ood_test\n"
     ]
    },
    {
     "name": "stderr",
     "output_type": "stream",
     "text": [
      "100%|███████████████████████████████████████████████████████████████████████████████████████| 13/13 [00:00<00:00, 25.64it/s]\n"
     ]
    },
    {
     "name": "stdout",
     "output_type": "stream",
     "text": [
      "processing split validation\n"
     ]
    },
    {
     "name": "stderr",
     "output_type": "stream",
     "text": [
      "100%|██████████████████████████████████████████████████████████████████████████████████████| 13/13 [00:00<00:00, 118.82it/s]\n"
     ]
    },
    {
     "name": "stdout",
     "output_type": "stream",
     "text": [
      "processing split ood_validation\n"
     ]
    },
    {
     "name": "stderr",
     "output_type": "stream",
     "text": [
      "100%|█████████████████████████████████████████████████████████████████████████████████████████| 2/2 [00:00<00:00, 33.37it/s]\n"
     ]
    },
    {
     "name": "stdout",
     "output_type": "stream",
     "text": [
      "processing uid nhanes_leaddomain_split_varname_INDFMPIRBelowCutoffdomain_split_ood_value_1.0\n",
      "processing split train\n"
     ]
    },
    {
     "name": "stderr",
     "output_type": "stream",
     "text": [
      "100%|████████████████████████████████████████████████████████████████████████████████████████| 3/3 [00:00<00:00, 179.14it/s]\n"
     ]
    },
    {
     "name": "stdout",
     "output_type": "stream",
     "text": [
      "processing split id_test\n"
     ]
    },
    {
     "name": "stderr",
     "output_type": "stream",
     "text": [
      "100%|████████████████████████████████████████████████████████████████████████████████████████| 1/1 [00:00<00:00, 236.31it/s]\n"
     ]
    },
    {
     "name": "stdout",
     "output_type": "stream",
     "text": [
      "processing split ood_test\n"
     ]
    },
    {
     "name": "stderr",
     "output_type": "stream",
     "text": [
      "100%|████████████████████████████████████████████████████████████████████████████████████████| 3/3 [00:00<00:00, 179.24it/s]\n"
     ]
    },
    {
     "name": "stdout",
     "output_type": "stream",
     "text": [
      "processing split validation\n"
     ]
    },
    {
     "name": "stderr",
     "output_type": "stream",
     "text": [
      "100%|████████████████████████████████████████████████████████████████████████████████████████| 1/1 [00:00<00:00, 247.03it/s]\n"
     ]
    },
    {
     "name": "stdout",
     "output_type": "stream",
     "text": [
      "processing split ood_validation\n"
     ]
    },
    {
     "name": "stderr",
     "output_type": "stream",
     "text": [
      "100%|████████████████████████████████████████████████████████████████████████████████████████| 1/1 [00:00<00:00, 235.17it/s]\n"
     ]
    },
    {
     "name": "stdout",
     "output_type": "stream",
     "text": [
      "processing uid mimic_extract_los_3domain_split_varname_insurancedomain_split_ood_value_Medicare\n",
      "processing split train\n"
     ]
    },
    {
     "name": "stderr",
     "output_type": "stream",
     "text": [
      "100%|█████████████████████████████████████████████████████████████████████████████████████████| 5/5 [00:06<00:00,  1.34s/it]\n"
     ]
    },
    {
     "name": "stdout",
     "output_type": "stream",
     "text": [
      "processing split id_test\n"
     ]
    },
    {
     "name": "stderr",
     "output_type": "stream",
     "text": [
      "100%|█████████████████████████████████████████████████████████████████████████████████████████| 4/4 [00:01<00:00,  3.23it/s]\n"
     ]
    },
    {
     "name": "stdout",
     "output_type": "stream",
     "text": [
      "processing split ood_test\n"
     ]
    },
    {
     "name": "stderr",
     "output_type": "stream",
     "text": [
      "100%|█████████████████████████████████████████████████████████████████████████████████████████| 3/3 [00:08<00:00,  2.95s/it]\n"
     ]
    },
    {
     "name": "stdout",
     "output_type": "stream",
     "text": [
      "processing split validation\n"
     ]
    },
    {
     "name": "stderr",
     "output_type": "stream",
     "text": [
      "100%|█████████████████████████████████████████████████████████████████████████████████████████| 4/4 [00:01<00:00,  3.25it/s]\n"
     ]
    },
    {
     "name": "stdout",
     "output_type": "stream",
     "text": [
      "processing split ood_validation\n"
     ]
    },
    {
     "name": "stderr",
     "output_type": "stream",
     "text": [
      "100%|█████████████████████████████████████████████████████████████████████████████████████████| 1/1 [00:01<00:00,  1.04s/it]\n"
     ]
    },
    {
     "name": "stdout",
     "output_type": "stream",
     "text": [
      "processing uid mimic_extract_mort_hospdomain_split_varname_insurancedomain_split_ood_value_MedicareMedicaid\n",
      "processing split train\n"
     ]
    },
    {
     "name": "stderr",
     "output_type": "stream",
     "text": [
      "100%|█████████████████████████████████████████████████████████████████████████████████████████| 4/4 [00:05<00:00,  1.41s/it]\n"
     ]
    },
    {
     "name": "stdout",
     "output_type": "stream",
     "text": [
      "processing split id_test\n"
     ]
    },
    {
     "name": "stderr",
     "output_type": "stream",
     "text": [
      "100%|█████████████████████████████████████████████████████████████████████████████████████████| 3/3 [00:00<00:00,  3.05it/s]\n"
     ]
    },
    {
     "name": "stdout",
     "output_type": "stream",
     "text": [
      "processing split ood_test\n"
     ]
    },
    {
     "name": "stderr",
     "output_type": "stream",
     "text": [
      "100%|█████████████████████████████████████████████████████████████████████████████████████████| 4/4 [00:10<00:00,  2.60s/it]\n"
     ]
    },
    {
     "name": "stdout",
     "output_type": "stream",
     "text": [
      "processing split validation\n"
     ]
    },
    {
     "name": "stderr",
     "output_type": "stream",
     "text": [
      "100%|█████████████████████████████████████████████████████████████████████████████████████████| 3/3 [00:00<00:00,  3.03it/s]\n"
     ]
    },
    {
     "name": "stdout",
     "output_type": "stream",
     "text": [
      "processing split ood_validation\n"
     ]
    },
    {
     "name": "stderr",
     "output_type": "stream",
     "text": [
      "100%|█████████████████████████████████████████████████████████████████████████████████████████| 2/2 [00:01<00:00,  1.50it/s]\n"
     ]
    },
    {
     "name": "stdout",
     "output_type": "stream",
     "text": [
      "processing uid helocdomain_split_varname_ExternalRiskEstimateLowdomain_split_ood_value_0\n",
      "processing split train\n"
     ]
    },
    {
     "name": "stderr",
     "output_type": "stream",
     "text": [
      "100%|█████████████████████████████████████████████████████████████████████████████████████████| 1/1 [00:00<00:00, 75.09it/s]\n"
     ]
    },
    {
     "name": "stdout",
     "output_type": "stream",
     "text": [
      "processing split id_test\n"
     ]
    },
    {
     "name": "stderr",
     "output_type": "stream",
     "text": [
      "100%|████████████████████████████████████████████████████████████████████████████████████████| 1/1 [00:00<00:00, 204.32it/s]\n"
     ]
    },
    {
     "name": "stdout",
     "output_type": "stream",
     "text": [
      "processing split ood_test\n"
     ]
    },
    {
     "name": "stderr",
     "output_type": "stream",
     "text": [
      "100%|█████████████████████████████████████████████████████████████████████████████████████████| 2/2 [00:00<00:00, 61.59it/s]\n"
     ]
    },
    {
     "name": "stdout",
     "output_type": "stream",
     "text": [
      "processing split validation\n"
     ]
    },
    {
     "name": "stderr",
     "output_type": "stream",
     "text": [
      "100%|████████████████████████████████████████████████████████████████████████████████████████| 1/1 [00:00<00:00, 208.28it/s]\n"
     ]
    },
    {
     "name": "stdout",
     "output_type": "stream",
     "text": [
      "processing split ood_validation\n"
     ]
    },
    {
     "name": "stderr",
     "output_type": "stream",
     "text": [
      "100%|████████████████████████████████████████████████████████████████████████████████████████| 1/1 [00:00<00:00, 148.84it/s]\n"
     ]
    },
    {
     "name": "stdout",
     "output_type": "stream",
     "text": [
      "processing uid physionetICULOSgt47.0\n",
      "processing split train\n"
     ]
    },
    {
     "name": "stderr",
     "output_type": "stream",
     "text": [
      "100%|█████████████████████████████████████████████████████████████████████████████████████| 274/274 [00:04<00:00, 55.99it/s]\n"
     ]
    },
    {
     "name": "stdout",
     "output_type": "stream",
     "text": [
      "processing split id_test\n"
     ]
    },
    {
     "name": "stderr",
     "output_type": "stream",
     "text": [
      "100%|███████████████████████████████████████████████████████████████████████████████████████| 35/35 [00:00<00:00, 62.99it/s]\n"
     ]
    },
    {
     "name": "stdout",
     "output_type": "stream",
     "text": [
      "processing split ood_test\n"
     ]
    },
    {
     "name": "stderr",
     "output_type": "stream",
     "text": [
      "100%|███████████████████████████████████████████████████████████████████████████████████████| 33/33 [00:00<00:00, 43.44it/s]\n"
     ]
    },
    {
     "name": "stdout",
     "output_type": "stream",
     "text": [
      "processing split validation\n"
     ]
    },
    {
     "name": "stderr",
     "output_type": "stream",
     "text": [
      "100%|███████████████████████████████████████████████████████████████████████████████████████| 35/35 [00:00<00:00, 42.20it/s]\n"
     ]
    },
    {
     "name": "stdout",
     "output_type": "stream",
     "text": [
      "processing split ood_validation\n"
     ]
    },
    {
     "name": "stderr",
     "output_type": "stream",
     "text": [
      "100%|█████████████████████████████████████████████████████████████████████████████████████████| 4/4 [00:00<00:00, 41.95it/s]\n"
     ]
    }
   ],
   "source": [
    "# list of (uid, split, n_split, ymean) tuples\n",
    "results = []\n",
    "\n",
    "for uid in uids_list:\n",
    "    print(f'processing uid {uid}')\n",
    "    base_dir = os.path.join(cache_dir, uid)  \n",
    "    if uid == 'physionetICULOSgt47.0':\n",
    "        name = \"physionet\"\n",
    "    else:\n",
    "        name = extract_name_from_uid(uid)\n",
    "    dset = CachedDataset(cache_dir=cache_dir, uid=uid, name=name)\n",
    "    for split in ('train', 'id_test', 'ood_test', 'validation', 'ood_validation'):\n",
    "        print(f'processing split {split}')\n",
    "        yvals = list()\n",
    "        split_files = glob.glob(os.path.join(base_dir, split, '*', '*.csv'))\n",
    "\n",
    "        for f in tqdm(split_files):\n",
    "            df = pd.read_csv(f)\n",
    "            yvals.extend(df[dset.target].values.tolist())\n",
    "        \n",
    "        n_split = len(yvals)\n",
    "        ybar_split = np.array(yvals).mean()\n",
    "        results.append((uid, split, n_split, ybar_split))\n",
    "        "
   ]
  },
  {
   "cell_type": "code",
   "execution_count": 98,
   "id": "e4b2c3f4",
   "metadata": {},
   "outputs": [
    {
     "data": {
      "text/html": [
       "<div>\n",
       "<style scoped>\n",
       "    .dataframe tbody tr th:only-of-type {\n",
       "        vertical-align: middle;\n",
       "    }\n",
       "\n",
       "    .dataframe tbody tr th {\n",
       "        vertical-align: top;\n",
       "    }\n",
       "\n",
       "    .dataframe thead th {\n",
       "        text-align: right;\n",
       "    }\n",
       "</style>\n",
       "<table border=\"1\" class=\"dataframe\">\n",
       "  <thead>\n",
       "    <tr style=\"text-align: right;\">\n",
       "      <th></th>\n",
       "      <th>uid</th>\n",
       "      <th>split</th>\n",
       "      <th>n_split</th>\n",
       "      <th>ybar_split</th>\n",
       "    </tr>\n",
       "  </thead>\n",
       "  <tbody>\n",
       "    <tr>\n",
       "      <th>0</th>\n",
       "      <td>acsfoodstampsdomain_split_varname_DIVISIONdoma...</td>\n",
       "      <td>train</td>\n",
       "      <td>629018</td>\n",
       "      <td>0.190058</td>\n",
       "    </tr>\n",
       "    <tr>\n",
       "      <th>1</th>\n",
       "      <td>acsfoodstampsdomain_split_varname_DIVISIONdoma...</td>\n",
       "      <td>id_test</td>\n",
       "      <td>78628</td>\n",
       "      <td>0.190899</td>\n",
       "    </tr>\n",
       "    <tr>\n",
       "      <th>2</th>\n",
       "      <td>acsfoodstampsdomain_split_varname_DIVISIONdoma...</td>\n",
       "      <td>ood_test</td>\n",
       "      <td>48878</td>\n",
       "      <td>0.219874</td>\n",
       "    </tr>\n",
       "    <tr>\n",
       "      <th>3</th>\n",
       "      <td>acsfoodstampsdomain_split_varname_DIVISIONdoma...</td>\n",
       "      <td>validation</td>\n",
       "      <td>78627</td>\n",
       "      <td>0.187238</td>\n",
       "    </tr>\n",
       "    <tr>\n",
       "      <th>4</th>\n",
       "      <td>acsfoodstampsdomain_split_varname_DIVISIONdoma...</td>\n",
       "      <td>ood_validation</td>\n",
       "      <td>5431</td>\n",
       "      <td>0.213589</td>\n",
       "    </tr>\n",
       "    <tr>\n",
       "      <th>...</th>\n",
       "      <td>...</td>\n",
       "      <td>...</td>\n",
       "      <td>...</td>\n",
       "      <td>...</td>\n",
       "    </tr>\n",
       "    <tr>\n",
       "      <th>60</th>\n",
       "      <td>physionetICULOSgt47.0</td>\n",
       "      <td>train</td>\n",
       "      <td>1122299</td>\n",
       "      <td>0.011850</td>\n",
       "    </tr>\n",
       "    <tr>\n",
       "      <th>61</th>\n",
       "      <td>physionetICULOSgt47.0</td>\n",
       "      <td>id_test</td>\n",
       "      <td>140288</td>\n",
       "      <td>0.011997</td>\n",
       "    </tr>\n",
       "    <tr>\n",
       "      <th>62</th>\n",
       "      <td>physionetICULOSgt47.0</td>\n",
       "      <td>ood_test</td>\n",
       "      <td>134402</td>\n",
       "      <td>0.075073</td>\n",
       "    </tr>\n",
       "    <tr>\n",
       "      <th>63</th>\n",
       "      <td>physionetICULOSgt47.0</td>\n",
       "      <td>validation</td>\n",
       "      <td>140287</td>\n",
       "      <td>0.011833</td>\n",
       "    </tr>\n",
       "    <tr>\n",
       "      <th>64</th>\n",
       "      <td>physionetICULOSgt47.0</td>\n",
       "      <td>ood_validation</td>\n",
       "      <td>14934</td>\n",
       "      <td>0.079282</td>\n",
       "    </tr>\n",
       "  </tbody>\n",
       "</table>\n",
       "<p>65 rows × 4 columns</p>\n",
       "</div>"
      ],
      "text/plain": [
       "                                                  uid           split  \\\n",
       "0   acsfoodstampsdomain_split_varname_DIVISIONdoma...           train   \n",
       "1   acsfoodstampsdomain_split_varname_DIVISIONdoma...         id_test   \n",
       "2   acsfoodstampsdomain_split_varname_DIVISIONdoma...        ood_test   \n",
       "3   acsfoodstampsdomain_split_varname_DIVISIONdoma...      validation   \n",
       "4   acsfoodstampsdomain_split_varname_DIVISIONdoma...  ood_validation   \n",
       "..                                                ...             ...   \n",
       "60                              physionetICULOSgt47.0           train   \n",
       "61                              physionetICULOSgt47.0         id_test   \n",
       "62                              physionetICULOSgt47.0        ood_test   \n",
       "63                              physionetICULOSgt47.0      validation   \n",
       "64                              physionetICULOSgt47.0  ood_validation   \n",
       "\n",
       "    n_split  ybar_split  \n",
       "0    629018    0.190058  \n",
       "1     78628    0.190899  \n",
       "2     48878    0.219874  \n",
       "3     78627    0.187238  \n",
       "4      5431    0.213589  \n",
       "..      ...         ...  \n",
       "60  1122299    0.011850  \n",
       "61   140288    0.011997  \n",
       "62   134402    0.075073  \n",
       "63   140287    0.011833  \n",
       "64    14934    0.079282  \n",
       "\n",
       "[65 rows x 4 columns]"
      ]
     },
     "execution_count": 98,
     "metadata": {},
     "output_type": "execute_result"
    }
   ],
   "source": [
    "df = pd.DataFrame(results, columns=['uid', 'split', 'n_split', 'ybar_split'])\n",
    "df"
   ]
  },
  {
   "cell_type": "code",
   "execution_count": 99,
   "id": "c34a11ed",
   "metadata": {},
   "outputs": [
    {
     "data": {
      "text/html": [
       "<div>\n",
       "<style scoped>\n",
       "    .dataframe tbody tr th:only-of-type {\n",
       "        vertical-align: middle;\n",
       "    }\n",
       "\n",
       "    .dataframe tbody tr th {\n",
       "        vertical-align: top;\n",
       "    }\n",
       "\n",
       "    .dataframe thead tr th {\n",
       "        text-align: left;\n",
       "    }\n",
       "\n",
       "    .dataframe thead tr:last-of-type th {\n",
       "        text-align: right;\n",
       "    }\n",
       "</style>\n",
       "<table border=\"1\" class=\"dataframe\">\n",
       "  <thead>\n",
       "    <tr>\n",
       "      <th></th>\n",
       "      <th colspan=\"5\" halign=\"left\">n_split</th>\n",
       "      <th colspan=\"5\" halign=\"left\">ybar_split</th>\n",
       "    </tr>\n",
       "    <tr>\n",
       "      <th>split</th>\n",
       "      <th>id_test</th>\n",
       "      <th>ood_test</th>\n",
       "      <th>ood_validation</th>\n",
       "      <th>train</th>\n",
       "      <th>validation</th>\n",
       "      <th>id_test</th>\n",
       "      <th>ood_test</th>\n",
       "      <th>ood_validation</th>\n",
       "      <th>train</th>\n",
       "      <th>validation</th>\n",
       "    </tr>\n",
       "    <tr>\n",
       "      <th>uid</th>\n",
       "      <th></th>\n",
       "      <th></th>\n",
       "      <th></th>\n",
       "      <th></th>\n",
       "      <th></th>\n",
       "      <th></th>\n",
       "      <th></th>\n",
       "      <th></th>\n",
       "      <th></th>\n",
       "      <th></th>\n",
       "    </tr>\n",
       "  </thead>\n",
       "  <tbody>\n",
       "    <tr>\n",
       "      <th>acsfoodstampsdomain_split_varname_DIVISIONdomain_split_ood_value_06</th>\n",
       "      <td>78628</td>\n",
       "      <td>48878</td>\n",
       "      <td>5431</td>\n",
       "      <td>629018</td>\n",
       "      <td>78627</td>\n",
       "      <td>0.190899</td>\n",
       "      <td>0.219874</td>\n",
       "      <td>0.213589</td>\n",
       "      <td>0.190058</td>\n",
       "      <td>0.187238</td>\n",
       "    </tr>\n",
       "    <tr>\n",
       "      <th>acsincomedomain_split_varname_DIVISIONdomain_split_ood_value_01</th>\n",
       "      <td>158016</td>\n",
       "      <td>75911</td>\n",
       "      <td>8435</td>\n",
       "      <td>1264123</td>\n",
       "      <td>158015</td>\n",
       "      <td>0.320822</td>\n",
       "      <td>0.397966</td>\n",
       "      <td>0.401897</td>\n",
       "      <td>0.322643</td>\n",
       "      <td>0.323514</td>\n",
       "    </tr>\n",
       "    <tr>\n",
       "      <th>acspubcovdomain_split_varname_DISdomain_split_ood_value_1.0</th>\n",
       "      <td>500782</td>\n",
       "      <td>817877</td>\n",
       "      <td>90876</td>\n",
       "      <td>4006249</td>\n",
       "      <td>500781</td>\n",
       "      <td>0.223788</td>\n",
       "      <td>0.636270</td>\n",
       "      <td>0.639850</td>\n",
       "      <td>0.223905</td>\n",
       "      <td>0.222912</td>\n",
       "    </tr>\n",
       "    <tr>\n",
       "      <th>acsunemploymentdomain_split_varname_SCHLdomain_split_ood_value_010203040506070809101112131415</th>\n",
       "      <td>161365</td>\n",
       "      <td>163611</td>\n",
       "      <td>18180</td>\n",
       "      <td>1290914</td>\n",
       "      <td>161364</td>\n",
       "      <td>0.033824</td>\n",
       "      <td>0.051512</td>\n",
       "      <td>0.050605</td>\n",
       "      <td>0.034059</td>\n",
       "      <td>0.033409</td>\n",
       "    </tr>\n",
       "    <tr>\n",
       "      <th>anesdomain_split_varname_VCF0112domain_split_ood_value_3.0</th>\n",
       "      <td>520</td>\n",
       "      <td>2772</td>\n",
       "      <td>309</td>\n",
       "      <td>4159</td>\n",
       "      <td>520</td>\n",
       "      <td>0.803846</td>\n",
       "      <td>0.753968</td>\n",
       "      <td>0.750809</td>\n",
       "      <td>0.790815</td>\n",
       "      <td>0.809615</td>\n",
       "    </tr>\n",
       "    <tr>\n",
       "      <th>brfss_blood_pressuredomain_split_varname_BMI5CATdomain_split_ood_value_3.04.0</th>\n",
       "      <td>27052</td>\n",
       "      <td>518622</td>\n",
       "      <td>57625</td>\n",
       "      <td>216411</td>\n",
       "      <td>27051</td>\n",
       "      <td>0.401967</td>\n",
       "      <td>0.584293</td>\n",
       "      <td>0.583514</td>\n",
       "      <td>0.401213</td>\n",
       "      <td>0.402203</td>\n",
       "    </tr>\n",
       "    <tr>\n",
       "      <th>brfss_diabetesdomain_split_varname_PRACE1domain_split_ood_value_23456domain_split_id_values_1</th>\n",
       "      <td>121154</td>\n",
       "      <td>209375</td>\n",
       "      <td>23264</td>\n",
       "      <td>969229</td>\n",
       "      <td>121154</td>\n",
       "      <td>0.127227</td>\n",
       "      <td>0.174195</td>\n",
       "      <td>0.171252</td>\n",
       "      <td>0.124719</td>\n",
       "      <td>0.125477</td>\n",
       "    </tr>\n",
       "    <tr>\n",
       "      <th>diabetes_readmissiondomain_split_varname_admission_source_iddomain_split_ood_value_7</th>\n",
       "      <td>4287</td>\n",
       "      <td>50968</td>\n",
       "      <td>5664</td>\n",
       "      <td>34288</td>\n",
       "      <td>4286</td>\n",
       "      <td>0.416142</td>\n",
       "      <td>0.493839</td>\n",
       "      <td>0.506356</td>\n",
       "      <td>0.424230</td>\n",
       "      <td>0.421839</td>\n",
       "    </tr>\n",
       "    <tr>\n",
       "      <th>helocdomain_split_varname_ExternalRiskEstimateLowdomain_split_ood_value_0</th>\n",
       "      <td>278</td>\n",
       "      <td>6914</td>\n",
       "      <td>769</td>\n",
       "      <td>2220</td>\n",
       "      <td>278</td>\n",
       "      <td>0.255396</td>\n",
       "      <td>0.568990</td>\n",
       "      <td>0.526658</td>\n",
       "      <td>0.240991</td>\n",
       "      <td>0.197842</td>\n",
       "    </tr>\n",
       "    <tr>\n",
       "      <th>mimic_extract_los_3domain_split_varname_insurancedomain_split_ood_value_Medicare</th>\n",
       "      <td>1080</td>\n",
       "      <td>11835</td>\n",
       "      <td>1316</td>\n",
       "      <td>8634</td>\n",
       "      <td>1079</td>\n",
       "      <td>0.398148</td>\n",
       "      <td>0.455936</td>\n",
       "      <td>0.442249</td>\n",
       "      <td>0.404216</td>\n",
       "      <td>0.375348</td>\n",
       "    </tr>\n",
       "    <tr>\n",
       "      <th>mimic_extract_mort_hospdomain_split_varname_insurancedomain_split_ood_value_MedicareMedicaid</th>\n",
       "      <td>890</td>\n",
       "      <td>13544</td>\n",
       "      <td>1505</td>\n",
       "      <td>7116</td>\n",
       "      <td>889</td>\n",
       "      <td>0.085393</td>\n",
       "      <td>0.123892</td>\n",
       "      <td>0.123588</td>\n",
       "      <td>0.075464</td>\n",
       "      <td>0.071991</td>\n",
       "    </tr>\n",
       "    <tr>\n",
       "      <th>nhanes_leaddomain_split_varname_INDFMPIRBelowCutoffdomain_split_ood_value_1.0</th>\n",
       "      <td>1476</td>\n",
       "      <td>11466</td>\n",
       "      <td>1274</td>\n",
       "      <td>11807</td>\n",
       "      <td>1476</td>\n",
       "      <td>0.029133</td>\n",
       "      <td>0.080324</td>\n",
       "      <td>0.072998</td>\n",
       "      <td>0.025663</td>\n",
       "      <td>0.022358</td>\n",
       "    </tr>\n",
       "    <tr>\n",
       "      <th>physionetICULOSgt47.0</th>\n",
       "      <td>140288</td>\n",
       "      <td>134402</td>\n",
       "      <td>14934</td>\n",
       "      <td>1122299</td>\n",
       "      <td>140287</td>\n",
       "      <td>0.011997</td>\n",
       "      <td>0.075073</td>\n",
       "      <td>0.079282</td>\n",
       "      <td>0.011850</td>\n",
       "      <td>0.011833</td>\n",
       "    </tr>\n",
       "  </tbody>\n",
       "</table>\n",
       "</div>"
      ],
      "text/plain": [
       "                                                   n_split           \\\n",
       "split                                              id_test ood_test   \n",
       "uid                                                                   \n",
       "acsfoodstampsdomain_split_varname_DIVISIONdomai...   78628    48878   \n",
       "acsincomedomain_split_varname_DIVISIONdomain_sp...  158016    75911   \n",
       "acspubcovdomain_split_varname_DISdomain_split_o...  500782   817877   \n",
       "acsunemploymentdomain_split_varname_SCHLdomain_...  161365   163611   \n",
       "anesdomain_split_varname_VCF0112domain_split_oo...     520     2772   \n",
       "brfss_blood_pressuredomain_split_varname_BMI5CA...   27052   518622   \n",
       "brfss_diabetesdomain_split_varname_PRACE1domain...  121154   209375   \n",
       "diabetes_readmissiondomain_split_varname_admiss...    4287    50968   \n",
       "helocdomain_split_varname_ExternalRiskEstimateL...     278     6914   \n",
       "mimic_extract_los_3domain_split_varname_insuran...    1080    11835   \n",
       "mimic_extract_mort_hospdomain_split_varname_ins...     890    13544   \n",
       "nhanes_leaddomain_split_varname_INDFMPIRBelowCu...    1476    11466   \n",
       "physionetICULOSgt47.0                               140288   134402   \n",
       "\n",
       "                                                                            \\\n",
       "split                                              ood_validation    train   \n",
       "uid                                                                          \n",
       "acsfoodstampsdomain_split_varname_DIVISIONdomai...           5431   629018   \n",
       "acsincomedomain_split_varname_DIVISIONdomain_sp...           8435  1264123   \n",
       "acspubcovdomain_split_varname_DISdomain_split_o...          90876  4006249   \n",
       "acsunemploymentdomain_split_varname_SCHLdomain_...          18180  1290914   \n",
       "anesdomain_split_varname_VCF0112domain_split_oo...            309     4159   \n",
       "brfss_blood_pressuredomain_split_varname_BMI5CA...          57625   216411   \n",
       "brfss_diabetesdomain_split_varname_PRACE1domain...          23264   969229   \n",
       "diabetes_readmissiondomain_split_varname_admiss...           5664    34288   \n",
       "helocdomain_split_varname_ExternalRiskEstimateL...            769     2220   \n",
       "mimic_extract_los_3domain_split_varname_insuran...           1316     8634   \n",
       "mimic_extract_mort_hospdomain_split_varname_ins...           1505     7116   \n",
       "nhanes_leaddomain_split_varname_INDFMPIRBelowCu...           1274    11807   \n",
       "physionetICULOSgt47.0                                       14934  1122299   \n",
       "\n",
       "                                                              ybar_split  \\\n",
       "split                                              validation    id_test   \n",
       "uid                                                                        \n",
       "acsfoodstampsdomain_split_varname_DIVISIONdomai...      78627   0.190899   \n",
       "acsincomedomain_split_varname_DIVISIONdomain_sp...     158015   0.320822   \n",
       "acspubcovdomain_split_varname_DISdomain_split_o...     500781   0.223788   \n",
       "acsunemploymentdomain_split_varname_SCHLdomain_...     161364   0.033824   \n",
       "anesdomain_split_varname_VCF0112domain_split_oo...        520   0.803846   \n",
       "brfss_blood_pressuredomain_split_varname_BMI5CA...      27051   0.401967   \n",
       "brfss_diabetesdomain_split_varname_PRACE1domain...     121154   0.127227   \n",
       "diabetes_readmissiondomain_split_varname_admiss...       4286   0.416142   \n",
       "helocdomain_split_varname_ExternalRiskEstimateL...        278   0.255396   \n",
       "mimic_extract_los_3domain_split_varname_insuran...       1079   0.398148   \n",
       "mimic_extract_mort_hospdomain_split_varname_ins...        889   0.085393   \n",
       "nhanes_leaddomain_split_varname_INDFMPIRBelowCu...       1476   0.029133   \n",
       "physionetICULOSgt47.0                                  140287   0.011997   \n",
       "\n",
       "                                                                             \\\n",
       "split                                               ood_test ood_validation   \n",
       "uid                                                                           \n",
       "acsfoodstampsdomain_split_varname_DIVISIONdomai...  0.219874       0.213589   \n",
       "acsincomedomain_split_varname_DIVISIONdomain_sp...  0.397966       0.401897   \n",
       "acspubcovdomain_split_varname_DISdomain_split_o...  0.636270       0.639850   \n",
       "acsunemploymentdomain_split_varname_SCHLdomain_...  0.051512       0.050605   \n",
       "anesdomain_split_varname_VCF0112domain_split_oo...  0.753968       0.750809   \n",
       "brfss_blood_pressuredomain_split_varname_BMI5CA...  0.584293       0.583514   \n",
       "brfss_diabetesdomain_split_varname_PRACE1domain...  0.174195       0.171252   \n",
       "diabetes_readmissiondomain_split_varname_admiss...  0.493839       0.506356   \n",
       "helocdomain_split_varname_ExternalRiskEstimateL...  0.568990       0.526658   \n",
       "mimic_extract_los_3domain_split_varname_insuran...  0.455936       0.442249   \n",
       "mimic_extract_mort_hospdomain_split_varname_ins...  0.123892       0.123588   \n",
       "nhanes_leaddomain_split_varname_INDFMPIRBelowCu...  0.080324       0.072998   \n",
       "physionetICULOSgt47.0                               0.075073       0.079282   \n",
       "\n",
       "                                                                         \n",
       "split                                                  train validation  \n",
       "uid                                                                      \n",
       "acsfoodstampsdomain_split_varname_DIVISIONdomai...  0.190058   0.187238  \n",
       "acsincomedomain_split_varname_DIVISIONdomain_sp...  0.322643   0.323514  \n",
       "acspubcovdomain_split_varname_DISdomain_split_o...  0.223905   0.222912  \n",
       "acsunemploymentdomain_split_varname_SCHLdomain_...  0.034059   0.033409  \n",
       "anesdomain_split_varname_VCF0112domain_split_oo...  0.790815   0.809615  \n",
       "brfss_blood_pressuredomain_split_varname_BMI5CA...  0.401213   0.402203  \n",
       "brfss_diabetesdomain_split_varname_PRACE1domain...  0.124719   0.125477  \n",
       "diabetes_readmissiondomain_split_varname_admiss...  0.424230   0.421839  \n",
       "helocdomain_split_varname_ExternalRiskEstimateL...  0.240991   0.197842  \n",
       "mimic_extract_los_3domain_split_varname_insuran...  0.404216   0.375348  \n",
       "mimic_extract_mort_hospdomain_split_varname_ins...  0.075464   0.071991  \n",
       "nhanes_leaddomain_split_varname_INDFMPIRBelowCu...  0.025663   0.022358  \n",
       "physionetICULOSgt47.0                               0.011850   0.011833  "
      ]
     },
     "execution_count": 99,
     "metadata": {},
     "output_type": "execute_result"
    }
   ],
   "source": [
    "df.pivot(index='uid', columns=['split'])"
   ]
  },
  {
   "cell_type": "code",
   "execution_count": 100,
   "id": "8b8eb472",
   "metadata": {},
   "outputs": [
    {
     "data": {
      "text/html": [
       "<div>\n",
       "<style scoped>\n",
       "    .dataframe tbody tr th:only-of-type {\n",
       "        vertical-align: middle;\n",
       "    }\n",
       "\n",
       "    .dataframe tbody tr th {\n",
       "        vertical-align: top;\n",
       "    }\n",
       "\n",
       "    .dataframe thead th {\n",
       "        text-align: right;\n",
       "    }\n",
       "</style>\n",
       "<table border=\"1\" class=\"dataframe\">\n",
       "  <thead>\n",
       "    <tr style=\"text-align: right;\">\n",
       "      <th></th>\n",
       "      <th>uid</th>\n",
       "      <th>split</th>\n",
       "      <th>n_split</th>\n",
       "      <th>ybar_split</th>\n",
       "    </tr>\n",
       "  </thead>\n",
       "  <tbody>\n",
       "    <tr>\n",
       "      <th>0</th>\n",
       "      <td>acsfoodstampsdomain_split_varname_DIVISIONdoma...</td>\n",
       "      <td>train</td>\n",
       "      <td>629018</td>\n",
       "      <td>0.190058</td>\n",
       "    </tr>\n",
       "    <tr>\n",
       "      <th>1</th>\n",
       "      <td>acsfoodstampsdomain_split_varname_DIVISIONdoma...</td>\n",
       "      <td>id_test</td>\n",
       "      <td>78628</td>\n",
       "      <td>0.190899</td>\n",
       "    </tr>\n",
       "    <tr>\n",
       "      <th>2</th>\n",
       "      <td>acsfoodstampsdomain_split_varname_DIVISIONdoma...</td>\n",
       "      <td>ood_test</td>\n",
       "      <td>48878</td>\n",
       "      <td>0.219874</td>\n",
       "    </tr>\n",
       "    <tr>\n",
       "      <th>3</th>\n",
       "      <td>acsfoodstampsdomain_split_varname_DIVISIONdoma...</td>\n",
       "      <td>validation</td>\n",
       "      <td>78627</td>\n",
       "      <td>0.187238</td>\n",
       "    </tr>\n",
       "    <tr>\n",
       "      <th>4</th>\n",
       "      <td>acsfoodstampsdomain_split_varname_DIVISIONdoma...</td>\n",
       "      <td>ood_validation</td>\n",
       "      <td>5431</td>\n",
       "      <td>0.213589</td>\n",
       "    </tr>\n",
       "    <tr>\n",
       "      <th>...</th>\n",
       "      <td>...</td>\n",
       "      <td>...</td>\n",
       "      <td>...</td>\n",
       "      <td>...</td>\n",
       "    </tr>\n",
       "    <tr>\n",
       "      <th>60</th>\n",
       "      <td>physionetICULOSgt47.0</td>\n",
       "      <td>train</td>\n",
       "      <td>1122299</td>\n",
       "      <td>0.011850</td>\n",
       "    </tr>\n",
       "    <tr>\n",
       "      <th>61</th>\n",
       "      <td>physionetICULOSgt47.0</td>\n",
       "      <td>id_test</td>\n",
       "      <td>140288</td>\n",
       "      <td>0.011997</td>\n",
       "    </tr>\n",
       "    <tr>\n",
       "      <th>62</th>\n",
       "      <td>physionetICULOSgt47.0</td>\n",
       "      <td>ood_test</td>\n",
       "      <td>134402</td>\n",
       "      <td>0.075073</td>\n",
       "    </tr>\n",
       "    <tr>\n",
       "      <th>63</th>\n",
       "      <td>physionetICULOSgt47.0</td>\n",
       "      <td>validation</td>\n",
       "      <td>140287</td>\n",
       "      <td>0.011833</td>\n",
       "    </tr>\n",
       "    <tr>\n",
       "      <th>64</th>\n",
       "      <td>physionetICULOSgt47.0</td>\n",
       "      <td>ood_validation</td>\n",
       "      <td>14934</td>\n",
       "      <td>0.079282</td>\n",
       "    </tr>\n",
       "  </tbody>\n",
       "</table>\n",
       "<p>65 rows × 4 columns</p>\n",
       "</div>"
      ],
      "text/plain": [
       "                                                  uid           split  \\\n",
       "0   acsfoodstampsdomain_split_varname_DIVISIONdoma...           train   \n",
       "1   acsfoodstampsdomain_split_varname_DIVISIONdoma...         id_test   \n",
       "2   acsfoodstampsdomain_split_varname_DIVISIONdoma...        ood_test   \n",
       "3   acsfoodstampsdomain_split_varname_DIVISIONdoma...      validation   \n",
       "4   acsfoodstampsdomain_split_varname_DIVISIONdoma...  ood_validation   \n",
       "..                                                ...             ...   \n",
       "60                              physionetICULOSgt47.0           train   \n",
       "61                              physionetICULOSgt47.0         id_test   \n",
       "62                              physionetICULOSgt47.0        ood_test   \n",
       "63                              physionetICULOSgt47.0      validation   \n",
       "64                              physionetICULOSgt47.0  ood_validation   \n",
       "\n",
       "    n_split  ybar_split  \n",
       "0    629018    0.190058  \n",
       "1     78628    0.190899  \n",
       "2     48878    0.219874  \n",
       "3     78627    0.187238  \n",
       "4      5431    0.213589  \n",
       "..      ...         ...  \n",
       "60  1122299    0.011850  \n",
       "61   140288    0.011997  \n",
       "62   134402    0.075073  \n",
       "63   140287    0.011833  \n",
       "64    14934    0.079282  \n",
       "\n",
       "[65 rows x 4 columns]"
      ]
     },
     "execution_count": 100,
     "metadata": {},
     "output_type": "execute_result"
    }
   ],
   "source": [
    "df"
   ]
  },
  {
   "cell_type": "code",
   "execution_count": 101,
   "id": "b410de41",
   "metadata": {},
   "outputs": [],
   "source": [
    "df.pivot(index='uid', columns=['split']).reset_index().to_csv(\"dataset_summaries_by_split.csv\")"
   ]
  },
  {
   "cell_type": "code",
   "execution_count": 102,
   "id": "2408784f",
   "metadata": {},
   "outputs": [
    {
     "data": {
      "text/plain": [
       "uid\n",
       "acsfoodstampsdomain_split_varname_DIVISIONdomain_split_ood_value_06                              0.000840\n",
       "acsincomedomain_split_varname_DIVISIONdomain_split_ood_value_01                                  0.005951\n",
       "acspubcovdomain_split_varname_DISdomain_split_ood_value_1.0                                      0.170142\n",
       "acsunemploymentdomain_split_varname_SCHLdomain_split_ood_value_010203040506070809101112131415    0.000313\n",
       "anesdomain_split_varname_VCF0112domain_split_ood_value_3.0                                       0.002488\n",
       "brfss_blood_pressuredomain_split_varname_BMI5CATdomain_split_ood_value_3.04.0                    0.033243\n",
       "brfss_diabetesdomain_split_varname_PRACE1domain_split_ood_value_23456domain_split_id_values_1    0.002206\n",
       "diabetes_readmissiondomain_split_varname_admission_source_iddomain_split_ood_value_7             0.006037\n",
       "helocdomain_split_varname_ExternalRiskEstimateLowdomain_split_ood_value_0                        0.098342\n",
       "mimic_extract_los_3domain_split_varname_insurancedomain_split_ood_value_Medicare                 0.003339\n",
       "mimic_extract_mort_hospdomain_split_varname_insurancedomain_split_ood_value_MedicareMedicaid     0.001482\n",
       "nhanes_leaddomain_split_varname_INDFMPIRBelowCutoffdomain_split_ood_value_1.0                    0.002621\n",
       "physionetICULOSgt47.0                                                                            0.003979\n",
       "dtype: float64"
      ]
     },
     "execution_count": 102,
     "metadata": {},
     "output_type": "execute_result"
    }
   ],
   "source": [
    "tmp = df.pivot(index='uid', columns=['split'])\n",
    "ydiff_id_test_ood_test = tmp.loc[:,(\"ybar_split\", \"id_test\")] - tmp.loc[:,(\"ybar_split\", \"ood_test\")]\n",
    "ydiff_id_val_id_test = tmp.loc[:,(\"ybar_split\", \"validation\")] - tmp.loc[:,(\"ybar_split\", \"id_test\")]\n",
    "\n",
    "# (ydiff_id_test_ood_test**2)/abs(ydiff_id_val_id_test)\n",
    "ydiff_id_test_ood_test**2\n",
    "\n",
    "# ydiff_id_val_id_test"
   ]
  },
  {
   "cell_type": "markdown",
   "id": "f822bcc2",
   "metadata": {},
   "source": [
    "# otdd"
   ]
  },
  {
   "cell_type": "code",
   "execution_count": 44,
   "id": "9563e743",
   "metadata": {},
   "outputs": [
    {
     "name": "stderr",
     "output_type": "stream",
     "text": [
      "WARNING:otdd.pytorch.distance:ot.gpu not found - coupling computation will be in cpu\n"
     ]
    }
   ],
   "source": [
    "from otdd.pytorch.distance import DatasetDistance"
   ]
  },
  {
   "cell_type": "code",
   "execution_count": 48,
   "id": "d1d76fe7",
   "metadata": {},
   "outputs": [],
   "source": [
    "uid = 'helocdomain_split_varname_ExternalRiskEstimateLowdomain_split_ood_value_0'\n",
    "base_dir = os.path.join(cache_dir, uid)  \n",
    "name = extract_name_from_uid(uid)\n",
    "dset = CachedDataset(cache_dir=cache_dir, uid=uid, name=name)"
   ]
  },
  {
   "cell_type": "code",
   "execution_count": 115,
   "id": "0dba5fc5",
   "metadata": {},
   "outputs": [],
   "source": [
    "import torch\n",
    "\n",
    "def df_to_loader(df, target):\n",
    "    x = df.drop(columns=target)\n",
    "    y = df[target]\n",
    "    x = torch.from_numpy(x.values)\n",
    "    y = torch.from_numpy(y.values.astype(int))\n",
    "    tensor_dataset = TensorDataset(x,y)\n",
    "    loader = torch.utils.data.DataLoader(tensor_dataset, batch_size=64)\n",
    "    return loader"
   ]
  },
  {
   "cell_type": "code",
   "execution_count": 116,
   "id": "bfcfecde",
   "metadata": {},
   "outputs": [],
   "source": [
    "def read_split_data(base_dir):\n",
    "    \n",
    "    split_data = {}\n",
    "    \n",
    "    \n",
    "    # Read the test datasets\n",
    "    for split in (\"ood_test\", \"id_test\"):\n",
    "        print(split)\n",
    "        df_list = []\n",
    "        split_files = glob.glob(os.path.join(base_dir, split, '*', '*.csv'))\n",
    "\n",
    "        for f in tqdm(split_files):\n",
    "            df = pd.read_csv(f)\n",
    "            df_list.append(df)\n",
    "\n",
    "        split_data[split] = pd.concat(df_list)\n",
    "    return split_data"
   ]
  },
  {
   "cell_type": "code",
   "execution_count": null,
   "id": "5c245cdf",
   "metadata": {},
   "outputs": [],
   "source": []
  },
  {
   "cell_type": "code",
   "execution_count": 119,
   "id": "3a78e930",
   "metadata": {
    "scrolled": false
   },
   "outputs": [
    {
     "name": "stdout",
     "output_type": "stream",
     "text": [
      "processing acsfoodstampsdomain_split_varname_DIVISIONdomain_split_ood_value_06\n",
      "ood_test\n"
     ]
    },
    {
     "name": "stderr",
     "output_type": "stream",
     "text": [
      "100%|███████████████████████████████████████████████████████████████████████████████████████| 12/12 [00:00<00:00, 21.26it/s]\n"
     ]
    },
    {
     "name": "stdout",
     "output_type": "stream",
     "text": [
      "id_test\n"
     ]
    },
    {
     "name": "stderr",
     "output_type": "stream",
     "text": [
      "100%|███████████████████████████████████████████████████████████████████████████████████████| 23/23 [00:00<00:00, 26.13it/s]\n"
     ]
    },
    {
     "name": "stdout",
     "output_type": "stream",
     "text": [
      "computing distance for acsfoodstampsdomain_split_varname_DIVISIONdomain_split_ood_value_06\n"
     ]
    },
    {
     "data": {
      "application/vnd.jupyter.widget-view+json": {
       "model_id": "",
       "version_major": 2,
       "version_minor": 0
      },
      "text/plain": [
       "0it [00:00, ?it/s]"
      ]
     },
     "metadata": {},
     "output_type": "display_data"
    },
    {
     "data": {
      "application/vnd.jupyter.widget-view+json": {
       "model_id": "",
       "version_major": 2,
       "version_minor": 0
      },
      "text/plain": [
       "  0%|          | 0/1 [00:00<?, ?it/s]"
      ]
     },
     "metadata": {},
     "output_type": "display_data"
    },
    {
     "data": {
      "application/vnd.jupyter.widget-view+json": {
       "model_id": "",
       "version_major": 2,
       "version_minor": 0
      },
      "text/plain": [
       "0it [00:00, ?it/s]"
      ]
     },
     "metadata": {},
     "output_type": "display_data"
    },
    {
     "data": {
      "application/vnd.jupyter.widget-view+json": {
       "model_id": "",
       "version_major": 2,
       "version_minor": 0
      },
      "text/plain": [
       "  0%|          | 0/1 [00:00<?, ?it/s]"
      ]
     },
     "metadata": {},
     "output_type": "display_data"
    },
    {
     "data": {
      "application/vnd.jupyter.widget-view+json": {
       "model_id": "",
       "version_major": 2,
       "version_minor": 0
      },
      "text/plain": [
       "  0%|          | 0/4 [00:00<?, ?it/s]"
      ]
     },
     "metadata": {},
     "output_type": "display_data"
    },
    {
     "data": {
      "application/vnd.jupyter.widget-view+json": {
       "model_id": "",
       "version_major": 2,
       "version_minor": 0
      },
      "text/plain": [
       "  0%|          | 0/1229 [00:00<?, ?it/s]"
      ]
     },
     "metadata": {},
     "output_type": "display_data"
    },
    {
     "data": {
      "application/vnd.jupyter.widget-view+json": {
       "model_id": "",
       "version_major": 2,
       "version_minor": 0
      },
      "text/plain": [
       "  0%|          | 0/764 [00:00<?, ?it/s]"
      ]
     },
     "metadata": {},
     "output_type": "display_data"
    },
    {
     "name": "stdout",
     "output_type": "stream",
     "text": [
      "OTDD(src,tgt)=14.153221130371094\n",
      "processing acsincomedomain_split_varname_DIVISIONdomain_split_ood_value_01\n",
      "ood_test\n"
     ]
    },
    {
     "name": "stderr",
     "output_type": "stream",
     "text": [
      "100%|███████████████████████████████████████████████████████████████████████████████████████| 19/19 [00:00<00:00, 19.30it/s]\n"
     ]
    },
    {
     "name": "stdout",
     "output_type": "stream",
     "text": [
      "id_test\n"
     ]
    },
    {
     "name": "stderr",
     "output_type": "stream",
     "text": [
      "100%|███████████████████████████████████████████████████████████████████████████████████████| 44/44 [00:01<00:00, 23.47it/s]\n"
     ]
    },
    {
     "name": "stdout",
     "output_type": "stream",
     "text": [
      "computing distance for acsincomedomain_split_varname_DIVISIONdomain_split_ood_value_01\n"
     ]
    },
    {
     "data": {
      "application/vnd.jupyter.widget-view+json": {
       "model_id": "",
       "version_major": 2,
       "version_minor": 0
      },
      "text/plain": [
       "0it [00:00, ?it/s]"
      ]
     },
     "metadata": {},
     "output_type": "display_data"
    },
    {
     "data": {
      "application/vnd.jupyter.widget-view+json": {
       "model_id": "",
       "version_major": 2,
       "version_minor": 0
      },
      "text/plain": [
       "  0%|          | 0/1 [00:00<?, ?it/s]"
      ]
     },
     "metadata": {},
     "output_type": "display_data"
    },
    {
     "data": {
      "application/vnd.jupyter.widget-view+json": {
       "model_id": "",
       "version_major": 2,
       "version_minor": 0
      },
      "text/plain": [
       "0it [00:00, ?it/s]"
      ]
     },
     "metadata": {},
     "output_type": "display_data"
    },
    {
     "data": {
      "application/vnd.jupyter.widget-view+json": {
       "model_id": "",
       "version_major": 2,
       "version_minor": 0
      },
      "text/plain": [
       "  0%|          | 0/1 [00:00<?, ?it/s]"
      ]
     },
     "metadata": {},
     "output_type": "display_data"
    },
    {
     "data": {
      "application/vnd.jupyter.widget-view+json": {
       "model_id": "",
       "version_major": 2,
       "version_minor": 0
      },
      "text/plain": [
       "  0%|          | 0/4 [00:00<?, ?it/s]"
      ]
     },
     "metadata": {},
     "output_type": "display_data"
    },
    {
     "data": {
      "application/vnd.jupyter.widget-view+json": {
       "model_id": "",
       "version_major": 2,
       "version_minor": 0
      },
      "text/plain": [
       "  0%|          | 0/2469 [00:00<?, ?it/s]"
      ]
     },
     "metadata": {},
     "output_type": "display_data"
    },
    {
     "data": {
      "application/vnd.jupyter.widget-view+json": {
       "model_id": "",
       "version_major": 2,
       "version_minor": 0
      },
      "text/plain": [
       "  0%|          | 0/1187 [00:00<?, ?it/s]"
      ]
     },
     "metadata": {},
     "output_type": "display_data"
    },
    {
     "name": "stdout",
     "output_type": "stream",
     "text": [
      "OTDD(src,tgt)=30.68935203552246\n",
      "processing acspubcovdomain_split_varname_DISdomain_split_ood_value_1.0\n",
      "ood_test\n"
     ]
    },
    {
     "name": "stderr",
     "output_type": "stream",
     "text": [
      "100%|█████████████████████████████████████████████████████████████████████████████████████| 200/200 [00:05<00:00, 35.10it/s]\n"
     ]
    },
    {
     "name": "stdout",
     "output_type": "stream",
     "text": [
      "id_test\n"
     ]
    },
    {
     "name": "stderr",
     "output_type": "stream",
     "text": [
      "100%|█████████████████████████████████████████████████████████████████████████████████████| 123/123 [00:03<00:00, 36.50it/s]\n"
     ]
    },
    {
     "name": "stdout",
     "output_type": "stream",
     "text": [
      "computing distance for acspubcovdomain_split_varname_DISdomain_split_ood_value_1.0\n"
     ]
    },
    {
     "data": {
      "application/vnd.jupyter.widget-view+json": {
       "model_id": "",
       "version_major": 2,
       "version_minor": 0
      },
      "text/plain": [
       "0it [00:00, ?it/s]"
      ]
     },
     "metadata": {},
     "output_type": "display_data"
    },
    {
     "data": {
      "application/vnd.jupyter.widget-view+json": {
       "model_id": "",
       "version_major": 2,
       "version_minor": 0
      },
      "text/plain": [
       "  0%|          | 0/1 [00:00<?, ?it/s]"
      ]
     },
     "metadata": {},
     "output_type": "display_data"
    },
    {
     "data": {
      "application/vnd.jupyter.widget-view+json": {
       "model_id": "",
       "version_major": 2,
       "version_minor": 0
      },
      "text/plain": [
       "0it [00:00, ?it/s]"
      ]
     },
     "metadata": {},
     "output_type": "display_data"
    },
    {
     "data": {
      "application/vnd.jupyter.widget-view+json": {
       "model_id": "",
       "version_major": 2,
       "version_minor": 0
      },
      "text/plain": [
       "  0%|          | 0/1 [00:00<?, ?it/s]"
      ]
     },
     "metadata": {},
     "output_type": "display_data"
    },
    {
     "data": {
      "application/vnd.jupyter.widget-view+json": {
       "model_id": "",
       "version_major": 2,
       "version_minor": 0
      },
      "text/plain": [
       "  0%|          | 0/4 [00:00<?, ?it/s]"
      ]
     },
     "metadata": {},
     "output_type": "display_data"
    },
    {
     "data": {
      "application/vnd.jupyter.widget-view+json": {
       "model_id": "",
       "version_major": 2,
       "version_minor": 0
      },
      "text/plain": [
       "  0%|          | 0/7825 [00:00<?, ?it/s]"
      ]
     },
     "metadata": {},
     "output_type": "display_data"
    },
    {
     "data": {
      "application/vnd.jupyter.widget-view+json": {
       "model_id": "",
       "version_major": 2,
       "version_minor": 0
      },
      "text/plain": [
       "  0%|          | 0/12780 [00:00<?, ?it/s]"
      ]
     },
     "metadata": {},
     "output_type": "display_data"
    },
    {
     "name": "stdout",
     "output_type": "stream",
     "text": [
      "OTDD(src,tgt)=5.790109157562256\n",
      "processing acsunemploymentdomain_split_varname_SCHLdomain_split_ood_value_010203040506070809101112131415\n",
      "ood_test\n"
     ]
    },
    {
     "name": "stderr",
     "output_type": "stream",
     "text": [
      "100%|███████████████████████████████████████████████████████████████████████████████████████| 49/49 [00:01<00:00, 27.34it/s]\n"
     ]
    },
    {
     "name": "stdout",
     "output_type": "stream",
     "text": [
      "id_test\n"
     ]
    },
    {
     "name": "stderr",
     "output_type": "stream",
     "text": [
      "100%|███████████████████████████████████████████████████████████████████████████████████████| 42/42 [00:01<00:00, 24.10it/s]\n"
     ]
    },
    {
     "name": "stdout",
     "output_type": "stream",
     "text": [
      "computing distance for acsunemploymentdomain_split_varname_SCHLdomain_split_ood_value_010203040506070809101112131415\n"
     ]
    },
    {
     "data": {
      "application/vnd.jupyter.widget-view+json": {
       "model_id": "",
       "version_major": 2,
       "version_minor": 0
      },
      "text/plain": [
       "0it [00:00, ?it/s]"
      ]
     },
     "metadata": {},
     "output_type": "display_data"
    },
    {
     "data": {
      "application/vnd.jupyter.widget-view+json": {
       "model_id": "",
       "version_major": 2,
       "version_minor": 0
      },
      "text/plain": [
       "  0%|          | 0/1 [00:00<?, ?it/s]"
      ]
     },
     "metadata": {},
     "output_type": "display_data"
    },
    {
     "data": {
      "application/vnd.jupyter.widget-view+json": {
       "model_id": "",
       "version_major": 2,
       "version_minor": 0
      },
      "text/plain": [
       "0it [00:00, ?it/s]"
      ]
     },
     "metadata": {},
     "output_type": "display_data"
    },
    {
     "data": {
      "application/vnd.jupyter.widget-view+json": {
       "model_id": "",
       "version_major": 2,
       "version_minor": 0
      },
      "text/plain": [
       "  0%|          | 0/1 [00:00<?, ?it/s]"
      ]
     },
     "metadata": {},
     "output_type": "display_data"
    },
    {
     "data": {
      "application/vnd.jupyter.widget-view+json": {
       "model_id": "",
       "version_major": 2,
       "version_minor": 0
      },
      "text/plain": [
       "  0%|          | 0/4 [00:00<?, ?it/s]"
      ]
     },
     "metadata": {},
     "output_type": "display_data"
    },
    {
     "data": {
      "application/vnd.jupyter.widget-view+json": {
       "model_id": "",
       "version_major": 2,
       "version_minor": 0
      },
      "text/plain": [
       "  0%|          | 0/2522 [00:00<?, ?it/s]"
      ]
     },
     "metadata": {},
     "output_type": "display_data"
    },
    {
     "data": {
      "application/vnd.jupyter.widget-view+json": {
       "model_id": "",
       "version_major": 2,
       "version_minor": 0
      },
      "text/plain": [
       "  0%|          | 0/2557 [00:00<?, ?it/s]"
      ]
     },
     "metadata": {},
     "output_type": "display_data"
    },
    {
     "name": "stdout",
     "output_type": "stream",
     "text": [
      "OTDD(src,tgt)=74.69134521484375\n",
      "processing anesdomain_split_varname_VCF0112domain_split_ood_value_3.0\n",
      "ood_test\n"
     ]
    },
    {
     "name": "stderr",
     "output_type": "stream",
     "text": [
      "100%|█████████████████████████████████████████████████████████████████████████████████████████| 1/1 [00:00<00:00, 28.85it/s]\n"
     ]
    },
    {
     "name": "stdout",
     "output_type": "stream",
     "text": [
      "id_test\n"
     ]
    },
    {
     "name": "stderr",
     "output_type": "stream",
     "text": [
      "100%|████████████████████████████████████████████████████████████████████████████████████████| 3/3 [00:00<00:00, 126.50it/s]"
     ]
    },
    {
     "name": "stdout",
     "output_type": "stream",
     "text": [
      "computing distance for anesdomain_split_varname_VCF0112domain_split_ood_value_3.0\n"
     ]
    },
    {
     "name": "stderr",
     "output_type": "stream",
     "text": [
      "\n"
     ]
    },
    {
     "data": {
      "application/vnd.jupyter.widget-view+json": {
       "model_id": "",
       "version_major": 2,
       "version_minor": 0
      },
      "text/plain": [
       "0it [00:00, ?it/s]"
      ]
     },
     "metadata": {},
     "output_type": "display_data"
    },
    {
     "data": {
      "application/vnd.jupyter.widget-view+json": {
       "model_id": "",
       "version_major": 2,
       "version_minor": 0
      },
      "text/plain": [
       "  0%|          | 0/1 [00:00<?, ?it/s]"
      ]
     },
     "metadata": {},
     "output_type": "display_data"
    },
    {
     "data": {
      "application/vnd.jupyter.widget-view+json": {
       "model_id": "",
       "version_major": 2,
       "version_minor": 0
      },
      "text/plain": [
       "0it [00:00, ?it/s]"
      ]
     },
     "metadata": {},
     "output_type": "display_data"
    },
    {
     "data": {
      "application/vnd.jupyter.widget-view+json": {
       "model_id": "",
       "version_major": 2,
       "version_minor": 0
      },
      "text/plain": [
       "  0%|          | 0/1 [00:00<?, ?it/s]"
      ]
     },
     "metadata": {},
     "output_type": "display_data"
    },
    {
     "data": {
      "application/vnd.jupyter.widget-view+json": {
       "model_id": "",
       "version_major": 2,
       "version_minor": 0
      },
      "text/plain": [
       "  0%|          | 0/4 [00:00<?, ?it/s]"
      ]
     },
     "metadata": {},
     "output_type": "display_data"
    },
    {
     "name": "stderr",
     "output_type": "stream",
     "text": [
      "WARNING:otdd.pytorch.utils:Maxsamples is greater than number of effective examples in loader. Will not subsample.\n"
     ]
    },
    {
     "data": {
      "application/vnd.jupyter.widget-view+json": {
       "model_id": "",
       "version_major": 2,
       "version_minor": 0
      },
      "text/plain": [
       "  0%|          | 0/9 [00:00<?, ?it/s]"
      ]
     },
     "metadata": {},
     "output_type": "display_data"
    },
    {
     "name": "stderr",
     "output_type": "stream",
     "text": [
      "WARNING:otdd.pytorch.utils:Maxsamples is greater than number of effective examples in loader. Will not subsample.\n"
     ]
    },
    {
     "data": {
      "application/vnd.jupyter.widget-view+json": {
       "model_id": "",
       "version_major": 2,
       "version_minor": 0
      },
      "text/plain": [
       "  0%|          | 0/44 [00:00<?, ?it/s]"
      ]
     },
     "metadata": {},
     "output_type": "display_data"
    },
    {
     "name": "stdout",
     "output_type": "stream",
     "text": [
      "OTDD(src,tgt)=13.602598190307617\n",
      "processing brfss_diabetesdomain_split_varname_PRACE1domain_split_ood_value_23456domain_split_id_values_1\n",
      "ood_test\n"
     ]
    },
    {
     "name": "stderr",
     "output_type": "stream",
     "text": [
      "100%|███████████████████████████████████████████████████████████████████████████████████████| 53/53 [00:01<00:00, 31.78it/s]\n"
     ]
    },
    {
     "name": "stdout",
     "output_type": "stream",
     "text": [
      "id_test\n"
     ]
    },
    {
     "name": "stderr",
     "output_type": "stream",
     "text": [
      "100%|███████████████████████████████████████████████████████████████████████████████████████| 30/30 [00:00<00:00, 32.22it/s]\n"
     ]
    },
    {
     "name": "stdout",
     "output_type": "stream",
     "text": [
      "computing distance for brfss_diabetesdomain_split_varname_PRACE1domain_split_ood_value_23456domain_split_id_values_1\n"
     ]
    },
    {
     "data": {
      "application/vnd.jupyter.widget-view+json": {
       "model_id": "",
       "version_major": 2,
       "version_minor": 0
      },
      "text/plain": [
       "0it [00:00, ?it/s]"
      ]
     },
     "metadata": {},
     "output_type": "display_data"
    },
    {
     "data": {
      "application/vnd.jupyter.widget-view+json": {
       "model_id": "",
       "version_major": 2,
       "version_minor": 0
      },
      "text/plain": [
       "  0%|          | 0/1 [00:00<?, ?it/s]"
      ]
     },
     "metadata": {},
     "output_type": "display_data"
    },
    {
     "data": {
      "application/vnd.jupyter.widget-view+json": {
       "model_id": "",
       "version_major": 2,
       "version_minor": 0
      },
      "text/plain": [
       "0it [00:00, ?it/s]"
      ]
     },
     "metadata": {},
     "output_type": "display_data"
    },
    {
     "data": {
      "application/vnd.jupyter.widget-view+json": {
       "model_id": "",
       "version_major": 2,
       "version_minor": 0
      },
      "text/plain": [
       "  0%|          | 0/1 [00:00<?, ?it/s]"
      ]
     },
     "metadata": {},
     "output_type": "display_data"
    },
    {
     "data": {
      "application/vnd.jupyter.widget-view+json": {
       "model_id": "",
       "version_major": 2,
       "version_minor": 0
      },
      "text/plain": [
       "  0%|          | 0/4 [00:00<?, ?it/s]"
      ]
     },
     "metadata": {},
     "output_type": "display_data"
    },
    {
     "data": {
      "application/vnd.jupyter.widget-view+json": {
       "model_id": "",
       "version_major": 2,
       "version_minor": 0
      },
      "text/plain": [
       "  0%|          | 0/1894 [00:00<?, ?it/s]"
      ]
     },
     "metadata": {},
     "output_type": "display_data"
    },
    {
     "data": {
      "application/vnd.jupyter.widget-view+json": {
       "model_id": "",
       "version_major": 2,
       "version_minor": 0
      },
      "text/plain": [
       "  0%|          | 0/3272 [00:00<?, ?it/s]"
      ]
     },
     "metadata": {},
     "output_type": "display_data"
    },
    {
     "name": "stdout",
     "output_type": "stream",
     "text": [
      "OTDD(src,tgt)=12.390345573425293\n",
      "processing brfss_blood_pressuredomain_split_varname_BMI5CATdomain_split_ood_value_3.04.0\n",
      "ood_test\n"
     ]
    },
    {
     "name": "stderr",
     "output_type": "stream",
     "text": [
      "100%|█████████████████████████████████████████████████████████████████████████████████████| 128/128 [00:04<00:00, 26.44it/s]\n"
     ]
    },
    {
     "name": "stdout",
     "output_type": "stream",
     "text": [
      "id_test\n"
     ]
    },
    {
     "name": "stderr",
     "output_type": "stream",
     "text": [
      "100%|█████████████████████████████████████████████████████████████████████████████████████████| 8/8 [00:00<00:00, 33.98it/s]\n"
     ]
    },
    {
     "name": "stdout",
     "output_type": "stream",
     "text": [
      "computing distance for brfss_blood_pressuredomain_split_varname_BMI5CATdomain_split_ood_value_3.04.0\n"
     ]
    },
    {
     "data": {
      "application/vnd.jupyter.widget-view+json": {
       "model_id": "",
       "version_major": 2,
       "version_minor": 0
      },
      "text/plain": [
       "0it [00:00, ?it/s]"
      ]
     },
     "metadata": {},
     "output_type": "display_data"
    },
    {
     "data": {
      "application/vnd.jupyter.widget-view+json": {
       "model_id": "",
       "version_major": 2,
       "version_minor": 0
      },
      "text/plain": [
       "  0%|          | 0/1 [00:00<?, ?it/s]"
      ]
     },
     "metadata": {},
     "output_type": "display_data"
    },
    {
     "data": {
      "application/vnd.jupyter.widget-view+json": {
       "model_id": "",
       "version_major": 2,
       "version_minor": 0
      },
      "text/plain": [
       "0it [00:00, ?it/s]"
      ]
     },
     "metadata": {},
     "output_type": "display_data"
    },
    {
     "data": {
      "application/vnd.jupyter.widget-view+json": {
       "model_id": "",
       "version_major": 2,
       "version_minor": 0
      },
      "text/plain": [
       "  0%|          | 0/1 [00:00<?, ?it/s]"
      ]
     },
     "metadata": {},
     "output_type": "display_data"
    },
    {
     "data": {
      "application/vnd.jupyter.widget-view+json": {
       "model_id": "",
       "version_major": 2,
       "version_minor": 0
      },
      "text/plain": [
       "  0%|          | 0/4 [00:00<?, ?it/s]"
      ]
     },
     "metadata": {},
     "output_type": "display_data"
    },
    {
     "data": {
      "application/vnd.jupyter.widget-view+json": {
       "model_id": "",
       "version_major": 2,
       "version_minor": 0
      },
      "text/plain": [
       "  0%|          | 0/423 [00:00<?, ?it/s]"
      ]
     },
     "metadata": {},
     "output_type": "display_data"
    },
    {
     "data": {
      "application/vnd.jupyter.widget-view+json": {
       "model_id": "",
       "version_major": 2,
       "version_minor": 0
      },
      "text/plain": [
       "  0%|          | 0/8104 [00:00<?, ?it/s]"
      ]
     },
     "metadata": {},
     "output_type": "display_data"
    },
    {
     "name": "stdout",
     "output_type": "stream",
     "text": [
      "OTDD(src,tgt)=4.630350589752197\n",
      "processing diabetes_readmissiondomain_split_varname_admission_source_iddomain_split_ood_value_7\n",
      "ood_test\n"
     ]
    },
    {
     "name": "stderr",
     "output_type": "stream",
     "text": [
      "100%|███████████████████████████████████████████████████████████████████████████████████████| 13/13 [00:00<00:00, 24.35it/s]\n"
     ]
    },
    {
     "name": "stdout",
     "output_type": "stream",
     "text": [
      "id_test\n"
     ]
    },
    {
     "name": "stderr",
     "output_type": "stream",
     "text": [
      "100%|██████████████████████████████████████████████████████████████████████████████████████| 10/10 [00:00<00:00, 111.67it/s]\n"
     ]
    },
    {
     "name": "stdout",
     "output_type": "stream",
     "text": [
      "computing distance for diabetes_readmissiondomain_split_varname_admission_source_iddomain_split_ood_value_7\n"
     ]
    },
    {
     "data": {
      "application/vnd.jupyter.widget-view+json": {
       "model_id": "",
       "version_major": 2,
       "version_minor": 0
      },
      "text/plain": [
       "0it [00:00, ?it/s]"
      ]
     },
     "metadata": {},
     "output_type": "display_data"
    },
    {
     "data": {
      "application/vnd.jupyter.widget-view+json": {
       "model_id": "",
       "version_major": 2,
       "version_minor": 0
      },
      "text/plain": [
       "  0%|          | 0/1 [00:00<?, ?it/s]"
      ]
     },
     "metadata": {},
     "output_type": "display_data"
    },
    {
     "data": {
      "application/vnd.jupyter.widget-view+json": {
       "model_id": "",
       "version_major": 2,
       "version_minor": 0
      },
      "text/plain": [
       "0it [00:00, ?it/s]"
      ]
     },
     "metadata": {},
     "output_type": "display_data"
    },
    {
     "data": {
      "application/vnd.jupyter.widget-view+json": {
       "model_id": "",
       "version_major": 2,
       "version_minor": 0
      },
      "text/plain": [
       "  0%|          | 0/1 [00:00<?, ?it/s]"
      ]
     },
     "metadata": {},
     "output_type": "display_data"
    },
    {
     "data": {
      "application/vnd.jupyter.widget-view+json": {
       "model_id": "",
       "version_major": 2,
       "version_minor": 0
      },
      "text/plain": [
       "  0%|          | 0/4 [00:00<?, ?it/s]"
      ]
     },
     "metadata": {},
     "output_type": "display_data"
    },
    {
     "name": "stderr",
     "output_type": "stream",
     "text": [
      "WARNING:otdd.pytorch.utils:Maxsamples is greater than number of effective examples in loader. Will not subsample.\n"
     ]
    },
    {
     "data": {
      "application/vnd.jupyter.widget-view+json": {
       "model_id": "",
       "version_major": 2,
       "version_minor": 0
      },
      "text/plain": [
       "  0%|          | 0/67 [00:00<?, ?it/s]"
      ]
     },
     "metadata": {},
     "output_type": "display_data"
    },
    {
     "data": {
      "application/vnd.jupyter.widget-view+json": {
       "model_id": "",
       "version_major": 2,
       "version_minor": 0
      },
      "text/plain": [
       "  0%|          | 0/797 [00:00<?, ?it/s]"
      ]
     },
     "metadata": {},
     "output_type": "display_data"
    },
    {
     "name": "stdout",
     "output_type": "stream",
     "text": [
      "OTDD(src,tgt)=42.49802780151367\n",
      "processing nhanes_leaddomain_split_varname_INDFMPIRBelowCutoffdomain_split_ood_value_1.0\n",
      "ood_test\n"
     ]
    },
    {
     "name": "stderr",
     "output_type": "stream",
     "text": [
      "100%|████████████████████████████████████████████████████████████████████████████████████████| 3/3 [00:00<00:00, 170.00it/s]\n"
     ]
    },
    {
     "name": "stdout",
     "output_type": "stream",
     "text": [
      "id_test\n"
     ]
    },
    {
     "name": "stderr",
     "output_type": "stream",
     "text": [
      "100%|████████████████████████████████████████████████████████████████████████████████████████| 1/1 [00:00<00:00, 233.48it/s]"
     ]
    },
    {
     "name": "stdout",
     "output_type": "stream",
     "text": [
      "computing distance for nhanes_leaddomain_split_varname_INDFMPIRBelowCutoffdomain_split_ood_value_1.0\n"
     ]
    },
    {
     "name": "stderr",
     "output_type": "stream",
     "text": [
      "\n"
     ]
    },
    {
     "data": {
      "application/vnd.jupyter.widget-view+json": {
       "model_id": "",
       "version_major": 2,
       "version_minor": 0
      },
      "text/plain": [
       "0it [00:00, ?it/s]"
      ]
     },
     "metadata": {},
     "output_type": "display_data"
    },
    {
     "data": {
      "application/vnd.jupyter.widget-view+json": {
       "model_id": "",
       "version_major": 2,
       "version_minor": 0
      },
      "text/plain": [
       "  0%|          | 0/1 [00:00<?, ?it/s]"
      ]
     },
     "metadata": {},
     "output_type": "display_data"
    },
    {
     "data": {
      "application/vnd.jupyter.widget-view+json": {
       "model_id": "",
       "version_major": 2,
       "version_minor": 0
      },
      "text/plain": [
       "0it [00:00, ?it/s]"
      ]
     },
     "metadata": {},
     "output_type": "display_data"
    },
    {
     "data": {
      "application/vnd.jupyter.widget-view+json": {
       "model_id": "",
       "version_major": 2,
       "version_minor": 0
      },
      "text/plain": [
       "  0%|          | 0/1 [00:00<?, ?it/s]"
      ]
     },
     "metadata": {},
     "output_type": "display_data"
    },
    {
     "data": {
      "application/vnd.jupyter.widget-view+json": {
       "model_id": "",
       "version_major": 2,
       "version_minor": 0
      },
      "text/plain": [
       "  0%|          | 0/4 [00:00<?, ?it/s]"
      ]
     },
     "metadata": {},
     "output_type": "display_data"
    },
    {
     "name": "stderr",
     "output_type": "stream",
     "text": [
      "WARNING:otdd.pytorch.utils:Maxsamples is greater than number of effective examples in loader. Will not subsample.\n"
     ]
    },
    {
     "data": {
      "application/vnd.jupyter.widget-view+json": {
       "model_id": "",
       "version_major": 2,
       "version_minor": 0
      },
      "text/plain": [
       "  0%|          | 0/24 [00:00<?, ?it/s]"
      ]
     },
     "metadata": {},
     "output_type": "display_data"
    },
    {
     "data": {
      "application/vnd.jupyter.widget-view+json": {
       "model_id": "",
       "version_major": 2,
       "version_minor": 0
      },
      "text/plain": [
       "  0%|          | 0/180 [00:00<?, ?it/s]"
      ]
     },
     "metadata": {},
     "output_type": "display_data"
    },
    {
     "name": "stdout",
     "output_type": "stream",
     "text": [
      "OTDD(src,tgt)=1.2975397109985352\n",
      "processing mimic_extract_los_3domain_split_varname_insurancedomain_split_ood_value_Medicare\n",
      "ood_test\n"
     ]
    },
    {
     "name": "stderr",
     "output_type": "stream",
     "text": [
      "100%|█████████████████████████████████████████████████████████████████████████████████████████| 3/3 [00:08<00:00,  2.89s/it]\n"
     ]
    },
    {
     "name": "stdout",
     "output_type": "stream",
     "text": [
      "id_test\n"
     ]
    },
    {
     "name": "stderr",
     "output_type": "stream",
     "text": [
      "100%|█████████████████████████████████████████████████████████████████████████████████████████| 4/4 [00:01<00:00,  3.31it/s]\n"
     ]
    },
    {
     "name": "stdout",
     "output_type": "stream",
     "text": [
      "computing distance for mimic_extract_los_3domain_split_varname_insurancedomain_split_ood_value_Medicare\n"
     ]
    },
    {
     "data": {
      "application/vnd.jupyter.widget-view+json": {
       "model_id": "",
       "version_major": 2,
       "version_minor": 0
      },
      "text/plain": [
       "0it [00:00, ?it/s]"
      ]
     },
     "metadata": {},
     "output_type": "display_data"
    },
    {
     "data": {
      "application/vnd.jupyter.widget-view+json": {
       "model_id": "",
       "version_major": 2,
       "version_minor": 0
      },
      "text/plain": [
       "  0%|          | 0/1 [00:00<?, ?it/s]"
      ]
     },
     "metadata": {},
     "output_type": "display_data"
    },
    {
     "data": {
      "application/vnd.jupyter.widget-view+json": {
       "model_id": "",
       "version_major": 2,
       "version_minor": 0
      },
      "text/plain": [
       "0it [00:00, ?it/s]"
      ]
     },
     "metadata": {},
     "output_type": "display_data"
    },
    {
     "data": {
      "application/vnd.jupyter.widget-view+json": {
       "model_id": "",
       "version_major": 2,
       "version_minor": 0
      },
      "text/plain": [
       "  0%|          | 0/1 [00:00<?, ?it/s]"
      ]
     },
     "metadata": {},
     "output_type": "display_data"
    },
    {
     "data": {
      "application/vnd.jupyter.widget-view+json": {
       "model_id": "",
       "version_major": 2,
       "version_minor": 0
      },
      "text/plain": [
       "  0%|          | 0/4 [00:00<?, ?it/s]"
      ]
     },
     "metadata": {},
     "output_type": "display_data"
    },
    {
     "name": "stderr",
     "output_type": "stream",
     "text": [
      "WARNING:otdd.pytorch.utils:Maxsamples is greater than number of effective examples in loader. Will not subsample.\n"
     ]
    },
    {
     "data": {
      "application/vnd.jupyter.widget-view+json": {
       "model_id": "",
       "version_major": 2,
       "version_minor": 0
      },
      "text/plain": [
       "  0%|          | 0/17 [00:00<?, ?it/s]"
      ]
     },
     "metadata": {},
     "output_type": "display_data"
    },
    {
     "name": "stderr",
     "output_type": "stream",
     "text": [
      "WARNING:otdd.pytorch.utils:Maxsamples is greater than number of effective examples in loader. Will not subsample.\n"
     ]
    },
    {
     "data": {
      "application/vnd.jupyter.widget-view+json": {
       "model_id": "",
       "version_major": 2,
       "version_minor": 0
      },
      "text/plain": [
       "  0%|          | 0/185 [00:00<?, ?it/s]"
      ]
     },
     "metadata": {},
     "output_type": "display_data"
    },
    {
     "name": "stdout",
     "output_type": "stream",
     "text": [
      "OTDD(src,tgt)=56515362816.0\n",
      "processing mimic_extract_mort_hospdomain_split_varname_insurancedomain_split_ood_value_MedicareMedicaid\n",
      "ood_test\n"
     ]
    },
    {
     "name": "stderr",
     "output_type": "stream",
     "text": [
      "100%|█████████████████████████████████████████████████████████████████████████████████████████| 4/4 [00:10<00:00,  2.70s/it]\n"
     ]
    },
    {
     "name": "stdout",
     "output_type": "stream",
     "text": [
      "id_test\n"
     ]
    },
    {
     "name": "stderr",
     "output_type": "stream",
     "text": [
      "100%|█████████████████████████████████████████████████████████████████████████████████████████| 3/3 [00:01<00:00,  2.99it/s]\n"
     ]
    },
    {
     "name": "stdout",
     "output_type": "stream",
     "text": [
      "computing distance for mimic_extract_mort_hospdomain_split_varname_insurancedomain_split_ood_value_MedicareMedicaid\n"
     ]
    },
    {
     "data": {
      "application/vnd.jupyter.widget-view+json": {
       "model_id": "",
       "version_major": 2,
       "version_minor": 0
      },
      "text/plain": [
       "0it [00:00, ?it/s]"
      ]
     },
     "metadata": {},
     "output_type": "display_data"
    },
    {
     "data": {
      "application/vnd.jupyter.widget-view+json": {
       "model_id": "",
       "version_major": 2,
       "version_minor": 0
      },
      "text/plain": [
       "  0%|          | 0/1 [00:00<?, ?it/s]"
      ]
     },
     "metadata": {},
     "output_type": "display_data"
    },
    {
     "data": {
      "application/vnd.jupyter.widget-view+json": {
       "model_id": "",
       "version_major": 2,
       "version_minor": 0
      },
      "text/plain": [
       "0it [00:00, ?it/s]"
      ]
     },
     "metadata": {},
     "output_type": "display_data"
    },
    {
     "data": {
      "application/vnd.jupyter.widget-view+json": {
       "model_id": "",
       "version_major": 2,
       "version_minor": 0
      },
      "text/plain": [
       "  0%|          | 0/1 [00:00<?, ?it/s]"
      ]
     },
     "metadata": {},
     "output_type": "display_data"
    },
    {
     "data": {
      "application/vnd.jupyter.widget-view+json": {
       "model_id": "",
       "version_major": 2,
       "version_minor": 0
      },
      "text/plain": [
       "  0%|          | 0/4 [00:00<?, ?it/s]"
      ]
     },
     "metadata": {},
     "output_type": "display_data"
    },
    {
     "name": "stderr",
     "output_type": "stream",
     "text": [
      "WARNING:otdd.pytorch.utils:Maxsamples is greater than number of effective examples in loader. Will not subsample.\n"
     ]
    },
    {
     "data": {
      "application/vnd.jupyter.widget-view+json": {
       "model_id": "",
       "version_major": 2,
       "version_minor": 0
      },
      "text/plain": [
       "  0%|          | 0/14 [00:00<?, ?it/s]"
      ]
     },
     "metadata": {},
     "output_type": "display_data"
    },
    {
     "data": {
      "application/vnd.jupyter.widget-view+json": {
       "model_id": "",
       "version_major": 2,
       "version_minor": 0
      },
      "text/plain": [
       "  0%|          | 0/212 [00:00<?, ?it/s]"
      ]
     },
     "metadata": {},
     "output_type": "display_data"
    },
    {
     "name": "stdout",
     "output_type": "stream",
     "text": [
      "OTDD(src,tgt)=62655078400.0\n",
      "processing helocdomain_split_varname_ExternalRiskEstimateLowdomain_split_ood_value_0\n",
      "ood_test\n"
     ]
    },
    {
     "name": "stderr",
     "output_type": "stream",
     "text": [
      "100%|█████████████████████████████████████████████████████████████████████████████████████████| 2/2 [00:00<00:00, 60.53it/s]\n"
     ]
    },
    {
     "name": "stdout",
     "output_type": "stream",
     "text": [
      "id_test\n"
     ]
    },
    {
     "name": "stderr",
     "output_type": "stream",
     "text": [
      "100%|████████████████████████████████████████████████████████████████████████████████████████| 1/1 [00:00<00:00, 222.20it/s]"
     ]
    },
    {
     "name": "stdout",
     "output_type": "stream",
     "text": [
      "computing distance for helocdomain_split_varname_ExternalRiskEstimateLowdomain_split_ood_value_0\n"
     ]
    },
    {
     "name": "stderr",
     "output_type": "stream",
     "text": [
      "\n"
     ]
    },
    {
     "data": {
      "application/vnd.jupyter.widget-view+json": {
       "model_id": "",
       "version_major": 2,
       "version_minor": 0
      },
      "text/plain": [
       "0it [00:00, ?it/s]"
      ]
     },
     "metadata": {},
     "output_type": "display_data"
    },
    {
     "data": {
      "application/vnd.jupyter.widget-view+json": {
       "model_id": "",
       "version_major": 2,
       "version_minor": 0
      },
      "text/plain": [
       "  0%|          | 0/1 [00:00<?, ?it/s]"
      ]
     },
     "metadata": {},
     "output_type": "display_data"
    },
    {
     "data": {
      "application/vnd.jupyter.widget-view+json": {
       "model_id": "",
       "version_major": 2,
       "version_minor": 0
      },
      "text/plain": [
       "0it [00:00, ?it/s]"
      ]
     },
     "metadata": {},
     "output_type": "display_data"
    },
    {
     "data": {
      "application/vnd.jupyter.widget-view+json": {
       "model_id": "",
       "version_major": 2,
       "version_minor": 0
      },
      "text/plain": [
       "  0%|          | 0/1 [00:00<?, ?it/s]"
      ]
     },
     "metadata": {},
     "output_type": "display_data"
    },
    {
     "data": {
      "application/vnd.jupyter.widget-view+json": {
       "model_id": "",
       "version_major": 2,
       "version_minor": 0
      },
      "text/plain": [
       "  0%|          | 0/4 [00:00<?, ?it/s]"
      ]
     },
     "metadata": {},
     "output_type": "display_data"
    },
    {
     "name": "stderr",
     "output_type": "stream",
     "text": [
      "WARNING:otdd.pytorch.utils:Maxsamples is greater than number of effective examples in loader. Will not subsample.\n"
     ]
    },
    {
     "data": {
      "application/vnd.jupyter.widget-view+json": {
       "model_id": "",
       "version_major": 2,
       "version_minor": 0
      },
      "text/plain": [
       "  0%|          | 0/5 [00:00<?, ?it/s]"
      ]
     },
     "metadata": {},
     "output_type": "display_data"
    },
    {
     "name": "stderr",
     "output_type": "stream",
     "text": [
      "WARNING:otdd.pytorch.utils:Maxsamples is greater than number of effective examples in loader. Will not subsample.\n"
     ]
    },
    {
     "data": {
      "application/vnd.jupyter.widget-view+json": {
       "model_id": "",
       "version_major": 2,
       "version_minor": 0
      },
      "text/plain": [
       "  0%|          | 0/109 [00:00<?, ?it/s]"
      ]
     },
     "metadata": {},
     "output_type": "display_data"
    },
    {
     "name": "stdout",
     "output_type": "stream",
     "text": [
      "OTDD(src,tgt)=19.348880767822266\n",
      "processing physionetICULOSgt47.0\n",
      "ood_test\n"
     ]
    },
    {
     "name": "stderr",
     "output_type": "stream",
     "text": [
      "100%|███████████████████████████████████████████████████████████████████████████████████████| 33/33 [00:00<00:00, 60.67it/s]\n"
     ]
    },
    {
     "name": "stdout",
     "output_type": "stream",
     "text": [
      "id_test\n"
     ]
    },
    {
     "name": "stderr",
     "output_type": "stream",
     "text": [
      "100%|███████████████████████████████████████████████████████████████████████████████████████| 35/35 [00:00<00:00, 61.72it/s]\n"
     ]
    },
    {
     "name": "stdout",
     "output_type": "stream",
     "text": [
      "computing distance for physionetICULOSgt47.0\n"
     ]
    },
    {
     "data": {
      "application/vnd.jupyter.widget-view+json": {
       "model_id": "",
       "version_major": 2,
       "version_minor": 0
      },
      "text/plain": [
       "0it [00:00, ?it/s]"
      ]
     },
     "metadata": {},
     "output_type": "display_data"
    },
    {
     "data": {
      "application/vnd.jupyter.widget-view+json": {
       "model_id": "",
       "version_major": 2,
       "version_minor": 0
      },
      "text/plain": [
       "  0%|          | 0/1 [00:00<?, ?it/s]"
      ]
     },
     "metadata": {},
     "output_type": "display_data"
    },
    {
     "data": {
      "application/vnd.jupyter.widget-view+json": {
       "model_id": "",
       "version_major": 2,
       "version_minor": 0
      },
      "text/plain": [
       "0it [00:00, ?it/s]"
      ]
     },
     "metadata": {},
     "output_type": "display_data"
    },
    {
     "data": {
      "application/vnd.jupyter.widget-view+json": {
       "model_id": "",
       "version_major": 2,
       "version_minor": 0
      },
      "text/plain": [
       "  0%|          | 0/1 [00:00<?, ?it/s]"
      ]
     },
     "metadata": {},
     "output_type": "display_data"
    },
    {
     "data": {
      "application/vnd.jupyter.widget-view+json": {
       "model_id": "",
       "version_major": 2,
       "version_minor": 0
      },
      "text/plain": [
       "  0%|          | 0/4 [00:00<?, ?it/s]"
      ]
     },
     "metadata": {},
     "output_type": "display_data"
    },
    {
     "data": {
      "application/vnd.jupyter.widget-view+json": {
       "model_id": "",
       "version_major": 2,
       "version_minor": 0
      },
      "text/plain": [
       "  0%|          | 0/2192 [00:00<?, ?it/s]"
      ]
     },
     "metadata": {},
     "output_type": "display_data"
    },
    {
     "data": {
      "application/vnd.jupyter.widget-view+json": {
       "model_id": "",
       "version_major": 2,
       "version_minor": 0
      },
      "text/plain": [
       "  0%|          | 0/2101 [00:00<?, ?it/s]"
      ]
     },
     "metadata": {},
     "output_type": "display_data"
    },
    {
     "name": "stdout",
     "output_type": "stream",
     "text": [
      "OTDD(src,tgt)=6554.369140625\n"
     ]
    }
   ],
   "source": [
    "results = []\n",
    "\n",
    "for uid in uids_list:\n",
    "    print(f\"processing {uid}\")\n",
    "    base_dir = os.path.join(cache_dir, uid)  \n",
    "    \n",
    "    if uid == 'physionetICULOSgt47.0':\n",
    "        name = \"physionet\"\n",
    "    else:\n",
    "        name = extract_name_from_uid(uid)\n",
    "        \n",
    "    dset = CachedDataset(cache_dir=cache_dir, uid=uid, name=name)\n",
    "    \n",
    "    split_data = read_split_data(base_dir)\n",
    "    \n",
    "    # Compare \n",
    "    assert np.all(split_data[\"id_test\"].dtypes == split_data[\"ood_test\"].dtypes)\n",
    "    id_loader =  df_to_loader(split_data[\"id_test\"], target=dset.target)\n",
    "    ood_loader = df_to_loader(split_data[\"ood_test\"], target=dset.target)\n",
    "#     try:\n",
    "    dist = DatasetDistance(id_loader, ood_loader,\n",
    "                           # Note: this fails with 'exact' for some datasets.\n",
    "                       inner_ot_method = 'gaussian_approx',\n",
    "                       debiased_loss = True,\n",
    "                       p = 2, entreg = 1e-1,\n",
    "                       device='cpu')\n",
    "    print(f\"computing distance for {uid}\")\n",
    "    d = dist.distance(maxsamples = 10000)\n",
    "    print(f'OTDD(src,tgt)={d}')\n",
    "    results.append((uid, d))\n",
    "#     except Exception as e:\n",
    "#         print(e)\n",
    "#         continue\n",
    "    \n"
   ]
  },
  {
   "cell_type": "code",
   "execution_count": 122,
   "id": "77a48545",
   "metadata": {},
   "outputs": [
    {
     "data": {
      "text/html": [
       "<div>\n",
       "<style scoped>\n",
       "    .dataframe tbody tr th:only-of-type {\n",
       "        vertical-align: middle;\n",
       "    }\n",
       "\n",
       "    .dataframe tbody tr th {\n",
       "        vertical-align: top;\n",
       "    }\n",
       "\n",
       "    .dataframe thead th {\n",
       "        text-align: right;\n",
       "    }\n",
       "</style>\n",
       "<table border=\"1\" class=\"dataframe\">\n",
       "  <thead>\n",
       "    <tr style=\"text-align: right;\">\n",
       "      <th></th>\n",
       "      <th>uid</th>\n",
       "      <th>otdd</th>\n",
       "    </tr>\n",
       "  </thead>\n",
       "  <tbody>\n",
       "    <tr>\n",
       "      <th>0</th>\n",
       "      <td>acsfoodstampsdomain_split_varname_DIVISIONdoma...</td>\n",
       "      <td>1.415322e+01</td>\n",
       "    </tr>\n",
       "    <tr>\n",
       "      <th>1</th>\n",
       "      <td>acsincomedomain_split_varname_DIVISIONdomain_s...</td>\n",
       "      <td>3.068935e+01</td>\n",
       "    </tr>\n",
       "    <tr>\n",
       "      <th>2</th>\n",
       "      <td>acspubcovdomain_split_varname_DISdomain_split_...</td>\n",
       "      <td>5.790109e+00</td>\n",
       "    </tr>\n",
       "    <tr>\n",
       "      <th>3</th>\n",
       "      <td>acsunemploymentdomain_split_varname_SCHLdomain...</td>\n",
       "      <td>7.469135e+01</td>\n",
       "    </tr>\n",
       "    <tr>\n",
       "      <th>4</th>\n",
       "      <td>anesdomain_split_varname_VCF0112domain_split_o...</td>\n",
       "      <td>1.360260e+01</td>\n",
       "    </tr>\n",
       "    <tr>\n",
       "      <th>5</th>\n",
       "      <td>brfss_diabetesdomain_split_varname_PRACE1domai...</td>\n",
       "      <td>1.239035e+01</td>\n",
       "    </tr>\n",
       "    <tr>\n",
       "      <th>6</th>\n",
       "      <td>brfss_blood_pressuredomain_split_varname_BMI5C...</td>\n",
       "      <td>4.630351e+00</td>\n",
       "    </tr>\n",
       "    <tr>\n",
       "      <th>7</th>\n",
       "      <td>diabetes_readmissiondomain_split_varname_admis...</td>\n",
       "      <td>4.249803e+01</td>\n",
       "    </tr>\n",
       "    <tr>\n",
       "      <th>8</th>\n",
       "      <td>nhanes_leaddomain_split_varname_INDFMPIRBelowC...</td>\n",
       "      <td>1.297540e+00</td>\n",
       "    </tr>\n",
       "    <tr>\n",
       "      <th>9</th>\n",
       "      <td>mimic_extract_los_3domain_split_varname_insura...</td>\n",
       "      <td>5.651536e+10</td>\n",
       "    </tr>\n",
       "    <tr>\n",
       "      <th>10</th>\n",
       "      <td>mimic_extract_mort_hospdomain_split_varname_in...</td>\n",
       "      <td>6.265508e+10</td>\n",
       "    </tr>\n",
       "    <tr>\n",
       "      <th>11</th>\n",
       "      <td>helocdomain_split_varname_ExternalRiskEstimate...</td>\n",
       "      <td>1.934888e+01</td>\n",
       "    </tr>\n",
       "    <tr>\n",
       "      <th>12</th>\n",
       "      <td>physionetICULOSgt47.0</td>\n",
       "      <td>6.554369e+03</td>\n",
       "    </tr>\n",
       "  </tbody>\n",
       "</table>\n",
       "</div>"
      ],
      "text/plain": [
       "                                                  uid          otdd\n",
       "0   acsfoodstampsdomain_split_varname_DIVISIONdoma...  1.415322e+01\n",
       "1   acsincomedomain_split_varname_DIVISIONdomain_s...  3.068935e+01\n",
       "2   acspubcovdomain_split_varname_DISdomain_split_...  5.790109e+00\n",
       "3   acsunemploymentdomain_split_varname_SCHLdomain...  7.469135e+01\n",
       "4   anesdomain_split_varname_VCF0112domain_split_o...  1.360260e+01\n",
       "5   brfss_diabetesdomain_split_varname_PRACE1domai...  1.239035e+01\n",
       "6   brfss_blood_pressuredomain_split_varname_BMI5C...  4.630351e+00\n",
       "7   diabetes_readmissiondomain_split_varname_admis...  4.249803e+01\n",
       "8   nhanes_leaddomain_split_varname_INDFMPIRBelowC...  1.297540e+00\n",
       "9   mimic_extract_los_3domain_split_varname_insura...  5.651536e+10\n",
       "10  mimic_extract_mort_hospdomain_split_varname_in...  6.265508e+10\n",
       "11  helocdomain_split_varname_ExternalRiskEstimate...  1.934888e+01\n",
       "12                              physionetICULOSgt47.0  6.554369e+03"
      ]
     },
     "execution_count": 122,
     "metadata": {},
     "output_type": "execute_result"
    }
   ],
   "source": [
    "\n",
    "otdd_results_df = pd.DataFrame([(x[0], x[1].detach().cpu().numpy().item()) for x in results], columns=['uid', 'otdd'])\n",
    "otdd_results_df.to_csv(\"otdd_results\", index=False)\n",
    "otdd_results_df\n"
   ]
  },
  {
   "cell_type": "code",
   "execution_count": null,
   "id": "876afb48",
   "metadata": {},
   "outputs": [],
   "source": []
  }
 ],
 "metadata": {
  "kernelspec": {
   "display_name": "Python 3 (ipykernel)",
   "language": "python",
   "name": "python3"
  },
  "language_info": {
   "codemirror_mode": {
    "name": "ipython",
    "version": 3
   },
   "file_extension": ".py",
   "mimetype": "text/x-python",
   "name": "python",
   "nbconvert_exporter": "python",
   "pygments_lexer": "ipython3",
   "version": "3.8.15"
  }
 },
 "nbformat": 4,
 "nbformat_minor": 5
}
