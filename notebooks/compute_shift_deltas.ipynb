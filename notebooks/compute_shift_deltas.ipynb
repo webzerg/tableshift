{
 "cells": [
  {
   "cell_type": "code",
   "execution_count": 29,
   "id": "85efd72a",
   "metadata": {},
   "outputs": [],
   "source": [
    "from collections import defaultdict\n",
    "import glob\n",
    "import numpy as np\n",
    "import os\n",
    "import re\n",
    "\n",
    "import pandas as pd\n",
    "from tqdm import tqdm"
   ]
  },
  {
   "cell_type": "code",
   "execution_count": 2,
   "id": "57613a51",
   "metadata": {},
   "outputs": [],
   "source": [
    "# delta y"
   ]
  },
  {
   "cell_type": "code",
   "execution_count": 35,
   "id": "6fc81f86",
   "metadata": {},
   "outputs": [],
   "source": [
    "from tablebench.core.tabular_dataset import CachedDataset\n",
    "cache_dir = \"../tmp\"\n",
    "experiment = \"acsfoodstamps\"\n",
    "\n",
    "uids_list = [\n",
    "    \"acsfoodstampsdomain_split_varname_DIVISIONdomain_split_ood_value_06\",\n",
    "]\n"
   ]
  },
  {
   "cell_type": "code",
   "execution_count": 37,
   "id": "09702963",
   "metadata": {},
   "outputs": [
    {
     "name": "stdout",
     "output_type": "stream",
     "text": [
      "processing uid acsfoodstampsdomain_split_varname_DIVISIONdomain_split_ood_value_06\n",
      "processing split id_test\n"
     ]
    },
    {
     "name": "stderr",
     "output_type": "stream",
     "text": [
      "100%|███████████████████████████████████████████| 23/23 [00:01<00:00, 18.90it/s]\n"
     ]
    },
    {
     "name": "stdout",
     "output_type": "stream",
     "text": [
      "processing split ood_test\n"
     ]
    },
    {
     "name": "stderr",
     "output_type": "stream",
     "text": [
      "100%|███████████████████████████████████████████| 12/12 [00:00<00:00, 15.71it/s]\n"
     ]
    },
    {
     "name": "stdout",
     "output_type": "stream",
     "text": [
      "processing split validation\n"
     ]
    },
    {
     "name": "stderr",
     "output_type": "stream",
     "text": [
      "100%|███████████████████████████████████████████| 24/24 [00:01<00:00, 19.97it/s]\n"
     ]
    }
   ],
   "source": [
    "# list of (uid, split, n_split, ymean) tuples\n",
    "results = []\n",
    "\n",
    "for uid in uids_list:\n",
    "    print(f'processing uid {uid}')\n",
    "    base_dir = os.path.join(cache_dir, uid)   \n",
    "    for split in ('id_test', 'ood_test', 'validation'):\n",
    "        print(f'processing split {split}')\n",
    "        yvals = list()\n",
    "        split_files = glob.glob(os.path.join(base_dir, split, '*', '*.csv'))\n",
    "\n",
    "        for f in tqdm(split_files):\n",
    "            df = pd.read_csv(f)\n",
    "            yvals.extend(df[dset.target].values.tolist())\n",
    "        \n",
    "        n_split = len(yvals)\n",
    "        ybar_split = np.array(yvals).mean()\n",
    "        results.append((uid, split, n_split, ybar_split))\n",
    "        "
   ]
  },
  {
   "cell_type": "code",
   "execution_count": 38,
   "id": "bee15074",
   "metadata": {},
   "outputs": [
    {
     "data": {
      "text/html": [
       "<div>\n",
       "<style scoped>\n",
       "    .dataframe tbody tr th:only-of-type {\n",
       "        vertical-align: middle;\n",
       "    }\n",
       "\n",
       "    .dataframe tbody tr th {\n",
       "        vertical-align: top;\n",
       "    }\n",
       "\n",
       "    .dataframe thead th {\n",
       "        text-align: right;\n",
       "    }\n",
       "</style>\n",
       "<table border=\"1\" class=\"dataframe\">\n",
       "  <thead>\n",
       "    <tr style=\"text-align: right;\">\n",
       "      <th></th>\n",
       "      <th>uid</th>\n",
       "      <th>split</th>\n",
       "      <th>n_split</th>\n",
       "      <th>ybar_split</th>\n",
       "    </tr>\n",
       "  </thead>\n",
       "  <tbody>\n",
       "    <tr>\n",
       "      <th>0</th>\n",
       "      <td>acsfoodstampsdomain_split_varname_DIVISIONdoma...</td>\n",
       "      <td>id_test</td>\n",
       "      <td>78628</td>\n",
       "      <td>0.190899</td>\n",
       "    </tr>\n",
       "    <tr>\n",
       "      <th>1</th>\n",
       "      <td>acsfoodstampsdomain_split_varname_DIVISIONdoma...</td>\n",
       "      <td>ood_test</td>\n",
       "      <td>48878</td>\n",
       "      <td>0.219874</td>\n",
       "    </tr>\n",
       "    <tr>\n",
       "      <th>2</th>\n",
       "      <td>acsfoodstampsdomain_split_varname_DIVISIONdoma...</td>\n",
       "      <td>validation</td>\n",
       "      <td>78627</td>\n",
       "      <td>0.187238</td>\n",
       "    </tr>\n",
       "  </tbody>\n",
       "</table>\n",
       "</div>"
      ],
      "text/plain": [
       "                                                 uid       split  n_split  \\\n",
       "0  acsfoodstampsdomain_split_varname_DIVISIONdoma...     id_test    78628   \n",
       "1  acsfoodstampsdomain_split_varname_DIVISIONdoma...    ood_test    48878   \n",
       "2  acsfoodstampsdomain_split_varname_DIVISIONdoma...  validation    78627   \n",
       "\n",
       "   ybar_split  \n",
       "0    0.190899  \n",
       "1    0.219874  \n",
       "2    0.187238  "
      ]
     },
     "execution_count": 38,
     "metadata": {},
     "output_type": "execute_result"
    }
   ],
   "source": [
    "pd.DataFrame(results, columns=['uid', 'split', 'n_split', 'ybar_split'])"
   ]
  },
  {
   "cell_type": "code",
   "execution_count": null,
   "id": "7033ec92",
   "metadata": {},
   "outputs": [],
   "source": []
  }
 ],
 "metadata": {
  "kernelspec": {
   "display_name": "Python 3 (ipykernel)",
   "language": "python",
   "name": "python3"
  },
  "language_info": {
   "codemirror_mode": {
    "name": "ipython",
    "version": 3
   },
   "file_extension": ".py",
   "mimetype": "text/x-python",
   "name": "python",
   "nbconvert_exporter": "python",
   "pygments_lexer": "ipython3",
   "version": "3.8.15"
  }
 },
 "nbformat": 4,
 "nbformat_minor": 5
}
