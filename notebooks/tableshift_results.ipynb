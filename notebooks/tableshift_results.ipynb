{
 "cells": [
  {
   "cell_type": "code",
   "execution_count": null,
   "id": "dc5976a2",
   "metadata": {},
   "outputs": [],
   "source": [
    "import glob\n",
    "import os\n",
    "import os.path as osp\n",
    "from typing import Tuple, Any\n",
    "\n",
    "import re\n",
    "import numpy as np\n",
    "import pandas as pd\n",
    "import matplotlib.pyplot as plt\n",
    "import seaborn as sns"
   ]
  },
  {
   "cell_type": "code",
   "execution_count": null,
   "id": "a7afd468",
   "metadata": {},
   "outputs": [],
   "source": [
    "from notebook_lib import *"
   ]
  },
  {
   "cell_type": "code",
   "execution_count": null,
   "id": "73b83330",
   "metadata": {},
   "outputs": [],
   "source": [
    "ds_results_dir = '../domain_shift_results'\n",
    "tableshift_results_dir = '../ray_train_results'"
   ]
  },
  {
   "cell_type": "code",
   "execution_count": null,
   "id": "f0a8fecd",
   "metadata": {},
   "outputs": [],
   "source": [
    "ds_results = read_domain_shift_results(ds_results_dir)"
   ]
  },
  {
   "cell_type": "code",
   "execution_count": null,
   "id": "48a31fcf",
   "metadata": {},
   "outputs": [],
   "source": [
    "# TODO(jpgard): read in the rest of the results files, align/combine them, and visualize the results per-dataset.\n",
    "# Goal is to have one scatter plot per dataset, with model types as markers."
   ]
  }
 ],
 "metadata": {
  "kernelspec": {
   "display_name": "Python 3 (ipykernel)",
   "language": "python",
   "name": "python3"
  },
  "language_info": {
   "codemirror_mode": {
    "name": "ipython",
    "version": 3
   },
   "file_extension": ".py",
   "mimetype": "text/x-python",
   "name": "python",
   "nbconvert_exporter": "python",
   "pygments_lexer": "ipython3",
   "version": "3.8.15"
  }
 },
 "nbformat": 4,
 "nbformat_minor": 5
}
