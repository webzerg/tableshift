{
 "cells": [
  {
   "cell_type": "code",
   "execution_count": 1,
   "id": "dc5976a2",
   "metadata": {},
   "outputs": [],
   "source": [
    "import glob\n",
    "import os\n",
    "import os.path as osp\n",
    "from typing import Tuple, Any\n",
    "\n",
    "import re\n",
    "import numpy as np\n",
    "import pandas as pd\n",
    "import matplotlib.pyplot as plt\n",
    "import seaborn as sns"
   ]
  },
  {
   "cell_type": "code",
   "execution_count": 2,
   "id": "9a7f1ff1",
   "metadata": {},
   "outputs": [],
   "source": [
    "from notebook_lib import *"
   ]
  },
  {
   "cell_type": "code",
   "execution_count": 3,
   "id": "e0533c69",
   "metadata": {},
   "outputs": [],
   "source": [
    "ds_results_dir = '../domain_shift_results'\n",
    "tableshift_results_dir = '../ray_train_results'"
   ]
  },
  {
   "cell_type": "code",
   "execution_count": 4,
   "id": "6ecbb4f4",
   "metadata": {},
   "outputs": [
    {
     "ename": "NameError",
     "evalue": "name 'read_domain_shift_results' is not defined",
     "output_type": "error",
     "traceback": [
      "\u001b[0;31m---------------------------------------------------------------------------\u001b[0m",
      "\u001b[0;31mNameError\u001b[0m                                 Traceback (most recent call last)",
      "Cell \u001b[0;32mIn[4], line 1\u001b[0m\n\u001b[0;32m----> 1\u001b[0m ds_results \u001b[38;5;241m=\u001b[39m \u001b[43mread_domain_shift_results\u001b[49m(ds_results_dir)\n",
      "\u001b[0;31mNameError\u001b[0m: name 'read_domain_shift_results' is not defined"
     ]
    }
   ],
   "source": [
    "ds_results = read_domain_shift_results(ds_results_dir)"
   ]
  },
  {
   "cell_type": "code",
   "execution_count": null,
   "id": "089c6ad5",
   "metadata": {},
   "outputs": [],
   "source": [
    "# TODO(jpgard): read in the rest of the results files, align/combine them, and visualize the results per-dataset.\n",
    "# Goal is to have one scatter plot per dataset, with model types as markers."
   ]
  }
 ],
 "metadata": {
  "kernelspec": {
   "display_name": "Python 3 (ipykernel)",
   "language": "python",
   "name": "python3"
  },
  "language_info": {
   "codemirror_mode": {
    "name": "ipython",
    "version": 3
   },
   "file_extension": ".py",
   "mimetype": "text/x-python",
   "name": "python",
   "nbconvert_exporter": "python",
   "pygments_lexer": "ipython3",
   "version": "3.8.15"
  }
 },
 "nbformat": 4,
 "nbformat_minor": 5
}
