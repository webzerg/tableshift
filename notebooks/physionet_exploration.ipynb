{
 "cells": [
  {
   "cell_type": "code",
   "execution_count": 29,
   "id": "5d288b13",
   "metadata": {},
   "outputs": [
    {
     "ename": "ModuleNotFoundError",
     "evalue": "No module named 'matplotlib'",
     "output_type": "error",
     "traceback": [
      "\u001b[0;31m---------------------------------------------------------------------------\u001b[0m",
      "\u001b[0;31mModuleNotFoundError\u001b[0m                       Traceback (most recent call last)",
      "Cell \u001b[0;32mIn[29], line 4\u001b[0m\n\u001b[1;32m      2\u001b[0m \u001b[38;5;28;01mimport\u001b[39;00m \u001b[38;5;21;01mlogging\u001b[39;00m\n\u001b[1;32m      3\u001b[0m \u001b[38;5;28;01mfrom\u001b[39;00m \u001b[38;5;21;01mtablebench\u001b[39;00m\u001b[38;5;21;01m.\u001b[39;00m\u001b[38;5;21;01mcore\u001b[39;00m \u001b[38;5;28;01mimport\u001b[39;00m TabularDataset, TabularDatasetConfig\n\u001b[0;32m----> 4\u001b[0m \u001b[38;5;28;01mimport\u001b[39;00m \u001b[38;5;21;01mmatplotlib\u001b[39;00m\u001b[38;5;21;01m.\u001b[39;00m\u001b[38;5;21;01mpyplot\u001b[39;00m \u001b[38;5;28;01mas\u001b[39;00m \u001b[38;5;21;01mplt\u001b[39;00m\n\u001b[1;32m      6\u001b[0m \u001b[38;5;28;01mfrom\u001b[39;00m \u001b[38;5;21;01mtablebench\u001b[39;00m\u001b[38;5;21;01m.\u001b[39;00m\u001b[38;5;21;01mconfigs\u001b[39;00m\u001b[38;5;21;01m.\u001b[39;00m\u001b[38;5;21;01mexperiment_configs\u001b[39;00m \u001b[38;5;28;01mimport\u001b[39;00m EXPERIMENT_CONFIGS\n\u001b[1;32m      7\u001b[0m \u001b[38;5;28;01mfrom\u001b[39;00m \u001b[38;5;21;01mtablebench\u001b[39;00m\u001b[38;5;21;01m.\u001b[39;00m\u001b[38;5;21;01mmodels\u001b[39;00m\u001b[38;5;21;01m.\u001b[39;00m\u001b[38;5;21;01mutils\u001b[39;00m \u001b[38;5;28;01mimport\u001b[39;00m get_estimator\n",
      "\u001b[0;31mModuleNotFoundError\u001b[0m: No module named 'matplotlib'"
     ]
    }
   ],
   "source": [
    "import argparse\n",
    "import logging\n",
    "from tablebench.core import TabularDataset, TabularDatasetConfig\n",
    "import matplotlib.pyplot as plt\n",
    "\n",
    "from tablebench.configs.experiment_configs import EXPERIMENT_CONFIGS\n",
    "from tablebench.models.utils import get_estimator\n",
    "from tablebench.models.training import train"
   ]
  },
  {
   "cell_type": "code",
   "execution_count": 4,
   "id": "0e1b2866",
   "metadata": {},
   "outputs": [],
   "source": [
    "experiment = 'physionet'\n",
    "cache_dir = '../tmp'"
   ]
  },
  {
   "cell_type": "code",
   "execution_count": 7,
   "id": "224379f3",
   "metadata": {},
   "outputs": [],
   "source": [
    "LOG_LEVEL = logging.DEBUG\n",
    "\n",
    "logger = logging.getLogger()\n",
    "logging.basicConfig(\n",
    "    format='%(asctime)s %(levelname)-8s [%(filename)s:%(lineno)d] %(message)s',\n",
    "    level=LOG_LEVEL,\n",
    "    datefmt='%Y-%m-%d %H:%M:%S')"
   ]
  },
  {
   "cell_type": "code",
   "execution_count": 8,
   "id": "38f4cd03",
   "metadata": {},
   "outputs": [],
   "source": [
    "expt_config = EXPERIMENT_CONFIGS[experiment]"
   ]
  },
  {
   "cell_type": "code",
   "execution_count": 9,
   "id": "bdf3a202",
   "metadata": {},
   "outputs": [
    {
     "name": "stderr",
     "output_type": "stream",
     "text": [
      "WARNING:root:cannot cast feature Unit1 to dtype int due to missing values; attempting cast to float instead. Recommend changingthe feature spec for this feature to type float.\n",
      "WARNING:root:cannot cast feature Unit2 to dtype int due to missing values; attempting cast to float instead. Recommend changingthe feature spec for this feature to type float.\n",
      "WARNING:root:values [96, 97, 98, 99, 90, 91, 92, 93, 94, 95] specified in Grouper split but not  present in the data.\n",
      "/homes/gws/jpgard/tablebench/tablebench/core/discretization.py:209: FutureWarning: In version 1.3 onwards, subsample=2e5 will be used by default. Set subsample explicitly to silence this warning in the mean time. Set subsample=None to disable subsampling explicitly.\n",
      "  warnings.warn(\n",
      "/homes/gws/jpgard/tablebench/tablebench/core/discretization.py:304: UserWarning: Bins whose width are too small (i.e., <= 1e-8) in feature 1 are removed. Consider decreasing the number of bins.\n",
      "  warnings.warn(\n",
      "/homes/gws/jpgard/tablebench/tablebench/core/discretization.py:304: UserWarning: Bins whose width are too small (i.e., <= 1e-8) in feature 34 are removed. Consider decreasing the number of bins.\n",
      "  warnings.warn(\n",
      "/homes/gws/jpgard/tablebench/tablebench/core/discretization.py:304: UserWarning: Bins whose width are too small (i.e., <= 1e-8) in feature 35 are removed. Consider decreasing the number of bins.\n",
      "  warnings.warn(\n",
      "0it [00:00, ?it/s]\n",
      "0it [00:00, ?it/s]\n"
     ]
    }
   ],
   "source": [
    "dataset_config = TabularDatasetConfig(cache_dir=cache_dir)\n",
    "tabular_dataset_kwargs = expt_config.tabular_dataset_kwargs\n",
    "if \"name\" not in tabular_dataset_kwargs:\n",
    "    tabular_dataset_kwargs[\"name\"] = experiment\n",
    "\n",
    "dset = TabularDataset(config=dataset_config,\n",
    "                      splitter=expt_config.splitter,\n",
    "                      grouper=expt_config.grouper,\n",
    "                      preprocessor_config=expt_config.preprocessor_config,\n",
    "                      **tabular_dataset_kwargs)"
   ]
  },
  {
   "cell_type": "code",
   "execution_count": 10,
   "id": "81fce2a5",
   "metadata": {},
   "outputs": [],
   "source": [
    "X_tr, y_tr, _, _ = dset.get_pandas(\"train\")"
   ]
  },
  {
   "cell_type": "code",
   "execution_count": 12,
   "id": "55e93807",
   "metadata": {},
   "outputs": [],
   "source": [
    "from sklearn.linear_model import LogisticRegressionCV"
   ]
  },
  {
   "cell_type": "code",
   "execution_count": 13,
   "id": "c2830bfa",
   "metadata": {},
   "outputs": [],
   "source": [
    "est = LogisticRegressionCV(cv=3)"
   ]
  },
  {
   "cell_type": "code",
   "execution_count": 14,
   "id": "20a0a77a",
   "metadata": {},
   "outputs": [
    {
     "data": {
      "text/html": [
       "<style>#sk-container-id-1 {color: black;background-color: white;}#sk-container-id-1 pre{padding: 0;}#sk-container-id-1 div.sk-toggleable {background-color: white;}#sk-container-id-1 label.sk-toggleable__label {cursor: pointer;display: block;width: 100%;margin-bottom: 0;padding: 0.3em;box-sizing: border-box;text-align: center;}#sk-container-id-1 label.sk-toggleable__label-arrow:before {content: \"▸\";float: left;margin-right: 0.25em;color: #696969;}#sk-container-id-1 label.sk-toggleable__label-arrow:hover:before {color: black;}#sk-container-id-1 div.sk-estimator:hover label.sk-toggleable__label-arrow:before {color: black;}#sk-container-id-1 div.sk-toggleable__content {max-height: 0;max-width: 0;overflow: hidden;text-align: left;background-color: #f0f8ff;}#sk-container-id-1 div.sk-toggleable__content pre {margin: 0.2em;color: black;border-radius: 0.25em;background-color: #f0f8ff;}#sk-container-id-1 input.sk-toggleable__control:checked~div.sk-toggleable__content {max-height: 200px;max-width: 100%;overflow: auto;}#sk-container-id-1 input.sk-toggleable__control:checked~label.sk-toggleable__label-arrow:before {content: \"▾\";}#sk-container-id-1 div.sk-estimator input.sk-toggleable__control:checked~label.sk-toggleable__label {background-color: #d4ebff;}#sk-container-id-1 div.sk-label input.sk-toggleable__control:checked~label.sk-toggleable__label {background-color: #d4ebff;}#sk-container-id-1 input.sk-hidden--visually {border: 0;clip: rect(1px 1px 1px 1px);clip: rect(1px, 1px, 1px, 1px);height: 1px;margin: -1px;overflow: hidden;padding: 0;position: absolute;width: 1px;}#sk-container-id-1 div.sk-estimator {font-family: monospace;background-color: #f0f8ff;border: 1px dotted black;border-radius: 0.25em;box-sizing: border-box;margin-bottom: 0.5em;}#sk-container-id-1 div.sk-estimator:hover {background-color: #d4ebff;}#sk-container-id-1 div.sk-parallel-item::after {content: \"\";width: 100%;border-bottom: 1px solid gray;flex-grow: 1;}#sk-container-id-1 div.sk-label:hover label.sk-toggleable__label {background-color: #d4ebff;}#sk-container-id-1 div.sk-serial::before {content: \"\";position: absolute;border-left: 1px solid gray;box-sizing: border-box;top: 0;bottom: 0;left: 50%;z-index: 0;}#sk-container-id-1 div.sk-serial {display: flex;flex-direction: column;align-items: center;background-color: white;padding-right: 0.2em;padding-left: 0.2em;position: relative;}#sk-container-id-1 div.sk-item {position: relative;z-index: 1;}#sk-container-id-1 div.sk-parallel {display: flex;align-items: stretch;justify-content: center;background-color: white;position: relative;}#sk-container-id-1 div.sk-item::before, #sk-container-id-1 div.sk-parallel-item::before {content: \"\";position: absolute;border-left: 1px solid gray;box-sizing: border-box;top: 0;bottom: 0;left: 50%;z-index: -1;}#sk-container-id-1 div.sk-parallel-item {display: flex;flex-direction: column;z-index: 1;position: relative;background-color: white;}#sk-container-id-1 div.sk-parallel-item:first-child::after {align-self: flex-end;width: 50%;}#sk-container-id-1 div.sk-parallel-item:last-child::after {align-self: flex-start;width: 50%;}#sk-container-id-1 div.sk-parallel-item:only-child::after {width: 0;}#sk-container-id-1 div.sk-dashed-wrapped {border: 1px dashed gray;margin: 0 0.4em 0.5em 0.4em;box-sizing: border-box;padding-bottom: 0.4em;background-color: white;}#sk-container-id-1 div.sk-label label {font-family: monospace;font-weight: bold;display: inline-block;line-height: 1.2em;}#sk-container-id-1 div.sk-label-container {text-align: center;}#sk-container-id-1 div.sk-container {/* jupyter's `normalize.less` sets `[hidden] { display: none; }` but bootstrap.min.css set `[hidden] { display: none !important; }` so we also need the `!important` here to be able to override the default hidden behavior on the sphinx rendered scikit-learn.org. See: https://github.com/scikit-learn/scikit-learn/issues/21755 */display: inline-block !important;position: relative;}#sk-container-id-1 div.sk-text-repr-fallback {display: none;}</style><div id=\"sk-container-id-1\" class=\"sk-top-container\"><div class=\"sk-text-repr-fallback\"><pre>LogisticRegressionCV(cv=3)</pre><b>In a Jupyter environment, please rerun this cell to show the HTML representation or trust the notebook. <br />On GitHub, the HTML representation is unable to render, please try loading this page with nbviewer.org.</b></div><div class=\"sk-container\" hidden><div class=\"sk-item\"><div class=\"sk-estimator sk-toggleable\"><input class=\"sk-toggleable__control sk-hidden--visually\" id=\"sk-estimator-id-1\" type=\"checkbox\" checked><label for=\"sk-estimator-id-1\" class=\"sk-toggleable__label sk-toggleable__label-arrow\">LogisticRegressionCV</label><div class=\"sk-toggleable__content\"><pre>LogisticRegressionCV(cv=3)</pre></div></div></div></div></div>"
      ],
      "text/plain": [
       "LogisticRegressionCV(cv=3)"
      ]
     },
     "execution_count": 14,
     "metadata": {},
     "output_type": "execute_result"
    }
   ],
   "source": [
    "est.fit(X_tr, y_tr)"
   ]
  },
  {
   "cell_type": "code",
   "execution_count": 25,
   "id": "d3d989fa",
   "metadata": {},
   "outputs": [],
   "source": [
    "preds = est.predict(X_tr)\n",
    "# errs = "
   ]
  },
  {
   "cell_type": "code",
   "execution_count": 28,
   "id": "decf3a59",
   "metadata": {},
   "outputs": [
    {
     "data": {
      "text/plain": [
       "0    609596\n",
       "dtype: int64"
      ]
     },
     "execution_count": 28,
     "metadata": {},
     "output_type": "execute_result"
    }
   ],
   "source": [
    "pd.Series(preds).value_counts()"
   ]
  },
  {
   "cell_type": "code",
   "execution_count": 21,
   "id": "134d727e",
   "metadata": {},
   "outputs": [
    {
     "data": {
      "text/plain": [
       "(1, 40)"
      ]
     },
     "execution_count": 21,
     "metadata": {},
     "output_type": "execute_result"
    }
   ],
   "source": [
    "est.coef_.shape"
   ]
  },
  {
   "cell_type": "code",
   "execution_count": 24,
   "id": "7da679b9",
   "metadata": {},
   "outputs": [
    {
     "data": {
      "text/html": [
       "<div>\n",
       "<style scoped>\n",
       "    .dataframe tbody tr th:only-of-type {\n",
       "        vertical-align: middle;\n",
       "    }\n",
       "\n",
       "    .dataframe tbody tr th {\n",
       "        vertical-align: top;\n",
       "    }\n",
       "\n",
       "    .dataframe thead th {\n",
       "        text-align: right;\n",
       "    }\n",
       "</style>\n",
       "<table border=\"1\" class=\"dataframe\">\n",
       "  <thead>\n",
       "    <tr style=\"text-align: right;\">\n",
       "      <th></th>\n",
       "      <th>coef</th>\n",
       "    </tr>\n",
       "    <tr>\n",
       "      <th>name</th>\n",
       "      <th></th>\n",
       "    </tr>\n",
       "  </thead>\n",
       "  <tbody>\n",
       "    <tr>\n",
       "      <th>kbin__DBP</th>\n",
       "      <td>-0.060502</td>\n",
       "    </tr>\n",
       "    <tr>\n",
       "      <th>kbin__MAP</th>\n",
       "      <td>-0.033126</td>\n",
       "    </tr>\n",
       "    <tr>\n",
       "      <th>kbin__O2Sat</th>\n",
       "      <td>-0.028756</td>\n",
       "    </tr>\n",
       "    <tr>\n",
       "      <th>kbin__SBP</th>\n",
       "      <td>-0.026194</td>\n",
       "    </tr>\n",
       "    <tr>\n",
       "      <th>kbin__Unit1</th>\n",
       "      <td>-0.008306</td>\n",
       "    </tr>\n",
       "    <tr>\n",
       "      <th>kbin__Unit2</th>\n",
       "      <td>-0.008306</td>\n",
       "    </tr>\n",
       "    <tr>\n",
       "      <th>kbin__Magnesium</th>\n",
       "      <td>-0.006511</td>\n",
       "    </tr>\n",
       "    <tr>\n",
       "      <th>kbin__Calcium</th>\n",
       "      <td>-0.005474</td>\n",
       "    </tr>\n",
       "    <tr>\n",
       "      <th>kbin__Platelets</th>\n",
       "      <td>-0.003461</td>\n",
       "    </tr>\n",
       "    <tr>\n",
       "      <th>Age</th>\n",
       "      <td>-0.002670</td>\n",
       "    </tr>\n",
       "    <tr>\n",
       "      <th>kbin__Hgb</th>\n",
       "      <td>-0.001408</td>\n",
       "    </tr>\n",
       "    <tr>\n",
       "      <th>kbin__Fibrinogen</th>\n",
       "      <td>0.002309</td>\n",
       "    </tr>\n",
       "    <tr>\n",
       "      <th>kbin__Phosphate</th>\n",
       "      <td>0.005677</td>\n",
       "    </tr>\n",
       "    <tr>\n",
       "      <th>kbin__Chloride</th>\n",
       "      <td>0.008449</td>\n",
       "    </tr>\n",
       "    <tr>\n",
       "      <th>kbin__Glucose</th>\n",
       "      <td>0.008536</td>\n",
       "    </tr>\n",
       "    <tr>\n",
       "      <th>kbin__PTT</th>\n",
       "      <td>0.009603</td>\n",
       "    </tr>\n",
       "    <tr>\n",
       "      <th>kbin__HCO3</th>\n",
       "      <td>0.010471</td>\n",
       "    </tr>\n",
       "    <tr>\n",
       "      <th>kbin__Bilirubin_direct</th>\n",
       "      <td>0.010508</td>\n",
       "    </tr>\n",
       "    <tr>\n",
       "      <th>kbin__Hct</th>\n",
       "      <td>0.011739</td>\n",
       "    </tr>\n",
       "    <tr>\n",
       "      <th>kbin__TroponinI</th>\n",
       "      <td>0.015129</td>\n",
       "    </tr>\n",
       "    <tr>\n",
       "      <th>Gender</th>\n",
       "      <td>0.015967</td>\n",
       "    </tr>\n",
       "    <tr>\n",
       "      <th>kbin__Resp</th>\n",
       "      <td>0.016388</td>\n",
       "    </tr>\n",
       "    <tr>\n",
       "      <th>kbin__BaseExcess</th>\n",
       "      <td>0.017370</td>\n",
       "    </tr>\n",
       "    <tr>\n",
       "      <th>kbin__AST</th>\n",
       "      <td>0.022926</td>\n",
       "    </tr>\n",
       "    <tr>\n",
       "      <th>kbin__Creatinine</th>\n",
       "      <td>0.023182</td>\n",
       "    </tr>\n",
       "    <tr>\n",
       "      <th>kbin__Potassium</th>\n",
       "      <td>0.023389</td>\n",
       "    </tr>\n",
       "    <tr>\n",
       "      <th>kbin__BUN</th>\n",
       "      <td>0.024668</td>\n",
       "    </tr>\n",
       "    <tr>\n",
       "      <th>kbin__WBC</th>\n",
       "      <td>0.025422</td>\n",
       "    </tr>\n",
       "    <tr>\n",
       "      <th>kbin__Alkalinephos</th>\n",
       "      <td>0.025483</td>\n",
       "    </tr>\n",
       "    <tr>\n",
       "      <th>kbin__Bilirubin_total</th>\n",
       "      <td>0.028202</td>\n",
       "    </tr>\n",
       "    <tr>\n",
       "      <th>kbin__Lactate</th>\n",
       "      <td>0.035204</td>\n",
       "    </tr>\n",
       "    <tr>\n",
       "      <th>kbin__Temp</th>\n",
       "      <td>0.035873</td>\n",
       "    </tr>\n",
       "    <tr>\n",
       "      <th>kbin__PaCO2</th>\n",
       "      <td>0.050728</td>\n",
       "    </tr>\n",
       "    <tr>\n",
       "      <th>kbin__SaO2</th>\n",
       "      <td>0.053737</td>\n",
       "    </tr>\n",
       "    <tr>\n",
       "      <th>kbin__pH</th>\n",
       "      <td>0.064096</td>\n",
       "    </tr>\n",
       "    <tr>\n",
       "      <th>kbin__FiO2</th>\n",
       "      <td>0.083273</td>\n",
       "    </tr>\n",
       "    <tr>\n",
       "      <th>kbin__HospAdmTime</th>\n",
       "      <td>0.096077</td>\n",
       "    </tr>\n",
       "    <tr>\n",
       "      <th>kbin__HR</th>\n",
       "      <td>0.139912</td>\n",
       "    </tr>\n",
       "    <tr>\n",
       "      <th>kbin__ICULOS</th>\n",
       "      <td>0.154928</td>\n",
       "    </tr>\n",
       "    <tr>\n",
       "      <th>kbin__EtCO2</th>\n",
       "      <td>0.224191</td>\n",
       "    </tr>\n",
       "  </tbody>\n",
       "</table>\n",
       "</div>"
      ],
      "text/plain": [
       "                            coef\n",
       "name                            \n",
       "kbin__DBP              -0.060502\n",
       "kbin__MAP              -0.033126\n",
       "kbin__O2Sat            -0.028756\n",
       "kbin__SBP              -0.026194\n",
       "kbin__Unit1            -0.008306\n",
       "kbin__Unit2            -0.008306\n",
       "kbin__Magnesium        -0.006511\n",
       "kbin__Calcium          -0.005474\n",
       "kbin__Platelets        -0.003461\n",
       "Age                    -0.002670\n",
       "kbin__Hgb              -0.001408\n",
       "kbin__Fibrinogen        0.002309\n",
       "kbin__Phosphate         0.005677\n",
       "kbin__Chloride          0.008449\n",
       "kbin__Glucose           0.008536\n",
       "kbin__PTT               0.009603\n",
       "kbin__HCO3              0.010471\n",
       "kbin__Bilirubin_direct  0.010508\n",
       "kbin__Hct               0.011739\n",
       "kbin__TroponinI         0.015129\n",
       "Gender                  0.015967\n",
       "kbin__Resp              0.016388\n",
       "kbin__BaseExcess        0.017370\n",
       "kbin__AST               0.022926\n",
       "kbin__Creatinine        0.023182\n",
       "kbin__Potassium         0.023389\n",
       "kbin__BUN               0.024668\n",
       "kbin__WBC               0.025422\n",
       "kbin__Alkalinephos      0.025483\n",
       "kbin__Bilirubin_total   0.028202\n",
       "kbin__Lactate           0.035204\n",
       "kbin__Temp              0.035873\n",
       "kbin__PaCO2             0.050728\n",
       "kbin__SaO2              0.053737\n",
       "kbin__pH                0.064096\n",
       "kbin__FiO2              0.083273\n",
       "kbin__HospAdmTime       0.096077\n",
       "kbin__HR                0.139912\n",
       "kbin__ICULOS            0.154928\n",
       "kbin__EtCO2             0.224191"
      ]
     },
     "execution_count": 24,
     "metadata": {},
     "output_type": "execute_result"
    }
   ],
   "source": [
    "import pandas as pd\n",
    "pd.DataFrame({'name': est.feature_names_in_,\n",
    "              'coef': est.coef_.ravel()}).set_index('name').sort_values('coef')"
   ]
  },
  {
   "cell_type": "code",
   "execution_count": 31,
   "id": "69622e18",
   "metadata": {},
   "outputs": [
    {
     "data": {
      "text/html": [
       "<div>\n",
       "<style scoped>\n",
       "    .dataframe tbody tr th:only-of-type {\n",
       "        vertical-align: middle;\n",
       "    }\n",
       "\n",
       "    .dataframe tbody tr th {\n",
       "        vertical-align: top;\n",
       "    }\n",
       "\n",
       "    .dataframe thead th {\n",
       "        text-align: right;\n",
       "    }\n",
       "</style>\n",
       "<table border=\"1\" class=\"dataframe\">\n",
       "  <thead>\n",
       "    <tr style=\"text-align: right;\">\n",
       "      <th>SepsisLabel</th>\n",
       "      <th>0</th>\n",
       "      <th>1</th>\n",
       "    </tr>\n",
       "    <tr>\n",
       "      <th>kbin__ICULOS</th>\n",
       "      <th></th>\n",
       "      <th></th>\n",
       "    </tr>\n",
       "  </thead>\n",
       "  <tbody>\n",
       "    <tr>\n",
       "      <th>0.0</th>\n",
       "      <td>108125</td>\n",
       "      <td>1590</td>\n",
       "    </tr>\n",
       "    <tr>\n",
       "      <th>1.0</th>\n",
       "      <td>123817</td>\n",
       "      <td>1181</td>\n",
       "    </tr>\n",
       "    <tr>\n",
       "      <th>2.0</th>\n",
       "      <td>120717</td>\n",
       "      <td>834</td>\n",
       "    </tr>\n",
       "    <tr>\n",
       "      <th>3.0</th>\n",
       "      <td>123376</td>\n",
       "      <td>862</td>\n",
       "    </tr>\n",
       "    <tr>\n",
       "      <th>4.0</th>\n",
       "      <td>124978</td>\n",
       "      <td>4116</td>\n",
       "    </tr>\n",
       "  </tbody>\n",
       "</table>\n",
       "</div>"
      ],
      "text/plain": [
       "SepsisLabel        0     1\n",
       "kbin__ICULOS              \n",
       "0.0           108125  1590\n",
       "1.0           123817  1181\n",
       "2.0           120717   834\n",
       "3.0           123376   862\n",
       "4.0           124978  4116"
      ]
     },
     "execution_count": 31,
     "metadata": {},
     "output_type": "execute_result"
    }
   ],
   "source": [
    "pd.crosstab(X_tr.kbin__ICULOS, y_tr)"
   ]
  },
  {
   "cell_type": "code",
   "execution_count": 52,
   "id": "6f8f09d2",
   "metadata": {},
   "outputs": [],
   "source": [
    "from tablebench.core.data_source import PhysioNetDataSource\n",
    "raw_data = PhysioNetDataSource(cache_dir=cache_dir).get_data()"
   ]
  },
  {
   "cell_type": "code",
   "execution_count": 56,
   "id": "435a8f8d",
   "metadata": {},
   "outputs": [
    {
     "data": {
      "text/plain": [
       "0.0      1.0\n",
       "0.1      5.0\n",
       "0.2      9.0\n",
       "0.3     13.0\n",
       "0.4     17.0\n",
       "0.5     21.0\n",
       "0.6     26.0\n",
       "0.7     31.0\n",
       "0.8     38.0\n",
       "0.9     47.0\n",
       "1.0    336.0\n",
       "Name: ICULOS, dtype: float64"
      ]
     },
     "execution_count": 56,
     "metadata": {},
     "output_type": "execute_result"
    }
   ],
   "source": [
    "import numpy as np\n",
    "raw_data['ICULOS'].quantile(np.linspace(0,1,11))"
   ]
  },
  {
   "cell_type": "code",
   "execution_count": null,
   "id": "53889530",
   "metadata": {},
   "outputs": [],
   "source": []
  }
 ],
 "metadata": {
  "kernelspec": {
   "display_name": "Python 3 (ipykernel)",
   "language": "python",
   "name": "python3"
  },
  "language_info": {
   "codemirror_mode": {
    "name": "ipython",
    "version": 3
   },
   "file_extension": ".py",
   "mimetype": "text/x-python",
   "name": "python",
   "nbconvert_exporter": "python",
   "pygments_lexer": "ipython3",
   "version": "3.8.15"
  }
 },
 "nbformat": 4,
 "nbformat_minor": 5
}
