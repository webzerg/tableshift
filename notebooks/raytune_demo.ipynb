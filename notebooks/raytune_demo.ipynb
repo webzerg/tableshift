{
 "cells": [
  {
   "cell_type": "code",
   "execution_count": 1,
   "metadata": {},
   "outputs": [],
   "source": [
    "import numpy as np\n",
    "import torch\n",
    "import torch.optim as optim\n",
    "import torch.nn as nn\n",
    "from torchvision import datasets, transforms\n",
    "from torch.utils.data import DataLoader\n",
    "import torch.nn.functional as F\n",
    "\n",
    "from ray import air, tune\n",
    "from ray.tune.schedulers import ASHAScheduler"
   ]
  },
  {
   "cell_type": "code",
   "execution_count": 2,
   "metadata": {},
   "outputs": [],
   "source": [
    "# extra imports for tablebench example\n",
    "import rtdl\n",
    "from tablebench.core import TabularDataset, TabularDatasetConfig\n",
    "\n",
    "from tablebench.datasets.experiment_configs import EXPERIMENT_CONFIGS\n",
    "from tablebench.models import get_estimator"
   ]
  },
  {
   "cell_type": "code",
   "execution_count": 3,
   "metadata": {},
   "outputs": [],
   "source": [
    "experiment = \"adult\"\n",
    "expt_config = EXPERIMENT_CONFIGS[experiment]"
   ]
  },
  {
   "cell_type": "code",
   "execution_count": 4,
   "metadata": {},
   "outputs": [
    {
     "name": "stdout",
     "output_type": "stream",
     "text": [
      "[DEBUG] not downloading https://archive.ics.uci.edu/ml/machine-learning-databases/adult/adult.data; exists at tmp/adult.data\n",
      "[DEBUG] not downloading https://archive.ics.uci.edu/ml/machine-learning-databases/adult/adult.names; exists at tmp/adult.names\n",
      "[DEBUG] not downloading https://archive.ics.uci.edu/ml/machine-learning-databases/adult/adult.test; exists at tmp/adult.test\n",
      "[DEBUG] dropping data columns not in FeatureList: ['fnlwgt']\n",
      "[DEBUG] checking feature Age\n",
      "[DEBUG] casting feature Age from dtype int64 to dtype float\n",
      "[DEBUG] checking feature Workclass\n",
      "[DEBUG] casting feature Workclass from dtype object to dtype CategoricalDtype\n",
      "[DEBUG] checking feature Education-Num\n",
      "[DEBUG] casting feature Education-Num from dtype int64 to dtype CategoricalDtype\n",
      "[DEBUG] checking feature Marital Status\n",
      "[DEBUG] casting feature Marital Status from dtype object to dtype CategoricalDtype\n",
      "[DEBUG] checking feature Occupation\n",
      "[DEBUG] casting feature Occupation from dtype object to dtype CategoricalDtype\n",
      "[DEBUG] checking feature Relationship\n",
      "[DEBUG] casting feature Relationship from dtype object to dtype CategoricalDtype\n",
      "[DEBUG] checking feature Race\n",
      "[DEBUG] casting feature Race from dtype object to dtype CategoricalDtype\n",
      "[DEBUG] checking feature Sex\n",
      "[DEBUG] casting feature Sex from dtype object to dtype CategoricalDtype\n",
      "[DEBUG] checking feature Capital Gain\n",
      "[DEBUG] casting feature Capital Gain from dtype int64 to dtype float\n",
      "[DEBUG] checking feature Capital Loss\n",
      "[DEBUG] casting feature Capital Loss from dtype int64 to dtype float\n",
      "[DEBUG] checking feature Hours per week\n",
      "[DEBUG] casting feature Hours per week from dtype int64 to dtype float\n",
      "[DEBUG] checking feature Country\n",
      "[DEBUG] casting feature Country from dtype object to dtype CategoricalDtype\n",
      "[DEBUG] checking feature Target\n",
      "[DEBUG] dropped 0 rows containing missing values (0.0% of data).\n",
      "[DEBUG] overall counts after grouping:\n",
      "Sex       0      1\n",
      "Race              \n",
      "0      3165   3915\n",
      "1     13027  28735\n",
      "[DEBUG] printing post-transform feature summary\n",
      "scale_Age__Age: mean 0.0032136191643880267, std 1.0080549617309507\n",
      "scale_Capital Gain__Capital Gain: mean 9.933609069753339e-05, std 1.0186280300324413\n",
      "scale_Capital Loss__Capital Loss: mean 0.0016719474040243652, std 1.0032166136534697\n",
      "scale_Hours per week__Hours per week: mean -0.0008620172387195973, std 1.005486135774981\n"
     ]
    }
   ],
   "source": [
    "dataset_config = TabularDatasetConfig()\n",
    "dset = TabularDataset(experiment,\n",
    "                      config=dataset_config,\n",
    "                      splitter=expt_config.splitter,\n",
    "                      grouper=expt_config.grouper,\n",
    "                      preprocessor_config=expt_config.preprocessor_config,\n",
    "                      **expt_config.tabular_dataset_kwargs)\n",
    "train_loader = dset.get_dataloader(\"train\", 512)\n",
    "loaders = {s: dset.get_dataloader(s, 2048) for s in (\"validation\", \"test\")}"
   ]
  },
  {
   "cell_type": "code",
   "execution_count": 5,
   "metadata": {},
   "outputs": [],
   "source": [
    "def train_adult(config):\n",
    "    loss_fn = F.binary_cross_entropy_with_logits\n",
    "    \n",
    "    model = get_estimator(\"mlp\", d_in=dset.X_shape[1], d_layers=[config[\"d_hidden\"]] * config[\"num_layers\"])\n",
    "    optimizer = (\n",
    "        model.make_default_optimizer()\n",
    "        if isinstance(model, rtdl.FTTransformer)\n",
    "        else torch.optim.AdamW(model.parameters(), lr=config[\"lr\"], weight_decay=config[\"weight_decay\"]))\n",
    "    \n",
    "    # Fit the model; results on validation split are reported to tune.\n",
    "    model.fit(train_loader, optimizer, loss_fn, n_epochs=5, other_loaders=loaders, tune_report_split=\"validation\")"
   ]
  },
  {
   "cell_type": "code",
   "execution_count": 8,
   "metadata": {},
   "outputs": [
    {
     "data": {
      "text/html": [
       "<div class=\"tuneStatus\">\n",
       "  <div style=\"display: flex;flex-direction: row\">\n",
       "    <div style=\"display: flex;flex-direction: column;\">\n",
       "      <h3>Tune Status</h3>\n",
       "      <table>\n",
       "<tbody>\n",
       "<tr><td>Current time:</td><td>2022-11-23 16:59:45</td></tr>\n",
       "<tr><td>Running for: </td><td>00:01:00.04        </td></tr>\n",
       "<tr><td>Memory:      </td><td>5.4/8.0 GiB        </td></tr>\n",
       "</tbody>\n",
       "</table>\n",
       "    </div>\n",
       "    <div class=\"vDivider\"></div>\n",
       "    <div class=\"systemInfo\">\n",
       "      <h3>System Info</h3>\n",
       "      Using FIFO scheduling algorithm.<br>Resources requested: 0/4 CPUs, 0/0 GPUs, 0.0/2.21 GiB heap, 0.0/1.1 GiB objects\n",
       "    </div>\n",
       "    \n",
       "  </div>\n",
       "  <div class=\"hDivider\"></div>\n",
       "  <div class=\"trialStatus\">\n",
       "    <h3>Trial Status</h3>\n",
       "    <table>\n",
       "<thead>\n",
       "<tr><th>Trial name             </th><th>status    </th><th>loc            </th><th style=\"text-align: right;\">  d_hidden</th><th style=\"text-align: right;\">     lr</th><th style=\"text-align: right;\">  num_layers</th><th style=\"text-align: right;\">  weight_decay</th><th style=\"text-align: right;\">  iter</th><th style=\"text-align: right;\">  total time (s)</th><th style=\"text-align: right;\">  _metric</th></tr>\n",
       "</thead>\n",
       "<tbody>\n",
       "<tr><td>train_adult_00348_00000</td><td>TERMINATED</td><td>127.0.0.1:14610</td><td style=\"text-align: right;\">       512</td><td style=\"text-align: right;\">0.08845</td><td style=\"text-align: right;\">           3</td><td style=\"text-align: right;\">           0.5</td><td style=\"text-align: right;\">     5</td><td style=\"text-align: right;\">         37.3202</td><td style=\"text-align: right;\"> 0.849036</td></tr>\n",
       "<tr><td>train_adult_00348_00001</td><td>TERMINATED</td><td>127.0.0.1:14620</td><td style=\"text-align: right;\">       256</td><td style=\"text-align: right;\">0.0616 </td><td style=\"text-align: right;\">           2</td><td style=\"text-align: right;\">           0  </td><td style=\"text-align: right;\">     5</td><td style=\"text-align: right;\">         20.4035</td><td style=\"text-align: right;\"> 0.856774</td></tr>\n",
       "<tr><td>train_adult_00348_00002</td><td>TERMINATED</td><td>127.0.0.1:14623</td><td style=\"text-align: right;\">       128</td><td style=\"text-align: right;\">0.0013 </td><td style=\"text-align: right;\">           1</td><td style=\"text-align: right;\">           0.1</td><td style=\"text-align: right;\">     5</td><td style=\"text-align: right;\">         12.8179</td><td style=\"text-align: right;\"> 0.854686</td></tr>\n",
       "<tr><td>train_adult_00348_00003</td><td>TERMINATED</td><td>127.0.0.1:14626</td><td style=\"text-align: right;\">       512</td><td style=\"text-align: right;\">0.0427 </td><td style=\"text-align: right;\">           3</td><td style=\"text-align: right;\">           0  </td><td style=\"text-align: right;\">     5</td><td style=\"text-align: right;\">         21.8927</td><td style=\"text-align: right;\"> 0.857389</td></tr>\n",
       "<tr><td>train_adult_00348_00004</td><td>TERMINATED</td><td>127.0.0.1:14623</td><td style=\"text-align: right;\">       256</td><td style=\"text-align: right;\">0.0129 </td><td style=\"text-align: right;\">           3</td><td style=\"text-align: right;\">           0.3</td><td style=\"text-align: right;\">     5</td><td style=\"text-align: right;\">         11.2077</td><td style=\"text-align: right;\"> 0.856283</td></tr>\n",
       "</tbody>\n",
       "</table>\n",
       "  </div>\n",
       "</div>\n",
       "<style>\n",
       ".tuneStatus {\n",
       "  color: var(--jp-ui-font-color1);\n",
       "}\n",
       ".tuneStatus .systemInfo {\n",
       "  display: flex;\n",
       "  flex-direction: column;\n",
       "}\n",
       ".tuneStatus td {\n",
       "  white-space: nowrap;\n",
       "}\n",
       ".tuneStatus .trialStatus {\n",
       "  display: flex;\n",
       "  flex-direction: column;\n",
       "}\n",
       ".tuneStatus h3 {\n",
       "  font-weight: bold;\n",
       "}\n",
       ".tuneStatus .hDivider {\n",
       "  border-bottom-width: var(--jp-border-width);\n",
       "  border-bottom-color: var(--jp-border-color0);\n",
       "  border-bottom-style: solid;\n",
       "}\n",
       ".tuneStatus .vDivider {\n",
       "  border-left-width: var(--jp-border-width);\n",
       "  border-left-color: var(--jp-border-color0);\n",
       "  border-left-style: solid;\n",
       "  margin: 0.5em 1em 0.5em 1em;\n",
       "}\n",
       "</style>\n"
      ],
      "text/plain": [
       "<IPython.core.display.HTML object>"
      ]
     },
     "metadata": {},
     "output_type": "display_data"
    },
    {
     "name": "stderr",
     "output_type": "stream",
     "text": [
      "2022-11-23 16:58:56,997\tWARNING worker.py:1839 -- Warning: The actor ImplicitFunc is very large (58 MiB). Check that its definition is not implicitly capturing a large array or other object in scope. Tip: use ray.put() to put large objects in the Ray object store.\n",
      "2022-11-23 16:58:57,994\tWARNING util.py:244 -- The `start_trial` operation took 2.389 s, which may be a performance bottleneck.\n",
      "2022-11-23 16:59:06,541\tWARNING util.py:244 -- The `start_trial` operation took 1.272 s, which may be a performance bottleneck.\n"
     ]
    },
    {
     "name": "stdout",
     "output_type": "stream",
     "text": [
      "\u001b[2m\u001b[36m(train_adult pid=14610)\u001b[0m Epoch 001 train score: 0.8482 | validation score: 0.8455 | test score: 0.8480\n"
     ]
    },
    {
     "name": "stderr",
     "output_type": "stream",
     "text": [
      "2022-11-23 16:59:13,821\tWARNING util.py:244 -- The `start_trial` operation took 1.183 s, which may be a performance bottleneck.\n"
     ]
    },
    {
     "name": "stdout",
     "output_type": "stream",
     "text": [
      "\u001b[2m\u001b[36m(train_adult pid=14620)\u001b[0m Epoch 001 train score: 0.8511 | validation score: 0.8511 | test score: 0.8509\n"
     ]
    },
    {
     "name": "stderr",
     "output_type": "stream",
     "text": [
      "2022-11-23 16:59:19,038\tWARNING util.py:244 -- The `start_trial` operation took 1.320 s, which may be a performance bottleneck.\n"
     ]
    },
    {
     "name": "stdout",
     "output_type": "stream",
     "text": [
      "\u001b[2m\u001b[36m(train_adult pid=14623)\u001b[0m Epoch 001 train score: 0.8309 | validation score: 0.8299 | test score: 0.8316\n"
     ]
    },
    {
     "data": {
      "text/html": [
       "<div class=\"trialProgress\">\n",
       "  <h3>Trial Progress</h3>\n",
       "  <table>\n",
       "<thead>\n",
       "<tr><th>Trial name             </th><th style=\"text-align: right;\">  _metric</th><th>date               </th><th>done  </th><th>episodes_total  </th><th>experiment_id                   </th><th>experiment_tag                                           </th><th>hostname                    </th><th style=\"text-align: right;\">  iterations_since_restore</th><th>node_ip  </th><th style=\"text-align: right;\">  pid</th><th style=\"text-align: right;\">  time_since_restore</th><th style=\"text-align: right;\">  time_this_iter_s</th><th style=\"text-align: right;\">  time_total_s</th><th style=\"text-align: right;\">  timestamp</th><th style=\"text-align: right;\">  timesteps_since_restore</th><th>timesteps_total  </th><th style=\"text-align: right;\">  training_iteration</th><th style=\"text-align: right;\">   trial_id</th><th style=\"text-align: right;\">  warmup_time</th></tr>\n",
       "</thead>\n",
       "<tbody>\n",
       "<tr><td>train_adult_00348_00000</td><td style=\"text-align: right;\"> 0.849036</td><td>2022-11-23_16-59-42</td><td>True  </td><td>                </td><td>adbea1b6041c407799163f08f6097dd7</td><td>0_d_hidden=512,lr=0.0885,num_layers=3,weight_decay=0.5000</td><td>Joshuas-MacBook-Pro-10.local</td><td style=\"text-align: right;\">                         5</td><td>127.0.0.1</td><td style=\"text-align: right;\">14610</td><td style=\"text-align: right;\">             37.3202</td><td style=\"text-align: right;\">           3.94653</td><td style=\"text-align: right;\">       37.3202</td><td style=\"text-align: right;\"> 1669240782</td><td style=\"text-align: right;\">                        0</td><td>                 </td><td style=\"text-align: right;\">                   5</td><td style=\"text-align: right;\">00348_00000</td><td style=\"text-align: right;\">   0.00669622</td></tr>\n",
       "<tr><td>train_adult_00348_00001</td><td style=\"text-align: right;\"> 0.856774</td><td>2022-11-23_16-59-33</td><td>True  </td><td>                </td><td>3d668c8411d8422081205db6efafbc28</td><td>1_d_hidden=256,lr=0.0616,num_layers=2,weight_decay=0.0000</td><td>Joshuas-MacBook-Pro-10.local</td><td style=\"text-align: right;\">                         5</td><td>127.0.0.1</td><td style=\"text-align: right;\">14620</td><td style=\"text-align: right;\">             20.4035</td><td style=\"text-align: right;\">           2.21829</td><td style=\"text-align: right;\">       20.4035</td><td style=\"text-align: right;\"> 1669240773</td><td style=\"text-align: right;\">                        0</td><td>                 </td><td style=\"text-align: right;\">                   5</td><td style=\"text-align: right;\">00348_00001</td><td style=\"text-align: right;\">   0.00395894</td></tr>\n",
       "<tr><td>train_adult_00348_00002</td><td style=\"text-align: right;\"> 0.854686</td><td>2022-11-23_16-59-30</td><td>True  </td><td>                </td><td>5ca2c5154bc24dc685ead74e9ce865a0</td><td>2_d_hidden=128,lr=0.0013,num_layers=1,weight_decay=0.1000</td><td>Joshuas-MacBook-Pro-10.local</td><td style=\"text-align: right;\">                         5</td><td>127.0.0.1</td><td style=\"text-align: right;\">14623</td><td style=\"text-align: right;\">             12.8179</td><td style=\"text-align: right;\">           2.11711</td><td style=\"text-align: right;\">       12.8179</td><td style=\"text-align: right;\"> 1669240770</td><td style=\"text-align: right;\">                        0</td><td>                 </td><td style=\"text-align: right;\">                   5</td><td style=\"text-align: right;\">00348_00002</td><td style=\"text-align: right;\">   0.00308609</td></tr>\n",
       "<tr><td>train_adult_00348_00003</td><td style=\"text-align: right;\"> 0.857389</td><td>2022-11-23_16-59-45</td><td>True  </td><td>                </td><td>07b32efe9eac4daeb8b05191982228b1</td><td>3_d_hidden=512,lr=0.0427,num_layers=3,weight_decay=0.0000</td><td>Joshuas-MacBook-Pro-10.local</td><td style=\"text-align: right;\">                         5</td><td>127.0.0.1</td><td style=\"text-align: right;\">14626</td><td style=\"text-align: right;\">             21.8927</td><td style=\"text-align: right;\">           2.50624</td><td style=\"text-align: right;\">       21.8927</td><td style=\"text-align: right;\"> 1669240785</td><td style=\"text-align: right;\">                        0</td><td>                 </td><td style=\"text-align: right;\">                   5</td><td style=\"text-align: right;\">00348_00003</td><td style=\"text-align: right;\">   0.00345922</td></tr>\n",
       "<tr><td>train_adult_00348_00004</td><td style=\"text-align: right;\"> 0.856283</td><td>2022-11-23_16-59-41</td><td>True  </td><td>                </td><td>5ca2c5154bc24dc685ead74e9ce865a0</td><td>4_d_hidden=256,lr=0.0129,num_layers=3,weight_decay=0.3000</td><td>Joshuas-MacBook-Pro-10.local</td><td style=\"text-align: right;\">                         5</td><td>127.0.0.1</td><td style=\"text-align: right;\">14623</td><td style=\"text-align: right;\">             11.2077</td><td style=\"text-align: right;\">           2.21475</td><td style=\"text-align: right;\">       11.2077</td><td style=\"text-align: right;\"> 1669240781</td><td style=\"text-align: right;\">                        0</td><td>                 </td><td style=\"text-align: right;\">                   5</td><td style=\"text-align: right;\">00348_00004</td><td style=\"text-align: right;\">   0.00308609</td></tr>\n",
       "</tbody>\n",
       "</table>\n",
       "</div>\n",
       "<style>\n",
       ".trialProgress {\n",
       "  display: flex;\n",
       "  flex-direction: column;\n",
       "  color: var(--jp-ui-font-color1);\n",
       "}\n",
       ".trialProgress h3 {\n",
       "  font-weight: bold;\n",
       "}\n",
       ".trialProgress td {\n",
       "  white-space: nowrap;\n",
       "}\n",
       "</style>\n"
      ],
      "text/plain": [
       "<IPython.core.display.HTML object>"
      ]
     },
     "metadata": {},
     "output_type": "display_data"
    },
    {
     "name": "stdout",
     "output_type": "stream",
     "text": [
      "\u001b[2m\u001b[36m(train_adult pid=14623)\u001b[0m Epoch 002 train score: 0.8483 | validation score: 0.8511 | test score: 0.8498\n",
      "\u001b[2m\u001b[36m(train_adult pid=14620)\u001b[0m Epoch 002 train score: 0.8489 | validation score: 0.8444 | test score: 0.8458\n",
      "\u001b[2m\u001b[36m(train_adult pid=14623)\u001b[0m Epoch 003 train score: 0.8527 | validation score: 0.8528 | test score: 0.8514\n",
      "\u001b[2m\u001b[36m(train_adult pid=14620)\u001b[0m Epoch 003 train score: 0.8586 | validation score: 0.8559 | test score: 0.8548\n",
      "\u001b[2m\u001b[36m(train_adult pid=14623)\u001b[0m Epoch 004 train score: 0.8547 | validation score: 0.8542 | test score: 0.8557\n",
      "\u001b[2m\u001b[36m(train_adult pid=14610)\u001b[0m Epoch 002 train score: 0.8552 | validation score: 0.8536 | test score: 0.8533\n",
      "\u001b[2m\u001b[36m(train_adult pid=14626)\u001b[0m Epoch 001 train score: 0.8512 | validation score: 0.8526 | test score: 0.8468\n",
      "\u001b[2m\u001b[36m(train_adult pid=14623)\u001b[0m Epoch 005 train score: 0.8563 | validation score: 0.8547 | test score: 0.8562\n",
      "\u001b[2m\u001b[36m(train_adult pid=14620)\u001b[0m Epoch 004 train score: 0.8605 | validation score: 0.8546 | test score: 0.8528\n",
      "\u001b[2m\u001b[36m(train_adult pid=14620)\u001b[0m Epoch 005 train score: 0.8624 | validation score: 0.8568 | test score: 0.8525\n",
      "\u001b[2m\u001b[36m(train_adult pid=14623)\u001b[0m Epoch 001 train score: 0.8536 | validation score: 0.8504 | test score: 0.8518\n",
      "\u001b[2m\u001b[36m(train_adult pid=14610)\u001b[0m Epoch 003 train score: 0.8532 | validation score: 0.8509 | test score: 0.8526\n",
      "\u001b[2m\u001b[36m(train_adult pid=14626)\u001b[0m Epoch 002 train score: 0.8578 | validation score: 0.8558 | test score: 0.8525\n",
      "\u001b[2m\u001b[36m(train_adult pid=14623)\u001b[0m Epoch 002 train score: 0.8582 | validation score: 0.8539 | test score: 0.8575\n",
      "\u001b[2m\u001b[36m(train_adult pid=14623)\u001b[0m Epoch 003 train score: 0.8604 | validation score: 0.8574 | test score: 0.8553\n",
      "\u001b[2m\u001b[36m(train_adult pid=14610)\u001b[0m Epoch 004 train score: 0.8445 | validation score: 0.8433 | test score: 0.8432\n",
      "\u001b[2m\u001b[36m(train_adult pid=14626)\u001b[0m Epoch 003 train score: 0.8600 | validation score: 0.8578 | test score: 0.8546\n",
      "\u001b[2m\u001b[36m(train_adult pid=14623)\u001b[0m Epoch 004 train score: 0.8576 | validation score: 0.8512 | test score: 0.8496\n",
      "\u001b[2m\u001b[36m(train_adult pid=14623)\u001b[0m Epoch 005 train score: 0.8647 | validation score: 0.8563 | test score: 0.8550\n",
      "\u001b[2m\u001b[36m(train_adult pid=14610)\u001b[0m Epoch 005 train score: 0.8522 | validation score: 0.8490 | test score: 0.8514\n",
      "\u001b[2m\u001b[36m(train_adult pid=14626)\u001b[0m Epoch 004 train score: 0.8591 | validation score: 0.8538 | test score: 0.8496\n"
     ]
    },
    {
     "name": "stderr",
     "output_type": "stream",
     "text": [
      "2022-11-23 16:59:45,369\tINFO tune.py:777 -- Total run time: 61.44 seconds (60.03 seconds for the tuning loop).\n"
     ]
    },
    {
     "name": "stdout",
     "output_type": "stream",
     "text": [
      "\u001b[2m\u001b[36m(train_adult pid=14626)\u001b[0m Epoch 005 train score: 0.8628 | validation score: 0.8574 | test score: 0.8538\n"
     ]
    }
   ],
   "source": [
    "search_space = {\n",
    "    # Sample a float uniformly between 0.0001 and 0.1, while\n",
    "    # sampling in log space and rounding to multiples of 0.00005\n",
    "    \"lr\": tune.qloguniform(1e-4, 1e-1, 5e-5),\n",
    "    \n",
    "    # Sample a float uniformly between 0 and 1,\n",
    "    # rounding to multiples of 0.1\n",
    "    \"weight_decay\": tune.quniform(0., 1., 0.1),\n",
    "    \n",
    "    # Random integer between 1 and 4\n",
    "    \"num_layers\": tune.randint(1,4),\n",
    "    \n",
    "    # Random integer from set\n",
    "    \"d_hidden\": tune.choice([64, 128, 256, 512])\n",
    "}\n",
    "\n",
    "\n",
    "tuner = tune.Tuner(\n",
    "    train_adult,\n",
    "    param_space=search_space,\n",
    "    tune_config=tune.tune_config.TuneConfig(num_samples=5),\n",
    "    run_config=air.RunConfig(local_dir=\"./results\", name=\"test_experiment\"),\n",
    ")\n",
    "results = tuner.fit()"
   ]
  },
  {
   "cell_type": "code",
   "execution_count": 9,
   "metadata": {},
   "outputs": [
    {
     "name": "stdout",
     "output_type": "stream",
     "text": [
      "/Users/jpgard/Documents/github/tablebench/notebooks/results/test_experiment/train_adult_00348_00000_0_d_hidden=512,lr=0.0885,num_layers=3,weight_decay=0.5000_2022-11-23_16-58-55\n"
     ]
    },
    {
     "data": {
      "text/html": [
       "<div>\n",
       "<style scoped>\n",
       "    .dataframe tbody tr th:only-of-type {\n",
       "        vertical-align: middle;\n",
       "    }\n",
       "\n",
       "    .dataframe tbody tr th {\n",
       "        vertical-align: top;\n",
       "    }\n",
       "\n",
       "    .dataframe thead th {\n",
       "        text-align: right;\n",
       "    }\n",
       "</style>\n",
       "<table border=\"1\" class=\"dataframe\">\n",
       "  <thead>\n",
       "    <tr style=\"text-align: right;\">\n",
       "      <th></th>\n",
       "      <th>_metric</th>\n",
       "      <th>time_this_iter_s</th>\n",
       "      <th>done</th>\n",
       "      <th>timesteps_total</th>\n",
       "      <th>episodes_total</th>\n",
       "      <th>training_iteration</th>\n",
       "      <th>trial_id</th>\n",
       "      <th>experiment_id</th>\n",
       "      <th>date</th>\n",
       "      <th>timestamp</th>\n",
       "      <th>time_total_s</th>\n",
       "      <th>pid</th>\n",
       "      <th>hostname</th>\n",
       "      <th>node_ip</th>\n",
       "      <th>time_since_restore</th>\n",
       "      <th>timesteps_since_restore</th>\n",
       "      <th>iterations_since_restore</th>\n",
       "      <th>warmup_time</th>\n",
       "    </tr>\n",
       "  </thead>\n",
       "  <tbody>\n",
       "    <tr>\n",
       "      <th>0</th>\n",
       "      <td>0.845474</td>\n",
       "      <td>3.812520</td>\n",
       "      <td>False</td>\n",
       "      <td>NaN</td>\n",
       "      <td>NaN</td>\n",
       "      <td>1</td>\n",
       "      <td>00348_00000</td>\n",
       "      <td>adbea1b6041c407799163f08f6097dd7</td>\n",
       "      <td>2022-11-23_16-59-09</td>\n",
       "      <td>1669240749</td>\n",
       "      <td>3.812520</td>\n",
       "      <td>14610</td>\n",
       "      <td>Joshuas-MacBook-Pro-10.local</td>\n",
       "      <td>127.0.0.1</td>\n",
       "      <td>3.812520</td>\n",
       "      <td>0</td>\n",
       "      <td>1</td>\n",
       "      <td>0.006696</td>\n",
       "    </tr>\n",
       "    <tr>\n",
       "      <th>1</th>\n",
       "      <td>0.853581</td>\n",
       "      <td>19.890008</td>\n",
       "      <td>False</td>\n",
       "      <td>NaN</td>\n",
       "      <td>NaN</td>\n",
       "      <td>2</td>\n",
       "      <td>00348_00000</td>\n",
       "      <td>adbea1b6041c407799163f08f6097dd7</td>\n",
       "      <td>2022-11-23_16-59-28</td>\n",
       "      <td>1669240768</td>\n",
       "      <td>23.702528</td>\n",
       "      <td>14610</td>\n",
       "      <td>Joshuas-MacBook-Pro-10.local</td>\n",
       "      <td>127.0.0.1</td>\n",
       "      <td>23.702528</td>\n",
       "      <td>0</td>\n",
       "      <td>2</td>\n",
       "      <td>0.006696</td>\n",
       "    </tr>\n",
       "    <tr>\n",
       "      <th>2</th>\n",
       "      <td>0.850878</td>\n",
       "      <td>5.514633</td>\n",
       "      <td>False</td>\n",
       "      <td>NaN</td>\n",
       "      <td>NaN</td>\n",
       "      <td>3</td>\n",
       "      <td>00348_00000</td>\n",
       "      <td>adbea1b6041c407799163f08f6097dd7</td>\n",
       "      <td>2022-11-23_16-59-34</td>\n",
       "      <td>1669240774</td>\n",
       "      <td>29.217161</td>\n",
       "      <td>14610</td>\n",
       "      <td>Joshuas-MacBook-Pro-10.local</td>\n",
       "      <td>127.0.0.1</td>\n",
       "      <td>29.217161</td>\n",
       "      <td>0</td>\n",
       "      <td>3</td>\n",
       "      <td>0.006696</td>\n",
       "    </tr>\n",
       "    <tr>\n",
       "      <th>3</th>\n",
       "      <td>0.843262</td>\n",
       "      <td>4.156528</td>\n",
       "      <td>False</td>\n",
       "      <td>NaN</td>\n",
       "      <td>NaN</td>\n",
       "      <td>4</td>\n",
       "      <td>00348_00000</td>\n",
       "      <td>adbea1b6041c407799163f08f6097dd7</td>\n",
       "      <td>2022-11-23_16-59-38</td>\n",
       "      <td>1669240778</td>\n",
       "      <td>33.373689</td>\n",
       "      <td>14610</td>\n",
       "      <td>Joshuas-MacBook-Pro-10.local</td>\n",
       "      <td>127.0.0.1</td>\n",
       "      <td>33.373689</td>\n",
       "      <td>0</td>\n",
       "      <td>4</td>\n",
       "      <td>0.006696</td>\n",
       "    </tr>\n",
       "    <tr>\n",
       "      <th>4</th>\n",
       "      <td>0.849036</td>\n",
       "      <td>3.946527</td>\n",
       "      <td>False</td>\n",
       "      <td>NaN</td>\n",
       "      <td>NaN</td>\n",
       "      <td>5</td>\n",
       "      <td>00348_00000</td>\n",
       "      <td>adbea1b6041c407799163f08f6097dd7</td>\n",
       "      <td>2022-11-23_16-59-42</td>\n",
       "      <td>1669240782</td>\n",
       "      <td>37.320216</td>\n",
       "      <td>14610</td>\n",
       "      <td>Joshuas-MacBook-Pro-10.local</td>\n",
       "      <td>127.0.0.1</td>\n",
       "      <td>37.320216</td>\n",
       "      <td>0</td>\n",
       "      <td>5</td>\n",
       "      <td>0.006696</td>\n",
       "    </tr>\n",
       "  </tbody>\n",
       "</table>\n",
       "</div>"
      ],
      "text/plain": [
       "    _metric  time_this_iter_s   done  timesteps_total  episodes_total  \\\n",
       "0  0.845474          3.812520  False              NaN             NaN   \n",
       "1  0.853581         19.890008  False              NaN             NaN   \n",
       "2  0.850878          5.514633  False              NaN             NaN   \n",
       "3  0.843262          4.156528  False              NaN             NaN   \n",
       "4  0.849036          3.946527  False              NaN             NaN   \n",
       "\n",
       "   training_iteration     trial_id                     experiment_id  \\\n",
       "0                   1  00348_00000  adbea1b6041c407799163f08f6097dd7   \n",
       "1                   2  00348_00000  adbea1b6041c407799163f08f6097dd7   \n",
       "2                   3  00348_00000  adbea1b6041c407799163f08f6097dd7   \n",
       "3                   4  00348_00000  adbea1b6041c407799163f08f6097dd7   \n",
       "4                   5  00348_00000  adbea1b6041c407799163f08f6097dd7   \n",
       "\n",
       "                  date   timestamp  time_total_s    pid  \\\n",
       "0  2022-11-23_16-59-09  1669240749      3.812520  14610   \n",
       "1  2022-11-23_16-59-28  1669240768     23.702528  14610   \n",
       "2  2022-11-23_16-59-34  1669240774     29.217161  14610   \n",
       "3  2022-11-23_16-59-38  1669240778     33.373689  14610   \n",
       "4  2022-11-23_16-59-42  1669240782     37.320216  14610   \n",
       "\n",
       "                       hostname    node_ip  time_since_restore  \\\n",
       "0  Joshuas-MacBook-Pro-10.local  127.0.0.1            3.812520   \n",
       "1  Joshuas-MacBook-Pro-10.local  127.0.0.1           23.702528   \n",
       "2  Joshuas-MacBook-Pro-10.local  127.0.0.1           29.217161   \n",
       "3  Joshuas-MacBook-Pro-10.local  127.0.0.1           33.373689   \n",
       "4  Joshuas-MacBook-Pro-10.local  127.0.0.1           37.320216   \n",
       "\n",
       "   timesteps_since_restore  iterations_since_restore  warmup_time  \n",
       "0                        0                         1     0.006696  \n",
       "1                        0                         2     0.006696  \n",
       "2                        0                         3     0.006696  \n",
       "3                        0                         4     0.006696  \n",
       "4                        0                         5     0.006696  "
      ]
     },
     "execution_count": 9,
     "metadata": {},
     "output_type": "execute_result"
    }
   ],
   "source": [
    "print(results[0].log_dir)\n",
    "results[0].metrics_dataframe"
   ]
  },
  {
   "cell_type": "code",
   "execution_count": null,
   "metadata": {},
   "outputs": [],
   "source": [
    "dfs = {result.log_dir: result.metrics_dataframe for result in results}\n",
    "[d._metric.plot() for d in dfs.values()]"
   ]
  },
  {
   "cell_type": "code",
   "execution_count": null,
   "metadata": {},
   "outputs": [],
   "source": [
    "list(dfs.values())[0]"
   ]
  },
  {
   "cell_type": "code",
   "execution_count": null,
   "metadata": {},
   "outputs": [],
   "source": [
    "results.__dict__.keys()"
   ]
  },
  {
   "cell_type": "code",
   "execution_count": null,
   "metadata": {},
   "outputs": [],
   "source": []
  }
 ],
 "metadata": {
  "kernelspec": {
   "display_name": "tableshift",
   "language": "python",
   "name": "tableshift"
  },
  "language_info": {
   "codemirror_mode": {
    "name": "ipython",
    "version": 3
   },
   "file_extension": ".py",
   "mimetype": "text/x-python",
   "name": "python",
   "nbconvert_exporter": "python",
   "pygments_lexer": "ipython3",
   "version": "3.8.10"
  }
 },
 "nbformat": 4,
 "nbformat_minor": 2
}
